{
 "cells": [
  {
   "cell_type": "markdown",
   "id": "3d98cfcd",
   "metadata": {},
   "source": [
    "# 4. Pre-Processing and Training Data<a id='4_Pre-Processing_and_Training_Data'></a>"
   ]
  },
  {
   "cell_type": "markdown",
   "id": "4617e343",
   "metadata": {},
   "source": [
    "## 4.1 Contents<a id='4.1_Contents'></a>\n",
    "* [4 Pre-Processing and Training Data](#4_Pre-Processing_and_Training_Data)\n",
    "  * [4.1 Contents](#4.1_Contents)\n",
    "  * [4.2 Introduction](#4.2_Introduction)\n",
    "  * [4.3 Imports](#4.3_Imports)\n",
    "  * [4.4 Load Data](#4.4_Load_Data)\n",
    "  * [4.5 Train/Test Split](#4.5_Train/Test_Split)\n",
    "       * [4.5.1 Home and Away Variables](#4.5.1_Home_and_Away_Variables)\n",
    "       * [4.5.2 X Variables](#4.5.2_X_Variables)     \n",
    "       * [4.5.3 Train Test Split](#4.5.3_Train_Test_Split)     \n",
    "  * [4.6 Linear Regression](#4.6_Linear_Regression)\n",
    "       * [4.6.1 LR Metrics](#4.6.1_LR_Metrics) \n",
    "       * [4.6.2 Cross Validation of Linear Regression](#4.6.2_Cross_Validation_of_Linear_Regression) \n",
    "       * [4.6.3 Grid Search CV for LR](#4.6.3_Grid_Search_CV_for_LR) \n",
    "  * [4.7 Ridge Regression](#4.7_Ridge_Regression)\n",
    "       * [4.7.1 RR Metrics](#4.7.1_RR_Metrics)  \n",
    "       * [4.7.2 Cross Validation of Ridge Regression](#4.7.2_Cross_Validation_of_Ridge_Regression)\n",
    "       * [4.7.3 Grid Search CV for RR](#4.7.3_Grid_Search_CV_for_RR)   \n",
    "  * [4.8 Lasso Regression](#4.8_Lasso_Regression)\n",
    "       * [4.8.1 Lasso Regression Metrics](#4.8.1_Lasso_Regression_Metrics) \n",
    "       * [4.8.2 Cross Validation of Lasso Regression](#4.8.2_Cross_Validation_of_Lasso_Regression)\n",
    "       * [4.8.3 Grid Search CV for Lasso Regression](#4.8.3_Grid_Search_for_Lasso_Regression)\n",
    "  * [4.9 Random Forest Model](#4.9_Random_Forest_Model)\n",
    "       * [4.9.1 RF Metrics](#4.9.1_RF_Metrics)\n",
    "       * [4.9.2 Cross Validation of RF](#4.9.2_Cross_Validation_of_RF)\n",
    "       * [4.9.3 Grid Search CV for Random Forest](#4.9.3_Grid_Search_CV_for_Random_Forest)\n",
    "  * [4.10 Model Metrics](#4.10_Model_Metrics)\n",
    "  * [4.11 Summary](#4.11_Summary)\n"
   ]
  },
  {
   "cell_type": "markdown",
   "id": "8ef37021",
   "metadata": {},
   "source": [
    "## 4.2 Introduction<a id='4.2_Introduction'></a>"
   ]
  },
  {
   "cell_type": "markdown",
   "id": "be3ac95f",
   "metadata": {},
   "source": [
    "   In the last few steps of our data analysis we filled in the NaN values with median, mean or simply dropped the row altogether. We found which variables had the greatest correlation, like attempts and completions, (.94). This will helped us to predict how many touchdowns a QB will throw in a game.\n",
    "   \n",
    "   Now we will begin to create machine learning models with our QB data. Here we will compare four models to see which one is the best for predicting how many touchdowns are thrown based upon our variables. We will compare the models using RMSE, MAE and R2 score. Which ever one has the best scores we will choose going forward to predict the Y variable of touchdowns."
   ]
  },
  {
   "cell_type": "markdown",
   "id": "3eac42ad",
   "metadata": {},
   "source": [
    "## 4.3 Imports<a id='4.3_Imports'></a>"
   ]
  },
  {
   "cell_type": "code",
   "execution_count": 1,
   "id": "9e8729fb",
   "metadata": {},
   "outputs": [],
   "source": [
    "import pandas as pd\n",
    "import numpy as np\n",
    "import matplotlib.pyplot as plt\n",
    "from sklearn.preprocessing import scale\n",
    "from sklearn.model_selection import train_test_split, cross_validate, GridSearchCV, learning_curve\n",
    "from sklearn.preprocessing import StandardScaler, MinMaxScaler\n",
    "from sklearn.linear_model import LinearRegression\n",
    "from sklearn.ensemble import RandomForestRegressor\n",
    "from sklearn.metrics import r2_score, mean_squared_error, mean_absolute_error\n",
    "from sklearn.pipeline import make_pipeline\n",
    "from sklearn.impute import SimpleImputer\n",
    "from sklearn.linear_model import Ridge, RidgeCV, Lasso\n",
    "from sklearn.metrics import mean_squared_error\n",
    "from sklearn.svm import SVC, SVR\n",
    "from math import sqrt"
   ]
  },
  {
   "cell_type": "markdown",
   "id": "e8680e4c",
   "metadata": {},
   "source": [
    "## 4.4 Load Data<a id='4.4_Load_Data'></a>"
   ]
  },
  {
   "cell_type": "code",
   "execution_count": 2,
   "id": "175ae745",
   "metadata": {},
   "outputs": [
    {
     "data": {
      "text/html": [
       "<div>\n",
       "<style scoped>\n",
       "    .dataframe tbody tr th:only-of-type {\n",
       "        vertical-align: middle;\n",
       "    }\n",
       "\n",
       "    .dataframe tbody tr th {\n",
       "        vertical-align: top;\n",
       "    }\n",
       "\n",
       "    .dataframe thead th {\n",
       "        text-align: right;\n",
       "    }\n",
       "</style>\n",
       "<table border=\"1\" class=\"dataframe\">\n",
       "  <thead>\n",
       "    <tr style=\"text-align: right;\">\n",
       "      <th></th>\n",
       "      <th>Unnamed: 0</th>\n",
       "      <th>qb</th>\n",
       "      <th>cmp</th>\n",
       "      <th>att</th>\n",
       "      <th>comp %</th>\n",
       "      <th>yds</th>\n",
       "      <th>td</th>\n",
       "      <th>int</th>\n",
       "      <th>rate</th>\n",
       "      <th>long</th>\n",
       "      <th>sack</th>\n",
       "      <th>game_points</th>\n",
       "      <th>ypa</th>\n",
       "      <th>ypc</th>\n",
       "      <th>td_per_cmp</th>\n",
       "      <th>td_per_att</th>\n",
       "      <th>loss_yds</th>\n",
       "      <th>home_away</th>\n",
       "      <th>year</th>\n",
       "    </tr>\n",
       "  </thead>\n",
       "  <tbody>\n",
       "    <tr>\n",
       "      <th>0</th>\n",
       "      <td>0</td>\n",
       "      <td>Boomer EsiasonB. Esiason</td>\n",
       "      <td>25</td>\n",
       "      <td>38</td>\n",
       "      <td>65.8</td>\n",
       "      <td>237.0</td>\n",
       "      <td>0</td>\n",
       "      <td>0</td>\n",
       "      <td>82.9</td>\n",
       "      <td>20.0</td>\n",
       "      <td>2.0</td>\n",
       "      <td>13</td>\n",
       "      <td>6.2</td>\n",
       "      <td>9.5</td>\n",
       "      <td>0.000</td>\n",
       "      <td>0.000</td>\n",
       "      <td>11.0</td>\n",
       "      <td>away</td>\n",
       "      <td>1996</td>\n",
       "    </tr>\n",
       "    <tr>\n",
       "      <th>1</th>\n",
       "      <td>1</td>\n",
       "      <td>Jim HarbaughJ. Harbaugh</td>\n",
       "      <td>16</td>\n",
       "      <td>25</td>\n",
       "      <td>64.0</td>\n",
       "      <td>196.0</td>\n",
       "      <td>2</td>\n",
       "      <td>1</td>\n",
       "      <td>98.1</td>\n",
       "      <td>35.0</td>\n",
       "      <td>0.0</td>\n",
       "      <td>20</td>\n",
       "      <td>7.8</td>\n",
       "      <td>12.2</td>\n",
       "      <td>0.125</td>\n",
       "      <td>0.080</td>\n",
       "      <td>0.0</td>\n",
       "      <td>home</td>\n",
       "      <td>1996</td>\n",
       "    </tr>\n",
       "    <tr>\n",
       "      <th>2</th>\n",
       "      <td>2</td>\n",
       "      <td>Paul JustinP. Justin</td>\n",
       "      <td>5</td>\n",
       "      <td>8</td>\n",
       "      <td>62.5</td>\n",
       "      <td>53.0</td>\n",
       "      <td>0</td>\n",
       "      <td>0</td>\n",
       "      <td>81.8</td>\n",
       "      <td>30.0</td>\n",
       "      <td>1.0</td>\n",
       "      <td>20</td>\n",
       "      <td>6.6</td>\n",
       "      <td>10.6</td>\n",
       "      <td>0.000</td>\n",
       "      <td>0.000</td>\n",
       "      <td>11.0</td>\n",
       "      <td>home</td>\n",
       "      <td>1996</td>\n",
       "    </tr>\n",
       "    <tr>\n",
       "      <th>3</th>\n",
       "      <td>3</td>\n",
       "      <td>Jeff GeorgeJ. George</td>\n",
       "      <td>16</td>\n",
       "      <td>35</td>\n",
       "      <td>45.7</td>\n",
       "      <td>215.0</td>\n",
       "      <td>0</td>\n",
       "      <td>0</td>\n",
       "      <td>65.8</td>\n",
       "      <td>55.0</td>\n",
       "      <td>7.0</td>\n",
       "      <td>6</td>\n",
       "      <td>6.1</td>\n",
       "      <td>13.4</td>\n",
       "      <td>0.000</td>\n",
       "      <td>0.000</td>\n",
       "      <td>53.0</td>\n",
       "      <td>away</td>\n",
       "      <td>1996</td>\n",
       "    </tr>\n",
       "    <tr>\n",
       "      <th>4</th>\n",
       "      <td>4</td>\n",
       "      <td>Kerry CollinsK. Collins</td>\n",
       "      <td>17</td>\n",
       "      <td>31</td>\n",
       "      <td>54.8</td>\n",
       "      <td>198.0</td>\n",
       "      <td>2</td>\n",
       "      <td>0</td>\n",
       "      <td>95.9</td>\n",
       "      <td>30.0</td>\n",
       "      <td>4.0</td>\n",
       "      <td>29</td>\n",
       "      <td>6.4</td>\n",
       "      <td>11.6</td>\n",
       "      <td>0.118</td>\n",
       "      <td>0.065</td>\n",
       "      <td>12.0</td>\n",
       "      <td>home</td>\n",
       "      <td>1996</td>\n",
       "    </tr>\n",
       "  </tbody>\n",
       "</table>\n",
       "</div>"
      ],
      "text/plain": [
       "   Unnamed: 0                        qb  cmp  att  comp %    yds  td  int  \\\n",
       "0           0  Boomer EsiasonB. Esiason   25   38    65.8  237.0   0    0   \n",
       "1           1   Jim HarbaughJ. Harbaugh   16   25    64.0  196.0   2    1   \n",
       "2           2      Paul JustinP. Justin    5    8    62.5   53.0   0    0   \n",
       "3           3      Jeff GeorgeJ. George   16   35    45.7  215.0   0    0   \n",
       "4           4   Kerry CollinsK. Collins   17   31    54.8  198.0   2    0   \n",
       "\n",
       "   rate  long  sack  game_points  ypa   ypc  td_per_cmp  td_per_att  loss_yds  \\\n",
       "0  82.9  20.0   2.0           13  6.2   9.5       0.000       0.000      11.0   \n",
       "1  98.1  35.0   0.0           20  7.8  12.2       0.125       0.080       0.0   \n",
       "2  81.8  30.0   1.0           20  6.6  10.6       0.000       0.000      11.0   \n",
       "3  65.8  55.0   7.0            6  6.1  13.4       0.000       0.000      53.0   \n",
       "4  95.9  30.0   4.0           29  6.4  11.6       0.118       0.065      12.0   \n",
       "\n",
       "  home_away  year  \n",
       "0      away  1996  \n",
       "1      home  1996  \n",
       "2      home  1996  \n",
       "3      away  1996  \n",
       "4      home  1996  "
      ]
     },
     "execution_count": 2,
     "metadata": {},
     "output_type": "execute_result"
    }
   ],
   "source": [
    "df = pd.read_csv('QB_stats_clean.csv')\n",
    "df.head()"
   ]
  },
  {
   "cell_type": "code",
   "execution_count": 3,
   "id": "81cd287b",
   "metadata": {},
   "outputs": [
    {
     "name": "stdout",
     "output_type": "stream",
     "text": [
      "<class 'pandas.core.frame.DataFrame'>\n",
      "RangeIndex: 13172 entries, 0 to 13171\n",
      "Data columns (total 19 columns):\n",
      " #   Column       Non-Null Count  Dtype  \n",
      "---  ------       --------------  -----  \n",
      " 0   Unnamed: 0   13172 non-null  int64  \n",
      " 1   qb           13172 non-null  object \n",
      " 2   cmp          13172 non-null  int64  \n",
      " 3   att          13172 non-null  int64  \n",
      " 4   comp %       13172 non-null  float64\n",
      " 5   yds          13172 non-null  float64\n",
      " 6   td           13172 non-null  int64  \n",
      " 7   int          13172 non-null  int64  \n",
      " 8   rate         13172 non-null  float64\n",
      " 9   long         13172 non-null  float64\n",
      " 10  sack         13172 non-null  float64\n",
      " 11  game_points  13172 non-null  int64  \n",
      " 12  ypa          13172 non-null  float64\n",
      " 13  ypc          13172 non-null  float64\n",
      " 14  td_per_cmp   13172 non-null  float64\n",
      " 15  td_per_att   13172 non-null  float64\n",
      " 16  loss_yds     13172 non-null  float64\n",
      " 17  home_away    13172 non-null  object \n",
      " 18  year         13172 non-null  int64  \n",
      "dtypes: float64(10), int64(7), object(2)\n",
      "memory usage: 1.9+ MB\n"
     ]
    }
   ],
   "source": [
    "df.info()"
   ]
  },
  {
   "cell_type": "markdown",
   "id": "65dd7c3d",
   "metadata": {},
   "source": [
    "Delete the column \"unnamed:0\" with  no numbers. No information from this column is useful. Lets also get ride of the qb column as we want this to be unkown no matter who the QB is. This will reduce our own personal basis towards the QB."
   ]
  },
  {
   "cell_type": "code",
   "execution_count": 4,
   "id": "afac3cb7",
   "metadata": {},
   "outputs": [],
   "source": [
    "df = df.drop(df.columns[0:2], axis=1)"
   ]
  },
  {
   "cell_type": "code",
   "execution_count": 5,
   "id": "e313fe5f",
   "metadata": {},
   "outputs": [
    {
     "data": {
      "text/plain": [
       "(13172, 17)"
      ]
     },
     "execution_count": 5,
     "metadata": {},
     "output_type": "execute_result"
    }
   ],
   "source": [
    "df.shape"
   ]
  },
  {
   "cell_type": "code",
   "execution_count": 6,
   "id": "89664a64",
   "metadata": {},
   "outputs": [
    {
     "data": {
      "text/html": [
       "<div>\n",
       "<style scoped>\n",
       "    .dataframe tbody tr th:only-of-type {\n",
       "        vertical-align: middle;\n",
       "    }\n",
       "\n",
       "    .dataframe tbody tr th {\n",
       "        vertical-align: top;\n",
       "    }\n",
       "\n",
       "    .dataframe thead th {\n",
       "        text-align: right;\n",
       "    }\n",
       "</style>\n",
       "<table border=\"1\" class=\"dataframe\">\n",
       "  <thead>\n",
       "    <tr style=\"text-align: right;\">\n",
       "      <th></th>\n",
       "      <th>cmp</th>\n",
       "      <th>att</th>\n",
       "      <th>comp %</th>\n",
       "      <th>yds</th>\n",
       "      <th>td</th>\n",
       "      <th>int</th>\n",
       "      <th>rate</th>\n",
       "      <th>long</th>\n",
       "      <th>sack</th>\n",
       "      <th>game_points</th>\n",
       "      <th>ypa</th>\n",
       "      <th>ypc</th>\n",
       "      <th>td_per_cmp</th>\n",
       "      <th>td_per_att</th>\n",
       "      <th>loss_yds</th>\n",
       "      <th>home_away</th>\n",
       "      <th>year</th>\n",
       "    </tr>\n",
       "  </thead>\n",
       "  <tbody>\n",
       "    <tr>\n",
       "      <th>0</th>\n",
       "      <td>25</td>\n",
       "      <td>38</td>\n",
       "      <td>65.8</td>\n",
       "      <td>237.0</td>\n",
       "      <td>0</td>\n",
       "      <td>0</td>\n",
       "      <td>82.9</td>\n",
       "      <td>20.0</td>\n",
       "      <td>2.0</td>\n",
       "      <td>13</td>\n",
       "      <td>6.2</td>\n",
       "      <td>9.5</td>\n",
       "      <td>0.000</td>\n",
       "      <td>0.000</td>\n",
       "      <td>11.0</td>\n",
       "      <td>away</td>\n",
       "      <td>1996</td>\n",
       "    </tr>\n",
       "    <tr>\n",
       "      <th>1</th>\n",
       "      <td>16</td>\n",
       "      <td>25</td>\n",
       "      <td>64.0</td>\n",
       "      <td>196.0</td>\n",
       "      <td>2</td>\n",
       "      <td>1</td>\n",
       "      <td>98.1</td>\n",
       "      <td>35.0</td>\n",
       "      <td>0.0</td>\n",
       "      <td>20</td>\n",
       "      <td>7.8</td>\n",
       "      <td>12.2</td>\n",
       "      <td>0.125</td>\n",
       "      <td>0.080</td>\n",
       "      <td>0.0</td>\n",
       "      <td>home</td>\n",
       "      <td>1996</td>\n",
       "    </tr>\n",
       "    <tr>\n",
       "      <th>2</th>\n",
       "      <td>5</td>\n",
       "      <td>8</td>\n",
       "      <td>62.5</td>\n",
       "      <td>53.0</td>\n",
       "      <td>0</td>\n",
       "      <td>0</td>\n",
       "      <td>81.8</td>\n",
       "      <td>30.0</td>\n",
       "      <td>1.0</td>\n",
       "      <td>20</td>\n",
       "      <td>6.6</td>\n",
       "      <td>10.6</td>\n",
       "      <td>0.000</td>\n",
       "      <td>0.000</td>\n",
       "      <td>11.0</td>\n",
       "      <td>home</td>\n",
       "      <td>1996</td>\n",
       "    </tr>\n",
       "    <tr>\n",
       "      <th>3</th>\n",
       "      <td>16</td>\n",
       "      <td>35</td>\n",
       "      <td>45.7</td>\n",
       "      <td>215.0</td>\n",
       "      <td>0</td>\n",
       "      <td>0</td>\n",
       "      <td>65.8</td>\n",
       "      <td>55.0</td>\n",
       "      <td>7.0</td>\n",
       "      <td>6</td>\n",
       "      <td>6.1</td>\n",
       "      <td>13.4</td>\n",
       "      <td>0.000</td>\n",
       "      <td>0.000</td>\n",
       "      <td>53.0</td>\n",
       "      <td>away</td>\n",
       "      <td>1996</td>\n",
       "    </tr>\n",
       "    <tr>\n",
       "      <th>4</th>\n",
       "      <td>17</td>\n",
       "      <td>31</td>\n",
       "      <td>54.8</td>\n",
       "      <td>198.0</td>\n",
       "      <td>2</td>\n",
       "      <td>0</td>\n",
       "      <td>95.9</td>\n",
       "      <td>30.0</td>\n",
       "      <td>4.0</td>\n",
       "      <td>29</td>\n",
       "      <td>6.4</td>\n",
       "      <td>11.6</td>\n",
       "      <td>0.118</td>\n",
       "      <td>0.065</td>\n",
       "      <td>12.0</td>\n",
       "      <td>home</td>\n",
       "      <td>1996</td>\n",
       "    </tr>\n",
       "  </tbody>\n",
       "</table>\n",
       "</div>"
      ],
      "text/plain": [
       "   cmp  att  comp %    yds  td  int  rate  long  sack  game_points  ypa   ypc  \\\n",
       "0   25   38    65.8  237.0   0    0  82.9  20.0   2.0           13  6.2   9.5   \n",
       "1   16   25    64.0  196.0   2    1  98.1  35.0   0.0           20  7.8  12.2   \n",
       "2    5    8    62.5   53.0   0    0  81.8  30.0   1.0           20  6.6  10.6   \n",
       "3   16   35    45.7  215.0   0    0  65.8  55.0   7.0            6  6.1  13.4   \n",
       "4   17   31    54.8  198.0   2    0  95.9  30.0   4.0           29  6.4  11.6   \n",
       "\n",
       "   td_per_cmp  td_per_att  loss_yds home_away  year  \n",
       "0       0.000       0.000      11.0      away  1996  \n",
       "1       0.125       0.080       0.0      home  1996  \n",
       "2       0.000       0.000      11.0      home  1996  \n",
       "3       0.000       0.000      53.0      away  1996  \n",
       "4       0.118       0.065      12.0      home  1996  "
      ]
     },
     "execution_count": 6,
     "metadata": {},
     "output_type": "execute_result"
    }
   ],
   "source": [
    "#Lets insure we dropped the columns\n",
    "df.head()"
   ]
  },
  {
   "cell_type": "markdown",
   "id": "f7c78122",
   "metadata": {},
   "source": [
    "## 4.5 Train/Test Split<a id='4.5_Train/Test_Split'></a>"
   ]
  },
  {
   "cell_type": "markdown",
   "id": "0bdf98ce",
   "metadata": {},
   "source": [
    "Now we will Train/Test the QB data. We will set aside data, (the test) to evaluate our model performance. A train/test split is helpful to check in on future performance that we predict. Lets see what the size of the train/test split would be."
   ]
  },
  {
   "cell_type": "code",
   "execution_count": 7,
   "id": "b8f9afca",
   "metadata": {},
   "outputs": [
    {
     "data": {
      "text/plain": [
       "(9220.4, 3951.6)"
      ]
     },
     "execution_count": 7,
     "metadata": {},
     "output_type": "execute_result"
    }
   ],
   "source": [
    "#Size of the 70% Train & 30% Test\n",
    "len(df) * .7, len(df) * .3"
   ]
  },
  {
   "cell_type": "markdown",
   "id": "23d69c02",
   "metadata": {},
   "source": [
    "### 4.5.1 Home and Away Variables<a id='4.5.1_Home_and_Away_Variables'></a>"
   ]
  },
  {
   "cell_type": "markdown",
   "id": "62e834f9",
   "metadata": {},
   "source": [
    "Lets get numeric values for the \"home_away\" column. 1 for away and 0 for home using get dummies."
   ]
  },
  {
   "cell_type": "code",
   "execution_count": 8,
   "id": "ff98ea8f",
   "metadata": {},
   "outputs": [],
   "source": [
    "#get dummy varibles for home_away column to make it numerical\n",
    "df= pd.get_dummies(df, columns=['home_away'])"
   ]
  },
  {
   "cell_type": "markdown",
   "id": "be73cc4f",
   "metadata": {},
   "source": [
    "Rename the columns to make it easier to read."
   ]
  },
  {
   "cell_type": "code",
   "execution_count": 9,
   "id": "e64e48b7",
   "metadata": {},
   "outputs": [],
   "source": [
    "#inplace to make it permanent to the data frame\n",
    "df.rename(columns={'home_away_away': 'away', 'home_away_home': 'home'}, inplace=True)"
   ]
  },
  {
   "cell_type": "code",
   "execution_count": 10,
   "id": "02510e8f",
   "metadata": {},
   "outputs": [
    {
     "data": {
      "text/plain": [
       "dtype('uint8')"
      ]
     },
     "execution_count": 10,
     "metadata": {},
     "output_type": "execute_result"
    }
   ],
   "source": [
    "#Lets check and see what type the away and home column are\n",
    "df['home'].dtype\n",
    "df['away'].dtype"
   ]
  },
  {
   "cell_type": "code",
   "execution_count": 11,
   "id": "45968bef",
   "metadata": {},
   "outputs": [],
   "source": [
    "#Lets change them to int\n",
    "df['home']=df['home'].astype(int)\n",
    "df['away']=df['away'].astype(int)"
   ]
  },
  {
   "cell_type": "markdown",
   "id": "1531b8f7",
   "metadata": {},
   "source": [
    "### 4.5.2 X Variables<a id='4.5.2_X_Variables'></a>"
   ]
  },
  {
   "cell_type": "markdown",
   "id": "96fad834",
   "metadata": {},
   "source": [
    "Lets create our X variable which is all of the columns minus the td column."
   ]
  },
  {
   "cell_type": "code",
   "execution_count": 12,
   "id": "5ae5db16",
   "metadata": {},
   "outputs": [],
   "source": [
    "#Get all the features minus the rate. We will predict the rate using all the other features.\n",
    "features = ['cmp', 'att','comp %', 'yds', 'int', 'rate','long', 'sack', 'game_points', 'ypa', 'ypc', 'td_per_cmp', 'td_per_att', 'loss_yds', 'home', 'away', 'year']"
   ]
  },
  {
   "cell_type": "code",
   "execution_count": 13,
   "id": "48ebda11",
   "metadata": {
    "scrolled": true
   },
   "outputs": [
    {
     "data": {
      "text/html": [
       "<div>\n",
       "<style scoped>\n",
       "    .dataframe tbody tr th:only-of-type {\n",
       "        vertical-align: middle;\n",
       "    }\n",
       "\n",
       "    .dataframe tbody tr th {\n",
       "        vertical-align: top;\n",
       "    }\n",
       "\n",
       "    .dataframe thead th {\n",
       "        text-align: right;\n",
       "    }\n",
       "</style>\n",
       "<table border=\"1\" class=\"dataframe\">\n",
       "  <thead>\n",
       "    <tr style=\"text-align: right;\">\n",
       "      <th></th>\n",
       "      <th>cmp</th>\n",
       "      <th>att</th>\n",
       "      <th>comp %</th>\n",
       "      <th>yds</th>\n",
       "      <th>td</th>\n",
       "      <th>int</th>\n",
       "      <th>rate</th>\n",
       "      <th>long</th>\n",
       "      <th>sack</th>\n",
       "      <th>game_points</th>\n",
       "      <th>ypa</th>\n",
       "      <th>ypc</th>\n",
       "      <th>td_per_cmp</th>\n",
       "      <th>td_per_att</th>\n",
       "      <th>loss_yds</th>\n",
       "      <th>year</th>\n",
       "      <th>away</th>\n",
       "      <th>home</th>\n",
       "    </tr>\n",
       "  </thead>\n",
       "  <tbody>\n",
       "    <tr>\n",
       "      <th>0</th>\n",
       "      <td>25</td>\n",
       "      <td>38</td>\n",
       "      <td>65.8</td>\n",
       "      <td>237.0</td>\n",
       "      <td>0</td>\n",
       "      <td>0</td>\n",
       "      <td>82.9</td>\n",
       "      <td>20.0</td>\n",
       "      <td>2.0</td>\n",
       "      <td>13</td>\n",
       "      <td>6.2</td>\n",
       "      <td>9.5</td>\n",
       "      <td>0.000</td>\n",
       "      <td>0.000</td>\n",
       "      <td>11.0</td>\n",
       "      <td>1996</td>\n",
       "      <td>1</td>\n",
       "      <td>0</td>\n",
       "    </tr>\n",
       "    <tr>\n",
       "      <th>1</th>\n",
       "      <td>16</td>\n",
       "      <td>25</td>\n",
       "      <td>64.0</td>\n",
       "      <td>196.0</td>\n",
       "      <td>2</td>\n",
       "      <td>1</td>\n",
       "      <td>98.1</td>\n",
       "      <td>35.0</td>\n",
       "      <td>0.0</td>\n",
       "      <td>20</td>\n",
       "      <td>7.8</td>\n",
       "      <td>12.2</td>\n",
       "      <td>0.125</td>\n",
       "      <td>0.080</td>\n",
       "      <td>0.0</td>\n",
       "      <td>1996</td>\n",
       "      <td>0</td>\n",
       "      <td>1</td>\n",
       "    </tr>\n",
       "    <tr>\n",
       "      <th>2</th>\n",
       "      <td>5</td>\n",
       "      <td>8</td>\n",
       "      <td>62.5</td>\n",
       "      <td>53.0</td>\n",
       "      <td>0</td>\n",
       "      <td>0</td>\n",
       "      <td>81.8</td>\n",
       "      <td>30.0</td>\n",
       "      <td>1.0</td>\n",
       "      <td>20</td>\n",
       "      <td>6.6</td>\n",
       "      <td>10.6</td>\n",
       "      <td>0.000</td>\n",
       "      <td>0.000</td>\n",
       "      <td>11.0</td>\n",
       "      <td>1996</td>\n",
       "      <td>0</td>\n",
       "      <td>1</td>\n",
       "    </tr>\n",
       "    <tr>\n",
       "      <th>3</th>\n",
       "      <td>16</td>\n",
       "      <td>35</td>\n",
       "      <td>45.7</td>\n",
       "      <td>215.0</td>\n",
       "      <td>0</td>\n",
       "      <td>0</td>\n",
       "      <td>65.8</td>\n",
       "      <td>55.0</td>\n",
       "      <td>7.0</td>\n",
       "      <td>6</td>\n",
       "      <td>6.1</td>\n",
       "      <td>13.4</td>\n",
       "      <td>0.000</td>\n",
       "      <td>0.000</td>\n",
       "      <td>53.0</td>\n",
       "      <td>1996</td>\n",
       "      <td>1</td>\n",
       "      <td>0</td>\n",
       "    </tr>\n",
       "    <tr>\n",
       "      <th>4</th>\n",
       "      <td>17</td>\n",
       "      <td>31</td>\n",
       "      <td>54.8</td>\n",
       "      <td>198.0</td>\n",
       "      <td>2</td>\n",
       "      <td>0</td>\n",
       "      <td>95.9</td>\n",
       "      <td>30.0</td>\n",
       "      <td>4.0</td>\n",
       "      <td>29</td>\n",
       "      <td>6.4</td>\n",
       "      <td>11.6</td>\n",
       "      <td>0.118</td>\n",
       "      <td>0.065</td>\n",
       "      <td>12.0</td>\n",
       "      <td>1996</td>\n",
       "      <td>0</td>\n",
       "      <td>1</td>\n",
       "    </tr>\n",
       "  </tbody>\n",
       "</table>\n",
       "</div>"
      ],
      "text/plain": [
       "   cmp  att  comp %    yds  td  int  rate  long  sack  game_points  ypa   ypc  \\\n",
       "0   25   38    65.8  237.0   0    0  82.9  20.0   2.0           13  6.2   9.5   \n",
       "1   16   25    64.0  196.0   2    1  98.1  35.0   0.0           20  7.8  12.2   \n",
       "2    5    8    62.5   53.0   0    0  81.8  30.0   1.0           20  6.6  10.6   \n",
       "3   16   35    45.7  215.0   0    0  65.8  55.0   7.0            6  6.1  13.4   \n",
       "4   17   31    54.8  198.0   2    0  95.9  30.0   4.0           29  6.4  11.6   \n",
       "\n",
       "   td_per_cmp  td_per_att  loss_yds  year  away  home  \n",
       "0       0.000       0.000      11.0  1996     1     0  \n",
       "1       0.125       0.080       0.0  1996     0     1  \n",
       "2       0.000       0.000      11.0  1996     0     1  \n",
       "3       0.000       0.000      53.0  1996     1     0  \n",
       "4       0.118       0.065      12.0  1996     0     1  "
      ]
     },
     "execution_count": 13,
     "metadata": {},
     "output_type": "execute_result"
    }
   ],
   "source": [
    "df.head()"
   ]
  },
  {
   "cell_type": "markdown",
   "id": "a4a347f7",
   "metadata": {},
   "source": [
    "### 4.5.3 Train Test Split<a id='4.5.3_Train_Test_Split'></a>"
   ]
  },
  {
   "cell_type": "markdown",
   "id": "4c3dafe8",
   "metadata": {},
   "source": [
    "Now we will do the train test split of the data with a test size of 30%."
   ]
  },
  {
   "cell_type": "code",
   "execution_count": 14,
   "id": "3a2855bb",
   "metadata": {},
   "outputs": [],
   "source": [
    "X_train, X_test, y_train, y_test = train_test_split(df[features], df['td'],test_size=0.3, \n",
    "                                                    random_state=47)"
   ]
  },
  {
   "cell_type": "code",
   "execution_count": 15,
   "id": "e52a874c",
   "metadata": {},
   "outputs": [
    {
     "data": {
      "text/plain": [
       "((9220, 17), (3952, 17))"
      ]
     },
     "execution_count": 15,
     "metadata": {},
     "output_type": "execute_result"
    }
   ],
   "source": [
    "#Lets check how many rows and columns we have for the X variable\n",
    "X_train.shape, X_test.shape"
   ]
  },
  {
   "cell_type": "code",
   "execution_count": 16,
   "id": "1a60c09b",
   "metadata": {},
   "outputs": [
    {
     "data": {
      "text/plain": [
       "((9220,), (3952,))"
      ]
     },
     "execution_count": 16,
     "metadata": {},
     "output_type": "execute_result"
    }
   ],
   "source": [
    "#Also check the Y\n",
    "y_train.shape, y_test.shape"
   ]
  },
  {
   "cell_type": "code",
   "execution_count": 17,
   "id": "1719714d",
   "metadata": {
    "scrolled": true
   },
   "outputs": [
    {
     "data": {
      "text/plain": [
       "cmp              int64\n",
       "att              int64\n",
       "comp %         float64\n",
       "yds            float64\n",
       "int              int64\n",
       "rate           float64\n",
       "long           float64\n",
       "sack           float64\n",
       "game_points      int64\n",
       "ypa            float64\n",
       "ypc            float64\n",
       "td_per_cmp     float64\n",
       "td_per_att     float64\n",
       "loss_yds       float64\n",
       "home             int32\n",
       "away             int32\n",
       "year             int64\n",
       "dtype: object"
      ]
     },
     "execution_count": 17,
     "metadata": {},
     "output_type": "execute_result"
    }
   ],
   "source": [
    "#Make sure we have numeric values for X train\n",
    "X_train.dtypes"
   ]
  },
  {
   "cell_type": "code",
   "execution_count": 18,
   "id": "7f37846e",
   "metadata": {},
   "outputs": [
    {
     "data": {
      "text/plain": [
       "cmp              int64\n",
       "att              int64\n",
       "comp %         float64\n",
       "yds            float64\n",
       "int              int64\n",
       "rate           float64\n",
       "long           float64\n",
       "sack           float64\n",
       "game_points      int64\n",
       "ypa            float64\n",
       "ypc            float64\n",
       "td_per_cmp     float64\n",
       "td_per_att     float64\n",
       "loss_yds       float64\n",
       "home             int32\n",
       "away             int32\n",
       "year             int64\n",
       "dtype: object"
      ]
     },
     "execution_count": 18,
     "metadata": {},
     "output_type": "execute_result"
    }
   ],
   "source": [
    "#Now check that we have numeric values for X test\n",
    "X_test.dtypes"
   ]
  },
  {
   "cell_type": "markdown",
   "id": "a5814b9e",
   "metadata": {},
   "source": [
    "We now have all numeric features for our X Train/Test split!"
   ]
  },
  {
   "cell_type": "markdown",
   "id": "7628ff34",
   "metadata": {},
   "source": [
    "## 4.6 Linear Regression<a id='4.6_Linear_Regression'></a>"
   ]
  },
  {
   "cell_type": "markdown",
   "id": "6b0551fc",
   "metadata": {},
   "source": [
    "Make a Pipeline for Linear Regression."
   ]
  },
  {
   "cell_type": "code",
   "execution_count": 19,
   "id": "a933953b",
   "metadata": {},
   "outputs": [],
   "source": [
    "#Create the pipeline\n",
    "lr_pipeline=make_pipeline(\n",
    "    StandardScaler(), \n",
    "    LinearRegression())"
   ]
  },
  {
   "cell_type": "code",
   "execution_count": 20,
   "id": "6a72d199",
   "metadata": {},
   "outputs": [
    {
     "data": {
      "text/plain": [
       "Pipeline(steps=[('standardscaler', StandardScaler()),\n",
       "                ('linearregression', LinearRegression())])"
      ]
     },
     "execution_count": 20,
     "metadata": {},
     "output_type": "execute_result"
    }
   ],
   "source": [
    "#fit to the training data\n",
    "lr_pipeline.fit(X_train, y_train)"
   ]
  },
  {
   "cell_type": "code",
   "execution_count": 21,
   "id": "bb004982",
   "metadata": {},
   "outputs": [
    {
     "name": "stdout",
     "output_type": "stream",
     "text": [
      "[ 0.96449569  1.53131995  2.29045684 ...  0.91216184 -0.51769935\n",
      "  1.10188415]\n"
     ]
    }
   ],
   "source": [
    "#predict the y (QB Rating) using the test data\n",
    "y_te_pred = lr_pipeline.predict(X_test)\n",
    "print(y_te_pred)"
   ]
  },
  {
   "cell_type": "markdown",
   "id": "ae3bb34e",
   "metadata": {},
   "source": [
    "This is predicting how many TDs a QB threw utilzing the X variables from the unseen test data."
   ]
  },
  {
   "cell_type": "code",
   "execution_count": 22,
   "id": "1c6b8eec",
   "metadata": {},
   "outputs": [
    {
     "name": "stdout",
     "output_type": "stream",
     "text": [
      "[0.15850306 0.94629965 0.45264682 ... 0.90742178 0.28048023 1.85117139]\n"
     ]
    }
   ],
   "source": [
    "#predict the y (QB Rating) using the train data\n",
    "y_tr_pred = lr_pipeline.predict(X_train)\n",
    "print(y_tr_pred)"
   ]
  },
  {
   "cell_type": "markdown",
   "id": "2896499e",
   "metadata": {},
   "source": [
    "This is predicting how many TDs a QB threw utilzing the X variables from the training data. This is data the model has already seen before."
   ]
  },
  {
   "cell_type": "markdown",
   "id": "c7d14c1c",
   "metadata": {},
   "source": [
    "### 4.6.1 LR Metrics<a id='4.6.1_LR_Metrics'></a>"
   ]
  },
  {
   "cell_type": "markdown",
   "id": "edcc8697",
   "metadata": {},
   "source": [
    "First lets do the test R2 score for Linear Regresion since we want to see if it fits our model."
   ]
  },
  {
   "cell_type": "markdown",
   "id": "cd8ac7bf",
   "metadata": {},
   "source": [
    "#### R2 Score"
   ]
  },
  {
   "cell_type": "code",
   "execution_count": 23,
   "id": "67a89655",
   "metadata": {},
   "outputs": [
    {
     "data": {
      "text/plain": [
       "0.7773340771441586"
      ]
     },
     "execution_count": 23,
     "metadata": {},
     "output_type": "execute_result"
    }
   ],
   "source": [
    "r2_score(y_test, y_te_pred)"
   ]
  },
  {
   "cell_type": "markdown",
   "id": "26ac5279",
   "metadata": {},
   "source": [
    "The R2 score is decent but could be better. This score explains how much of the dependant variable, (touchdowns) is explained by the independant variables, (df['features']). This is the most important score to see if our model is working properly and is fitting the data."
   ]
  },
  {
   "cell_type": "code",
   "execution_count": 24,
   "id": "a5b2ab5c",
   "metadata": {},
   "outputs": [
    {
     "data": {
      "text/plain": [
       "0.7908455260457911"
      ]
     },
     "execution_count": 24,
     "metadata": {},
     "output_type": "execute_result"
    }
   ],
   "source": [
    "r2_score(y_train, y_tr_pred)"
   ]
  },
  {
   "cell_type": "markdown",
   "id": "24bf7fea",
   "metadata": {},
   "source": [
    "The training R2 score is slightly higher than the test score. If it was a substantial percentage amount it would mean that the training data is overfitting the data."
   ]
  },
  {
   "cell_type": "markdown",
   "id": "135cccd3",
   "metadata": {},
   "source": [
    "#### MAE"
   ]
  },
  {
   "cell_type": "code",
   "execution_count": 25,
   "id": "acf0864c",
   "metadata": {},
   "outputs": [
    {
     "data": {
      "text/plain": [
       "0.37686733549094426"
      ]
     },
     "execution_count": 25,
     "metadata": {},
     "output_type": "execute_result"
    }
   ],
   "source": [
    "mean_absolute_error(y_test, y_te_pred)"
   ]
  },
  {
   "cell_type": "markdown",
   "id": "7bde6b3e",
   "metadata": {},
   "source": [
    "Here we can expect to be .37686 off of guessing the amount of any given touchdowns a QB throws in a game utilizing our test variables in this Linear Regression model."
   ]
  },
  {
   "cell_type": "markdown",
   "id": "88bde142",
   "metadata": {},
   "source": [
    "#### RMSE"
   ]
  },
  {
   "cell_type": "code",
   "execution_count": 26,
   "id": "14404bb5",
   "metadata": {},
   "outputs": [
    {
     "data": {
      "text/plain": [
       "0.5291923708849422"
      ]
     },
     "execution_count": 26,
     "metadata": {},
     "output_type": "execute_result"
    }
   ],
   "source": [
    "sqrt(mean_squared_error(y_test,y_te_pred))"
   ]
  },
  {
   "cell_type": "markdown",
   "id": "85046692",
   "metadata": {},
   "source": [
    "This RMSE means we can expect to be off by .52919 +/- of the prediction. We could over or under guess the amount of touchdowns by .52919"
   ]
  },
  {
   "cell_type": "markdown",
   "id": "b0ee3d54",
   "metadata": {},
   "source": [
    "### 4.6.2 Cross Validation of Linear Regression<a id='4.6.2_Cross_Validation_of_Linear_Regression'></a>"
   ]
  },
  {
   "cell_type": "markdown",
   "id": "ff2914a2",
   "metadata": {},
   "source": [
    "Lets check the Cross Validation to see if our score is different using 10 fold."
   ]
  },
  {
   "cell_type": "code",
   "execution_count": 27,
   "id": "704568c8",
   "metadata": {},
   "outputs": [
    {
     "data": {
      "text/plain": [
       "{'fit_time': array([0.01499081, 0.01299167, 0.01399064, 0.01599789, 0.01799011,\n",
       "        0.01998854, 0.01499104, 0.0129745 , 0.01700807, 0.01898932]),\n",
       " 'score_time': array([0.00499678, 0.00298166, 0.00499654, 0.00499606, 0.00399375,\n",
       "        0.00299835, 0.00199914, 0.00299788, 0.00498271, 0.00299811]),\n",
       " 'test_score': array([0.81269061, 0.80562203, 0.73362744, 0.81383986, 0.75751313,\n",
       "        0.79672061, 0.80324857, 0.68370744, 0.80905836, 0.80575595])}"
      ]
     },
     "execution_count": 27,
     "metadata": {},
     "output_type": "execute_result"
    }
   ],
   "source": [
    "cv_results_lr = cross_validate(lr_pipeline, X_train, y_train, cv=10)\n",
    "cv_results_lr"
   ]
  },
  {
   "cell_type": "markdown",
   "id": "0a524df2",
   "metadata": {},
   "source": [
    "Now we need to pull up just the CV score."
   ]
  },
  {
   "cell_type": "code",
   "execution_count": 28,
   "id": "5bb6655c",
   "metadata": {},
   "outputs": [
    {
     "data": {
      "text/plain": [
       "array([0.81269061, 0.80562203, 0.73362744, 0.81383986, 0.75751313,\n",
       "       0.79672061, 0.80324857, 0.68370744, 0.80905836, 0.80575595])"
      ]
     },
     "execution_count": 28,
     "metadata": {},
     "output_type": "execute_result"
    }
   ],
   "source": [
    "cv_scores_lr = cv_results_lr['test_score']\n",
    "cv_scores_lr"
   ]
  },
  {
   "cell_type": "markdown",
   "id": "401a8a35",
   "metadata": {},
   "source": [
    "Lets compute the mean of these 10 different scores."
   ]
  },
  {
   "cell_type": "code",
   "execution_count": 29,
   "id": "7cd9a209",
   "metadata": {},
   "outputs": [
    {
     "data": {
      "text/plain": [
       "(0.7821784001734245, 0.041326757649802225)"
      ]
     },
     "execution_count": 29,
     "metadata": {},
     "output_type": "execute_result"
    }
   ],
   "source": [
    "np.mean(cv_scores_lr), np.std(cv_scores_lr)"
   ]
  },
  {
   "cell_type": "markdown",
   "id": "030ac3dc",
   "metadata": {},
   "source": [
    "The mean of the CV score .782 is slighly higher than the R2 score of .777 for our test set. The standard deviation is .04, very low."
   ]
  },
  {
   "cell_type": "markdown",
   "id": "7c94302f",
   "metadata": {},
   "source": [
    "### 4.6.3 Grid Search CV for LR<a id='4.6.3_Grid_Search_CV_for_LR'></a>"
   ]
  },
  {
   "cell_type": "markdown",
   "id": "84b1f54f",
   "metadata": {},
   "source": [
    "Lets run a Grid Search to check different hyperparameters to see if we get a different R2 score."
   ]
  },
  {
   "cell_type": "code",
   "execution_count": 30,
   "id": "63927c47",
   "metadata": {},
   "outputs": [],
   "source": [
    "param_grid = {'C': [0.1, 1, 10, 100], 'max_iter':[10000]}             "
   ]
  },
  {
   "cell_type": "markdown",
   "id": "2db95777",
   "metadata": {},
   "source": [
    "I tried out different parameters in the param grid. Most of the time it still came up with the same R2 score in the end."
   ]
  },
  {
   "cell_type": "code",
   "execution_count": 31,
   "id": "d364a508",
   "metadata": {},
   "outputs": [],
   "source": [
    "#Run the GridSearchCV()\n",
    "lr_grid_cv = GridSearchCV(SVR(), param_grid, refit = True, verbose = 3,n_jobs=-1) "
   ]
  },
  {
   "cell_type": "code",
   "execution_count": 32,
   "id": "d315fc00",
   "metadata": {},
   "outputs": [
    {
     "name": "stdout",
     "output_type": "stream",
     "text": [
      "Fitting 5 folds for each of 4 candidates, totalling 20 fits\n"
     ]
    },
    {
     "data": {
      "text/plain": [
       "GridSearchCV(estimator=SVR(), n_jobs=-1,\n",
       "             param_grid={'C': [0.1, 1, 10, 100], 'max_iter': [10000]},\n",
       "             verbose=3)"
      ]
     },
     "execution_count": 32,
     "metadata": {},
     "output_type": "execute_result"
    }
   ],
   "source": [
    "#Fit the GridSearch() to the train data\n",
    "lr_grid_cv.fit(X_train, y_train)"
   ]
  },
  {
   "cell_type": "code",
   "execution_count": 33,
   "id": "a09cbba0",
   "metadata": {},
   "outputs": [
    {
     "data": {
      "text/plain": [
       "{'C': 100, 'max_iter': 10000}"
      ]
     },
     "execution_count": 33,
     "metadata": {},
     "output_type": "execute_result"
    }
   ],
   "source": [
    "lr_grid_cv.best_params_"
   ]
  },
  {
   "cell_type": "markdown",
   "id": "c616f261",
   "metadata": {},
   "source": [
    "These were the best parameters for the data."
   ]
  },
  {
   "cell_type": "code",
   "execution_count": 34,
   "id": "76cc651f",
   "metadata": {},
   "outputs": [
    {
     "data": {
      "text/plain": [
       "array([0.7062803 , 0.71636659, 0.74450861, 0.74671012, 0.75678309,\n",
       "       0.73860765, 0.72582974, 0.73109968, 0.74288954, 0.72878372])"
      ]
     },
     "execution_count": 34,
     "metadata": {},
     "output_type": "execute_result"
    }
   ],
   "source": [
    "lr_best_cv_results = cross_validate(lr_grid_cv.best_estimator_, X_train, y_train, cv=10)\n",
    "lr_best_scores = lr_best_cv_results['test_score']\n",
    "lr_best_scores"
   ]
  },
  {
   "cell_type": "markdown",
   "id": "c1a1e4ff",
   "metadata": {},
   "source": [
    "This is the array of the test scores for 10 different cross validations of the data."
   ]
  },
  {
   "cell_type": "code",
   "execution_count": 35,
   "id": "f1b0df0b",
   "metadata": {},
   "outputs": [
    {
     "data": {
      "text/plain": [
       "(0.7337859041363517, 0.014396308773709055)"
      ]
     },
     "execution_count": 35,
     "metadata": {},
     "output_type": "execute_result"
    }
   ],
   "source": [
    "np.mean(lr_best_scores), np.std(lr_best_scores)"
   ]
  },
  {
   "cell_type": "markdown",
   "id": "6d01925b",
   "metadata": {},
   "source": [
    "Here we get a mean of the 10 CV R2 scores for the data using Grid Search. The .733 is a little lower than the CV and R2 score we computed before. This means we can be confident that the Linear model is fitting the data around .733 of the data. It explains the Y variable, (touchdowns) with the rest of our data variables."
   ]
  },
  {
   "cell_type": "markdown",
   "id": "e6d95e5b",
   "metadata": {},
   "source": [
    "## 4.7 Ridge Regression<a id='4.7_Ridge_Regression'></a>"
   ]
  },
  {
   "cell_type": "code",
   "execution_count": 36,
   "id": "f89f9d40",
   "metadata": {},
   "outputs": [],
   "source": [
    "#Create the pipeline\n",
    "r_pipeline=make_pipeline(\n",
    "    StandardScaler(), \n",
    "    Ridge(alpha=10))"
   ]
  },
  {
   "cell_type": "markdown",
   "id": "6f19c3b5",
   "metadata": {},
   "source": [
    "After changing the parameters a few times this was the best score for the model."
   ]
  },
  {
   "cell_type": "code",
   "execution_count": 37,
   "id": "5bc64c12",
   "metadata": {},
   "outputs": [
    {
     "data": {
      "text/plain": [
       "Pipeline(steps=[('standardscaler', StandardScaler()),\n",
       "                ('ridge', Ridge(alpha=10))])"
      ]
     },
     "execution_count": 37,
     "metadata": {},
     "output_type": "execute_result"
    }
   ],
   "source": [
    "#fit to the training data\n",
    "r_pipeline.fit(X_train, y_train)"
   ]
  },
  {
   "cell_type": "code",
   "execution_count": 38,
   "id": "697dedea",
   "metadata": {},
   "outputs": [],
   "source": [
    "#predict the y (QB Rating) using the train and test data\n",
    "y_tr_pred_r = r_pipeline.predict(X_train)\n",
    "y_te_pred_r = r_pipeline.predict(X_test)"
   ]
  },
  {
   "cell_type": "markdown",
   "id": "c3fa0682",
   "metadata": {},
   "source": [
    "### 4.7.1 RR Metrics<a id='4.7.1_RR_Metrics'></a>"
   ]
  },
  {
   "cell_type": "markdown",
   "id": "46ce15f1",
   "metadata": {},
   "source": [
    "Lets check the most important score first, R2."
   ]
  },
  {
   "cell_type": "markdown",
   "id": "dbebf734",
   "metadata": {},
   "source": [
    "#### R2 Score"
   ]
  },
  {
   "cell_type": "code",
   "execution_count": 39,
   "id": "5ebfd0c8",
   "metadata": {},
   "outputs": [
    {
     "data": {
      "text/plain": [
       "(0.7906719345075179, 0.7780171773899436)"
      ]
     },
     "execution_count": 39,
     "metadata": {},
     "output_type": "execute_result"
    }
   ],
   "source": [
    "r2_score(y_train, y_tr_pred_r), r2_score(y_test, y_te_pred_r)"
   ]
  },
  {
   "cell_type": "markdown",
   "id": "e093bcc0",
   "metadata": {},
   "source": [
    "This R2 score is ok but could be better for a model that is predict the independant variable of touchdowns. The training score is slightly higher once again."
   ]
  },
  {
   "cell_type": "markdown",
   "id": "f5c45441",
   "metadata": {},
   "source": [
    "#### MAE"
   ]
  },
  {
   "cell_type": "code",
   "execution_count": 40,
   "id": "2b5b48be",
   "metadata": {},
   "outputs": [
    {
     "data": {
      "text/plain": [
       "(0.3728687781206778, 0.37961858717621005)"
      ]
     },
     "execution_count": 40,
     "metadata": {},
     "output_type": "execute_result"
    }
   ],
   "source": [
    "mean_absolute_error(y_train, y_tr_pred_r), mean_absolute_error(y_test, y_te_pred_r)"
   ]
  },
  {
   "cell_type": "markdown",
   "id": "85803abf",
   "metadata": {},
   "source": [
    "The mean absolute error for ridge regression is pretty close to our last linear regression model. Here we can expect to be .37961 off of guessing the amount of any given touchdowns a QB throws in a game utilizing our test variables in this model. "
   ]
  },
  {
   "cell_type": "markdown",
   "id": "0af26d5e",
   "metadata": {},
   "source": [
    "#### RMSE"
   ]
  },
  {
   "cell_type": "code",
   "execution_count": 41,
   "id": "5c6cbb4d",
   "metadata": {},
   "outputs": [
    {
     "data": {
      "text/plain": [
       "0.5283800123788575"
      ]
     },
     "execution_count": 41,
     "metadata": {},
     "output_type": "execute_result"
    }
   ],
   "source": [
    "sqrt(mean_squared_error(y_test,y_te_pred_r))"
   ]
  },
  {
   "cell_type": "markdown",
   "id": "ec6a5ee9",
   "metadata": {},
   "source": [
    "Once again the RMSE is close to our last model. We can expect to be off by .5283 +/- of the prediction. We could over or under guess the amount of touchdowns by .5283."
   ]
  },
  {
   "cell_type": "code",
   "execution_count": 42,
   "id": "56b48504",
   "metadata": {},
   "outputs": [
    {
     "data": {
      "text/plain": [
       "0.5119318364171611"
      ]
     },
     "execution_count": 42,
     "metadata": {},
     "output_type": "execute_result"
    }
   ],
   "source": [
    "sqrt(mean_squared_error(y_train,y_tr_pred_r))"
   ]
  },
  {
   "cell_type": "markdown",
   "id": "4e5e410e",
   "metadata": {},
   "source": [
    "The training model has a lower RMSE. Wich means we could predict the amount of touchdowns plus or minus in the training set."
   ]
  },
  {
   "cell_type": "markdown",
   "id": "0094458a",
   "metadata": {},
   "source": [
    "### 4.7.2 Cross Validation of Ridge Regression<a id='4.7.2_Cross_Validation_of_Ridge_Regression'></a>"
   ]
  },
  {
   "cell_type": "markdown",
   "id": "51abe172",
   "metadata": {},
   "source": [
    "Lets do a 10 CV of Ridge Regression. "
   ]
  },
  {
   "cell_type": "code",
   "execution_count": 43,
   "id": "c6cbd34d",
   "metadata": {},
   "outputs": [
    {
     "data": {
      "text/plain": [
       "{'fit_time': array([0.01998854, 0.01599646, 0.01699543, 0.01998806, 0.01999044,\n",
       "        0.01199174, 0.01998878, 0.01399684, 0.02098536, 0.01900721]),\n",
       " 'score_time': array([0.00300264, 0.00599337, 0.00299716, 0.00199699, 0.00399613,\n",
       "        0.0049963 , 0.00299788, 0.00499463, 0.00499582, 0.00399804]),\n",
       " 'test_score': array([0.81061265, 0.80404773, 0.73904116, 0.81154059, 0.75992797,\n",
       "        0.79425532, 0.802458  , 0.69468228, 0.80862431, 0.80331953])}"
      ]
     },
     "execution_count": 43,
     "metadata": {},
     "output_type": "execute_result"
    }
   ],
   "source": [
    "cv_results_rr = cross_validate(r_pipeline, X_train, y_train, cv=10)\n",
    "cv_results_rr"
   ]
  },
  {
   "cell_type": "code",
   "execution_count": 44,
   "id": "9886a363",
   "metadata": {},
   "outputs": [
    {
     "data": {
      "text/plain": [
       "array([0.81061265, 0.80404773, 0.73904116, 0.81154059, 0.75992797,\n",
       "       0.79425532, 0.802458  , 0.69468228, 0.80862431, 0.80331953])"
      ]
     },
     "execution_count": 44,
     "metadata": {},
     "output_type": "execute_result"
    }
   ],
   "source": [
    "cv_scores_rr = cv_results_rr['test_score']\n",
    "cv_scores_rr"
   ]
  },
  {
   "cell_type": "code",
   "execution_count": 45,
   "id": "6e4c1206",
   "metadata": {},
   "outputs": [
    {
     "data": {
      "text/plain": [
       "(0.7828509535714215, 0.03722809495198848)"
      ]
     },
     "execution_count": 45,
     "metadata": {},
     "output_type": "execute_result"
    }
   ],
   "source": [
    "np.mean(cv_scores_rr), np.std(cv_scores_rr)"
   ]
  },
  {
   "cell_type": "markdown",
   "id": "b1ecd974",
   "metadata": {},
   "source": [
    "The CV mean score is just a little higher than the original R2 score."
   ]
  },
  {
   "cell_type": "markdown",
   "id": "38d1ed66",
   "metadata": {},
   "source": [
    "### 4.7.3 Grid Search CV for RR<a id='4.7.3_Grid_Search_CV_for_RR'></a>"
   ]
  },
  {
   "cell_type": "markdown",
   "id": "09874955",
   "metadata": {},
   "source": [
    "Here we will run a Grid Search on Ridge Regression. Lets try out some different alpha variables to see what we get."
   ]
  },
  {
   "cell_type": "code",
   "execution_count": 46,
   "id": "0506b842",
   "metadata": {},
   "outputs": [],
   "source": [
    "param_grid = {'alpha': [0.1, 1, 10, 100]}          "
   ]
  },
  {
   "cell_type": "code",
   "execution_count": 47,
   "id": "f46dbd11",
   "metadata": {},
   "outputs": [],
   "source": [
    "rr_grid_cv = GridSearchCV(Ridge(), param_grid, refit = True, verbose = 3,n_jobs=-1) "
   ]
  },
  {
   "cell_type": "code",
   "execution_count": 48,
   "id": "e0d24923",
   "metadata": {},
   "outputs": [
    {
     "name": "stdout",
     "output_type": "stream",
     "text": [
      "Fitting 5 folds for each of 4 candidates, totalling 20 fits\n"
     ]
    },
    {
     "data": {
      "text/plain": [
       "GridSearchCV(estimator=Ridge(), n_jobs=-1,\n",
       "             param_grid={'alpha': [0.1, 1, 10, 100]}, verbose=3)"
      ]
     },
     "execution_count": 48,
     "metadata": {},
     "output_type": "execute_result"
    }
   ],
   "source": [
    "rr_grid_cv.fit(X_train, y_train)"
   ]
  },
  {
   "cell_type": "code",
   "execution_count": 49,
   "id": "dedff7cf",
   "metadata": {},
   "outputs": [
    {
     "data": {
      "text/plain": [
       "{'alpha': 0.1}"
      ]
     },
     "execution_count": 49,
     "metadata": {},
     "output_type": "execute_result"
    }
   ],
   "source": [
    "rr_grid_cv.best_params_"
   ]
  },
  {
   "cell_type": "markdown",
   "id": "b4d09383",
   "metadata": {},
   "source": [
    "The best parameter is an alpha of .1."
   ]
  },
  {
   "cell_type": "code",
   "execution_count": 50,
   "id": "e57cad4e",
   "metadata": {},
   "outputs": [
    {
     "data": {
      "text/plain": [
       "array([0.81067923, 0.80402985, 0.73929009, 0.8116448 , 0.76011151,\n",
       "       0.7943459 , 0.80239554, 0.694259  , 0.8081836 , 0.80356723])"
      ]
     },
     "execution_count": 50,
     "metadata": {},
     "output_type": "execute_result"
    }
   ],
   "source": [
    "rr_best_cv_results = cross_validate(rr_grid_cv.best_estimator_, X_train, y_train, cv=10)\n",
    "rr_best_scores = rr_best_cv_results['test_score']\n",
    "rr_best_scores"
   ]
  },
  {
   "cell_type": "markdown",
   "id": "01d5649c",
   "metadata": {},
   "source": [
    "These are the 10 different Grid Search CV scores on the data."
   ]
  },
  {
   "cell_type": "code",
   "execution_count": 51,
   "id": "25b5640e",
   "metadata": {},
   "outputs": [
    {
     "data": {
      "text/plain": [
       "(0.7828506756018052, 0.037283026133781955)"
      ]
     },
     "execution_count": 51,
     "metadata": {},
     "output_type": "execute_result"
    }
   ],
   "source": [
    "np.mean(rr_best_scores), np.std(rr_best_scores)"
   ]
  },
  {
   "cell_type": "markdown",
   "id": "1707b751",
   "metadata": {},
   "source": [
    "The mean of those scores is .782 and the standard deviation is .0372. This R2 Grid Search CV score is very close to the CV mean and our original R2 score that we got previously but slightly lower."
   ]
  },
  {
   "cell_type": "markdown",
   "id": "d6055f2b",
   "metadata": {},
   "source": [
    "## 4.8 Lasso Regression<a id='4.8_Lasso_Regression'></a>"
   ]
  },
  {
   "cell_type": "code",
   "execution_count": 52,
   "id": "213fdbd9",
   "metadata": {},
   "outputs": [],
   "source": [
    "#Create the pipeline\n",
    "l_pipeline=make_pipeline(\n",
    "    StandardScaler(), \n",
    "    Lasso(alpha=.001, random_state=42, max_iter=1000))"
   ]
  },
  {
   "cell_type": "markdown",
   "id": "e7bf90df",
   "metadata": {},
   "source": [
    "This was the best model for Lasso Regression after changing the parameters a few times. In particular I changed the alpha around from .002, .003, 1,10,20,35 and 100. The lower penalization alpha of .001 was the best model for our data."
   ]
  },
  {
   "cell_type": "code",
   "execution_count": 53,
   "id": "ecf139b3",
   "metadata": {},
   "outputs": [
    {
     "data": {
      "text/plain": [
       "Pipeline(steps=[('standardscaler', StandardScaler()),\n",
       "                ('lasso', Lasso(alpha=0.001, random_state=42))])"
      ]
     },
     "execution_count": 53,
     "metadata": {},
     "output_type": "execute_result"
    }
   ],
   "source": [
    "#fit to the training data\n",
    "l_pipeline.fit(X_train, y_train)"
   ]
  },
  {
   "cell_type": "code",
   "execution_count": 54,
   "id": "db1e1078",
   "metadata": {},
   "outputs": [],
   "source": [
    "#predict the y (QB Rating) using the train and test data\n",
    "y_tr_pred_l = l_pipeline.predict(X_train)\n",
    "y_te_pred_l = l_pipeline.predict(X_test)"
   ]
  },
  {
   "cell_type": "markdown",
   "id": "c6d46c46",
   "metadata": {},
   "source": [
    "Lets look at the predictions for the y test."
   ]
  },
  {
   "cell_type": "code",
   "execution_count": 55,
   "id": "ecf8878c",
   "metadata": {},
   "outputs": [
    {
     "data": {
      "text/plain": [
       "array([ 0.96656131,  1.5360834 ,  2.28769757, ...,  0.9185723 ,\n",
       "       -0.53319295,  1.1021776 ])"
      ]
     },
     "execution_count": 55,
     "metadata": {},
     "output_type": "execute_result"
    }
   ],
   "source": [
    "y_te_pred_l"
   ]
  },
  {
   "cell_type": "markdown",
   "id": "364bf3f1",
   "metadata": {},
   "source": [
    "Lasso Regression is model is working."
   ]
  },
  {
   "cell_type": "markdown",
   "id": "ee16c50c",
   "metadata": {},
   "source": [
    "### 4.8.1 Lasso Regression Metrics<a id='4.8.1_Lasso_Regression_Metrics'></a>"
   ]
  },
  {
   "cell_type": "markdown",
   "id": "4685fe79",
   "metadata": {},
   "source": [
    "#### R2 Score"
   ]
  },
  {
   "cell_type": "code",
   "execution_count": 56,
   "id": "af93c15b",
   "metadata": {},
   "outputs": [
    {
     "data": {
      "text/plain": [
       "(0.7906819550245227, 0.7779645798606276)"
      ]
     },
     "execution_count": 56,
     "metadata": {},
     "output_type": "execute_result"
    }
   ],
   "source": [
    "r2_score(y_train, y_tr_pred_l), r2_score(y_test, y_te_pred_l)"
   ]
  },
  {
   "cell_type": "markdown",
   "id": "7bb8552c",
   "metadata": {},
   "source": [
    "The Lasso Regression is pretty relative to the other models so far at a R2 score of .779 on predicting the y in the test data. So far this score is slightly higher than Ridge Regression."
   ]
  },
  {
   "cell_type": "markdown",
   "id": "d3316f09",
   "metadata": {},
   "source": [
    "#### MAE"
   ]
  },
  {
   "cell_type": "code",
   "execution_count": 57,
   "id": "044b3672",
   "metadata": {},
   "outputs": [
    {
     "data": {
      "text/plain": [
       "(0.37192380704279043, 0.3785919709341438)"
      ]
     },
     "execution_count": 57,
     "metadata": {},
     "output_type": "execute_result"
    }
   ],
   "source": [
    "mean_absolute_error(y_train, y_tr_pred_l), mean_absolute_error(y_test, y_te_pred_l)"
   ]
  },
  {
   "cell_type": "markdown",
   "id": "f5398988",
   "metadata": {},
   "source": [
    "This MAE acore is relative to the other two models so far."
   ]
  },
  {
   "cell_type": "markdown",
   "id": "847df849",
   "metadata": {},
   "source": [
    "#### RMSE"
   ]
  },
  {
   "cell_type": "code",
   "execution_count": 58,
   "id": "d592be0f",
   "metadata": {},
   "outputs": [
    {
     "data": {
      "text/plain": [
       "0.5284426069454146"
      ]
     },
     "execution_count": 58,
     "metadata": {},
     "output_type": "execute_result"
    }
   ],
   "source": [
    "sqrt(mean_squared_error(y_test,y_te_pred_l))"
   ]
  },
  {
   "cell_type": "markdown",
   "id": "4c5cba5f",
   "metadata": {},
   "source": [
    "This model is off by over .528 touchdowns +/- per prediction in the test data. The Lasso Regression is very close to the Ridge Regression for the RMSE."
   ]
  },
  {
   "cell_type": "code",
   "execution_count": 59,
   "id": "c8ae6e1e",
   "metadata": {},
   "outputs": [
    {
     "data": {
      "text/plain": [
       "0.5119195832034019"
      ]
     },
     "execution_count": 59,
     "metadata": {},
     "output_type": "execute_result"
    }
   ],
   "source": [
    "sqrt(mean_squared_error(y_train,y_tr_pred_l))"
   ]
  },
  {
   "cell_type": "markdown",
   "id": "4bfc5f80",
   "metadata": {},
   "source": [
    "A slightly lower RMSE score on the training data. This means the the model is better at predicting touchdowns in the training data."
   ]
  },
  {
   "cell_type": "markdown",
   "id": "649ee3f8",
   "metadata": {},
   "source": [
    "### 4.8.2 Cross Validation of Lasso Regression<a id='4.8.2_Cross_Validation_of_Lasso_Regression'></a>"
   ]
  },
  {
   "cell_type": "markdown",
   "id": "b7f95b3d",
   "metadata": {},
   "source": [
    "Lets try a cross validation of 10 on Lasso Regression."
   ]
  },
  {
   "cell_type": "code",
   "execution_count": 60,
   "id": "edc95c84",
   "metadata": {},
   "outputs": [
    {
     "data": {
      "text/plain": [
       "{'fit_time': array([0.06495929, 0.06396317, 0.06596279, 0.05597091, 0.05596566,\n",
       "        0.06296349, 0.06296611, 0.0629611 , 0.05996537, 0.06196809]),\n",
       " 'score_time': array([0.00299859, 0.0049963 , 0.00199819, 0.0029974 , 0.0039978 ,\n",
       "        0.00499749, 0.0049963 , 0.00399899, 0.00399733, 0.00299692]),\n",
       " 'test_score': array([0.8117399 , 0.80489404, 0.73463088, 0.81250893, 0.75766884,\n",
       "        0.79486866, 0.80352   , 0.69059874, 0.81013249, 0.80447323])}"
      ]
     },
     "execution_count": 60,
     "metadata": {},
     "output_type": "execute_result"
    }
   ],
   "source": [
    "cv_results_l = cross_validate(l_pipeline, X_train, y_train, cv=10)\n",
    "cv_results_l"
   ]
  },
  {
   "cell_type": "code",
   "execution_count": 61,
   "id": "cad6f5d7",
   "metadata": {},
   "outputs": [
    {
     "data": {
      "text/plain": [
       "array([0.8117399 , 0.80489404, 0.73463088, 0.81250893, 0.75766884,\n",
       "       0.79486866, 0.80352   , 0.69059874, 0.81013249, 0.80447323])"
      ]
     },
     "execution_count": 61,
     "metadata": {},
     "output_type": "execute_result"
    }
   ],
   "source": [
    "cv_scores_l = cv_results_l['test_score']\n",
    "cv_scores_l"
   ]
  },
  {
   "cell_type": "code",
   "execution_count": 62,
   "id": "e4f96ea4",
   "metadata": {},
   "outputs": [
    {
     "data": {
      "text/plain": [
       "(0.7825035687930466, 0.039309137165472095)"
      ]
     },
     "execution_count": 62,
     "metadata": {},
     "output_type": "execute_result"
    }
   ],
   "source": [
    "np.mean(cv_scores_l), np.std(cv_scores_l)"
   ]
  },
  {
   "cell_type": "markdown",
   "id": "8e85c032",
   "metadata": {},
   "source": [
    "Here we get a mean of the 10 CVs of .782 and a std of .0372. This is higher than the .779 original R2 score."
   ]
  },
  {
   "cell_type": "markdown",
   "id": "1fe8d3ee",
   "metadata": {},
   "source": [
    "### 4.8.3 Grid Search CV for Lasso Regression<a id='4.8.3_Grid_Search_for_Lasso_Regression'></a> "
   ]
  },
  {
   "cell_type": "markdown",
   "id": "ff643bb6",
   "metadata": {},
   "source": [
    "Now we will do a grid search on Lasso Regression. Lets try some different alpha and maximum iterators numbers."
   ]
  },
  {
   "cell_type": "code",
   "execution_count": 63,
   "id": "65e291f9",
   "metadata": {},
   "outputs": [],
   "source": [
    "param_grid = {'alpha': [0.1, 1, 10, 100], 'max_iter':[10000]}"
   ]
  },
  {
   "cell_type": "code",
   "execution_count": 64,
   "id": "f28a107e",
   "metadata": {},
   "outputs": [],
   "source": [
    "l_grid_cv = GridSearchCV(Lasso(), param_grid, refit = True, verbose = 3,n_jobs=-1) "
   ]
  },
  {
   "cell_type": "code",
   "execution_count": 65,
   "id": "4c6b15b3",
   "metadata": {},
   "outputs": [
    {
     "name": "stdout",
     "output_type": "stream",
     "text": [
      "Fitting 5 folds for each of 4 candidates, totalling 20 fits\n"
     ]
    },
    {
     "data": {
      "text/plain": [
       "GridSearchCV(estimator=Lasso(), n_jobs=-1,\n",
       "             param_grid={'alpha': [0.1, 1, 10, 100], 'max_iter': [10000]},\n",
       "             verbose=3)"
      ]
     },
     "execution_count": 65,
     "metadata": {},
     "output_type": "execute_result"
    }
   ],
   "source": [
    "l_grid_cv.fit(X_train, y_train)"
   ]
  },
  {
   "cell_type": "code",
   "execution_count": 66,
   "id": "0eb2bead",
   "metadata": {},
   "outputs": [
    {
     "data": {
      "text/plain": [
       "{'alpha': 0.1, 'max_iter': 10000}"
      ]
     },
     "execution_count": 66,
     "metadata": {},
     "output_type": "execute_result"
    }
   ],
   "source": [
    "l_grid_cv.best_params_"
   ]
  },
  {
   "cell_type": "markdown",
   "id": "322cdb3d",
   "metadata": {},
   "source": [
    "The Grid Search found the best results are an alpha of .1 and a max iterator of 10,000."
   ]
  },
  {
   "cell_type": "code",
   "execution_count": 67,
   "id": "eae358a2",
   "metadata": {},
   "outputs": [
    {
     "data": {
      "text/plain": [
       "array([0.69301418, 0.70537618, 0.71904834, 0.72593044, 0.71497801,\n",
       "       0.70683503, 0.69980357, 0.6949455 , 0.72641134, 0.70297613])"
      ]
     },
     "execution_count": 67,
     "metadata": {},
     "output_type": "execute_result"
    }
   ],
   "source": [
    "l_best_cv_results = cross_validate(l_grid_cv.best_estimator_, X_train, y_train, cv=10)\n",
    "l_best_scores = l_best_cv_results['test_score']\n",
    "l_best_scores"
   ]
  },
  {
   "cell_type": "code",
   "execution_count": 68,
   "id": "7182aeae",
   "metadata": {},
   "outputs": [
    {
     "data": {
      "text/plain": [
       "(0.7089318713802191, 0.011481331926527916)"
      ]
     },
     "execution_count": 68,
     "metadata": {},
     "output_type": "execute_result"
    }
   ],
   "source": [
    "np.mean(l_best_scores), np.std(l_best_scores)"
   ]
  },
  {
   "cell_type": "markdown",
   "id": "19ccafbf",
   "metadata": {},
   "source": [
    "This average mean and std in Grid Search are lower than the values we found for the cross validation of Lasso."
   ]
  },
  {
   "cell_type": "markdown",
   "id": "064c7264",
   "metadata": {},
   "source": [
    "## 4.9 Random Forest Model<a id='4.9_Random_Forest_Model'></a>"
   ]
  },
  {
   "cell_type": "code",
   "execution_count": 69,
   "id": "14d71fa2",
   "metadata": {},
   "outputs": [],
   "source": [
    "#Create the pipeline\n",
    "rf_pipeline=make_pipeline(\n",
    "    StandardScaler(), \n",
    "    RandomForestRegressor(n_estimators = 10000,\n",
    "                           random_state = 42,\n",
    "                           min_samples_split = 10,\n",
    "                           bootstrap = True))"
   ]
  },
  {
   "cell_type": "code",
   "execution_count": 70,
   "id": "28f97774",
   "metadata": {},
   "outputs": [
    {
     "data": {
      "text/plain": [
       "Pipeline(steps=[('standardscaler', StandardScaler()),\n",
       "                ('randomforestregressor',\n",
       "                 RandomForestRegressor(min_samples_split=10, n_estimators=10000,\n",
       "                                       random_state=42))])"
      ]
     },
     "execution_count": 70,
     "metadata": {},
     "output_type": "execute_result"
    }
   ],
   "source": [
    "#fit to the training data\n",
    "rf_pipeline.fit(X_train, y_train)"
   ]
  },
  {
   "cell_type": "code",
   "execution_count": 71,
   "id": "97755552",
   "metadata": {},
   "outputs": [],
   "source": [
    "#predict the y (QB Rating) using the train and test data\n",
    "y_tr_pred_rf = rf_pipeline.predict(X_train)\n",
    "y_te_pred_rf = rf_pipeline.predict(X_test)"
   ]
  },
  {
   "cell_type": "code",
   "execution_count": 72,
   "id": "6094bbaf",
   "metadata": {},
   "outputs": [
    {
     "data": {
      "text/plain": [
       "array([0., 1., 0., ..., 1., 0., 2.])"
      ]
     },
     "execution_count": 72,
     "metadata": {},
     "output_type": "execute_result"
    }
   ],
   "source": [
    "#Lets look at what RF predicts for each row\n",
    "y_tr_pred_rf"
   ]
  },
  {
   "cell_type": "markdown",
   "id": "04456e5b",
   "metadata": {},
   "source": [
    "This looks pretty good!"
   ]
  },
  {
   "cell_type": "markdown",
   "id": "24ce6b34",
   "metadata": {},
   "source": [
    "## 4.9.1 RF Metrics<a id='4.9.1_RF_Metrics'></a>"
   ]
  },
  {
   "cell_type": "code",
   "execution_count": 73,
   "id": "c54d9929",
   "metadata": {},
   "outputs": [
    {
     "data": {
      "text/plain": [
       "(0.9991705526741305, 0.9971020584351208)"
      ]
     },
     "execution_count": 73,
     "metadata": {},
     "output_type": "execute_result"
    }
   ],
   "source": [
    "r2_score(y_train, y_tr_pred_rf), r2_score(y_test, y_te_pred_rf)"
   ]
  },
  {
   "cell_type": "markdown",
   "id": "bc4bf70b",
   "metadata": {},
   "source": [
    "Wow! This is the best model by far! An R2 of .9971 in the test data is pretty good at predicting new data with the random forest model. The training test score is not that much higher."
   ]
  },
  {
   "cell_type": "code",
   "execution_count": 74,
   "id": "77e3df5c",
   "metadata": {},
   "outputs": [
    {
     "data": {
      "text/plain": [
       "(0.0034843786707509923, 0.006537173162885364)"
      ]
     },
     "execution_count": 74,
     "metadata": {},
     "output_type": "execute_result"
    }
   ],
   "source": [
    "mean_absolute_error(y_train, y_tr_pred_rf), mean_absolute_error(y_test, y_te_pred_rf)"
   ]
  },
  {
   "cell_type": "markdown",
   "id": "14bdbf58",
   "metadata": {},
   "source": [
    "We can predict that we can be off by .0065 of a touchdown given any row of data."
   ]
  },
  {
   "cell_type": "code",
   "execution_count": 75,
   "id": "92c52a47",
   "metadata": {},
   "outputs": [
    {
     "data": {
      "text/plain": [
       "0.060371436260887"
      ]
     },
     "execution_count": 75,
     "metadata": {},
     "output_type": "execute_result"
    }
   ],
   "source": [
    "sqrt(mean_squared_error(y_test,y_te_pred_rf))"
   ]
  },
  {
   "cell_type": "code",
   "execution_count": 76,
   "id": "88c5646e",
   "metadata": {},
   "outputs": [
    {
     "data": {
      "text/plain": [
       "0.03222499171236639"
      ]
     },
     "execution_count": 76,
     "metadata": {},
     "output_type": "execute_result"
    }
   ],
   "source": [
    "sqrt(mean_squared_error(y_train,y_tr_pred_rf))"
   ]
  },
  {
   "cell_type": "markdown",
   "id": "b7bb1342",
   "metadata": {},
   "source": [
    "The RMSE is very good as well for the RF model. It is a very low number. We could be off by .0603 +/- a touchdown given the data."
   ]
  },
  {
   "cell_type": "markdown",
   "id": "e815483f",
   "metadata": {},
   "source": [
    "### 4.9.2 Cross Validation of RF<a id='4.9.2_Cross_Validation_of_RF'></a>"
   ]
  },
  {
   "cell_type": "markdown",
   "id": "f96d96a2",
   "metadata": {},
   "source": [
    "Now lets try a CV of Random Forest."
   ]
  },
  {
   "cell_type": "code",
   "execution_count": 77,
   "id": "87e82326",
   "metadata": {},
   "outputs": [
    {
     "data": {
      "text/plain": [
       "{'fit_time': array([388.70339704, 135.12183571, 137.74378371, 135.51948953,\n",
       "        136.53145313, 137.38998008, 135.21757078, 125.26301837,\n",
       "        121.81878233, 122.98504758]),\n",
       " 'score_time': array([1.16499758, 1.1692152 , 1.14762163, 1.09387016, 1.15711069,\n",
       "        1.05225754, 1.05475068, 1.03540492, 1.015414  , 1.02440929]),\n",
       " 'test_score': array([0.99831267, 0.99648179, 0.99809721, 0.99797098, 0.99560623,\n",
       "        0.99725179, 0.99744879, 0.99864914, 0.99981528, 0.99770187])}"
      ]
     },
     "execution_count": 77,
     "metadata": {},
     "output_type": "execute_result"
    }
   ],
   "source": [
    "cv_results_rf = cross_validate(rf_pipeline, X_train, y_train, cv=10)\n",
    "cv_results_rf"
   ]
  },
  {
   "cell_type": "code",
   "execution_count": 78,
   "id": "9d9217e1",
   "metadata": {},
   "outputs": [
    {
     "data": {
      "text/plain": [
       "array([0.99831267, 0.99648179, 0.99809721, 0.99797098, 0.99560623,\n",
       "       0.99725179, 0.99744879, 0.99864914, 0.99981528, 0.99770187])"
      ]
     },
     "execution_count": 78,
     "metadata": {},
     "output_type": "execute_result"
    }
   ],
   "source": [
    "cv_scores_rf = cv_results_rf['test_score']\n",
    "cv_scores_rf"
   ]
  },
  {
   "cell_type": "markdown",
   "id": "f5cd93d4",
   "metadata": {},
   "source": [
    "The test scores look very high."
   ]
  },
  {
   "cell_type": "code",
   "execution_count": 79,
   "id": "7d3e4da5",
   "metadata": {},
   "outputs": [
    {
     "data": {
      "text/plain": [
       "(0.9977335743674296, 0.0011001129205543254)"
      ]
     },
     "execution_count": 79,
     "metadata": {},
     "output_type": "execute_result"
    }
   ],
   "source": [
    "np.mean(cv_scores_rf), np.std(cv_scores_rf)"
   ]
  },
  {
   "cell_type": "markdown",
   "id": "3145aef2",
   "metadata": {},
   "source": [
    "The mean and std are solid for a model. The mean CV score is just barely higher than the original R2 score."
   ]
  },
  {
   "cell_type": "markdown",
   "id": "607570d2",
   "metadata": {},
   "source": [
    "### 4.9.3 Grid Search CV for Random Forest<a id='4.9.3_Grid_Search_CV_for_Random_Forest'></a> "
   ]
  },
  {
   "cell_type": "markdown",
   "id": "eeb2ba7d",
   "metadata": {},
   "source": [
    "Lets try out the Grid Search for Random Forest using a few different number of trees and a max depths."
   ]
  },
  {
   "cell_type": "code",
   "execution_count": 80,
   "id": "f509dcc8",
   "metadata": {},
   "outputs": [],
   "source": [
    "param_grid = {'n_estimators':[100, 200, 500, 1000], 'max_depth':[10, 50, 100]}"
   ]
  },
  {
   "cell_type": "code",
   "execution_count": 81,
   "id": "55aa7c74",
   "metadata": {},
   "outputs": [],
   "source": [
    "rf_grid_cv = GridSearchCV(RandomForestRegressor(), param_grid, refit = True, verbose = 3,n_jobs=-1) "
   ]
  },
  {
   "cell_type": "code",
   "execution_count": 82,
   "id": "7b616dfc",
   "metadata": {},
   "outputs": [
    {
     "name": "stdout",
     "output_type": "stream",
     "text": [
      "Fitting 5 folds for each of 12 candidates, totalling 60 fits\n"
     ]
    },
    {
     "data": {
      "text/plain": [
       "GridSearchCV(estimator=RandomForestRegressor(), n_jobs=-1,\n",
       "             param_grid={'max_depth': [10, 50, 100],\n",
       "                         'n_estimators': [100, 200, 500, 1000]},\n",
       "             verbose=3)"
      ]
     },
     "execution_count": 82,
     "metadata": {},
     "output_type": "execute_result"
    }
   ],
   "source": [
    "rf_grid_cv.fit(X_train, y_train)"
   ]
  },
  {
   "cell_type": "code",
   "execution_count": 83,
   "id": "22b0e74a",
   "metadata": {},
   "outputs": [
    {
     "data": {
      "text/plain": [
       "{'max_depth': 10, 'n_estimators': 200}"
      ]
     },
     "execution_count": 83,
     "metadata": {},
     "output_type": "execute_result"
    }
   ],
   "source": [
    "rf_grid_cv.best_params_"
   ]
  },
  {
   "cell_type": "markdown",
   "id": "f98e731a",
   "metadata": {},
   "source": [
    "The Grid Search found that the best max depth was 100 and 100 number of trees."
   ]
  },
  {
   "cell_type": "code",
   "execution_count": 84,
   "id": "96a3f135",
   "metadata": {},
   "outputs": [
    {
     "data": {
      "text/plain": [
       "array([0.99849054, 0.99704228, 0.99802433, 0.9984509 , 0.99605966,\n",
       "       0.99611866, 0.99759887, 0.99889723, 0.99990314, 0.99814022])"
      ]
     },
     "execution_count": 84,
     "metadata": {},
     "output_type": "execute_result"
    }
   ],
   "source": [
    "rf_best_cv_results = cross_validate(rf_grid_cv.best_estimator_, X_train, y_train, cv=10)\n",
    "rf_best_scores = rf_best_cv_results['test_score']\n",
    "rf_best_scores"
   ]
  },
  {
   "cell_type": "markdown",
   "id": "c831ad4f",
   "metadata": {},
   "source": [
    "Looks like the best scores are all very high!"
   ]
  },
  {
   "cell_type": "code",
   "execution_count": 85,
   "id": "e755ad53",
   "metadata": {},
   "outputs": [
    {
     "data": {
      "text/plain": [
       "(0.9978725818862509, 0.0011450454106730575)"
      ]
     },
     "execution_count": 85,
     "metadata": {},
     "output_type": "execute_result"
    }
   ],
   "source": [
    "np.mean(rf_best_scores), np.std(rf_best_scores)"
   ]
  },
  {
   "cell_type": "markdown",
   "id": "5f7ab514",
   "metadata": {},
   "source": [
    "Looks like RF is the model after trying it out on a Grid Search. The GS mean was just barely higher than our CV mean and original R2 score."
   ]
  },
  {
   "cell_type": "markdown",
   "id": "bdf9db65",
   "metadata": {},
   "source": [
    "## 4.10 Model Metrics<a id='4.10_Model_Metrics'></a> "
   ]
  },
  {
   "cell_type": "code",
   "execution_count": 105,
   "id": "5f1b2425",
   "metadata": {},
   "outputs": [],
   "source": [
    "data = {'R2 Score': [.7773,.7780,.7779,.9971],\n",
    "        'MAE': [.3768,.3796,.3785,.0065],\n",
    "        'RMSE': [.5291,.5283,.5284,.0605],\n",
    "        'CV Mean Score': [.7821,.7828,.7825,.9977],\n",
    "        'Grid Search CV Best Score': [.7337,.7828,.7089,.9978]}\n",
    "  \n"
   ]
  },
  {
   "cell_type": "code",
   "execution_count": 106,
   "id": "b8a087cf",
   "metadata": {},
   "outputs": [],
   "source": [
    "# Creates pandas DataFrame.\n",
    "df_metrics = pd.DataFrame(data, index=['Linear Regression',\n",
    "                               'Ridge Regression',\n",
    "                               'Lasso Regression',\n",
    "                               'Random Forest Model'])"
   ]
  },
  {
   "cell_type": "code",
   "execution_count": 107,
   "id": "2fde32e2",
   "metadata": {},
   "outputs": [
    {
     "data": {
      "text/html": [
       "<div>\n",
       "<style scoped>\n",
       "    .dataframe tbody tr th:only-of-type {\n",
       "        vertical-align: middle;\n",
       "    }\n",
       "\n",
       "    .dataframe tbody tr th {\n",
       "        vertical-align: top;\n",
       "    }\n",
       "\n",
       "    .dataframe thead th {\n",
       "        text-align: right;\n",
       "    }\n",
       "</style>\n",
       "<table border=\"1\" class=\"dataframe\">\n",
       "  <thead>\n",
       "    <tr style=\"text-align: right;\">\n",
       "      <th></th>\n",
       "      <th>R2 Score</th>\n",
       "      <th>MAE</th>\n",
       "      <th>RMSE</th>\n",
       "      <th>CV Mean Score</th>\n",
       "      <th>Grid Search CV Best Score</th>\n",
       "    </tr>\n",
       "  </thead>\n",
       "  <tbody>\n",
       "    <tr>\n",
       "      <th>Linear Regression</th>\n",
       "      <td>0.7773</td>\n",
       "      <td>0.3768</td>\n",
       "      <td>0.5291</td>\n",
       "      <td>0.7821</td>\n",
       "      <td>0.7337</td>\n",
       "    </tr>\n",
       "    <tr>\n",
       "      <th>Ridge Regression</th>\n",
       "      <td>0.7780</td>\n",
       "      <td>0.3796</td>\n",
       "      <td>0.5283</td>\n",
       "      <td>0.7828</td>\n",
       "      <td>0.7828</td>\n",
       "    </tr>\n",
       "    <tr>\n",
       "      <th>Lasso Regression</th>\n",
       "      <td>0.7779</td>\n",
       "      <td>0.3785</td>\n",
       "      <td>0.5284</td>\n",
       "      <td>0.7825</td>\n",
       "      <td>0.7089</td>\n",
       "    </tr>\n",
       "    <tr>\n",
       "      <th>Random Forest Model</th>\n",
       "      <td>0.9971</td>\n",
       "      <td>0.0065</td>\n",
       "      <td>0.0605</td>\n",
       "      <td>0.9977</td>\n",
       "      <td>0.9978</td>\n",
       "    </tr>\n",
       "  </tbody>\n",
       "</table>\n",
       "</div>"
      ],
      "text/plain": [
       "                     R2 Score     MAE    RMSE  CV Mean Score  \\\n",
       "Linear Regression      0.7773  0.3768  0.5291         0.7821   \n",
       "Ridge Regression       0.7780  0.3796  0.5283         0.7828   \n",
       "Lasso Regression       0.7779  0.3785  0.5284         0.7825   \n",
       "Random Forest Model    0.9971  0.0065  0.0605         0.9977   \n",
       "\n",
       "                     Grid Search CV Best Score  \n",
       "Linear Regression                       0.7337  \n",
       "Ridge Regression                        0.7828  \n",
       "Lasso Regression                        0.7089  \n",
       "Random Forest Model                     0.9978  "
      ]
     },
     "execution_count": 107,
     "metadata": {},
     "output_type": "execute_result"
    }
   ],
   "source": [
    "df_metrics"
   ]
  },
  {
   "cell_type": "markdown",
   "id": "90a71400",
   "metadata": {},
   "source": [
    "## 4.11 Summary<a id='4.11_Summary'></a>"
   ]
  },
  {
   "cell_type": "markdown",
   "id": "da6fc685",
   "metadata": {},
   "source": [
    "In this section we tried four different models to see which one predicts the y variable the best in the test data. Our y variable is the amount of touchdowns a QB will throw in any given game. The X variable is the rest of our data columns. These different models used the X variables to predict the amount of touchdowns. \n",
    "\n",
    "The models Linear Regression, Lasso Regression and Ridge Regression were very relative. Their R2 scores were all .77. Linear Regression and Ridge Regression had an Mae of both .37 and  a RMSE of .52 in the test data. The Linear Regression had a Cross Validation average score of .782 and a standard deviation of .0413. The Grid Search CV score on Linear Regresson was even lower at .733 and a std of .014. The Grid Search is accurate at locating the true R2 score and thus we can be sure that the score is likely lower at .733. When we ran the Grid Search on Ridge Regression it had a higher score of .782. While when we ran the GS for Lasso it had a much lower score of .708.\n",
    "\n",
    "The best model was Random Forest. Its R2 score was nearly perfect at .997. A very solid MAE of .006 and RMSE of .06 on the test data. The CV average & Grid Search CV for Random Forest was a very high score of .9977 and .9979. Going forward we will use the Random Forest model since it is the most accurrate in these metrics."
   ]
  }
 ],
 "metadata": {
  "kernelspec": {
   "display_name": "Python 3 (ipykernel)",
   "language": "python",
   "name": "python3"
  },
  "language_info": {
   "codemirror_mode": {
    "name": "ipython",
    "version": 3
   },
   "file_extension": ".py",
   "mimetype": "text/x-python",
   "name": "python",
   "nbconvert_exporter": "python",
   "pygments_lexer": "ipython3",
   "version": "3.9.7"
  }
 },
 "nbformat": 4,
 "nbformat_minor": 5
}
