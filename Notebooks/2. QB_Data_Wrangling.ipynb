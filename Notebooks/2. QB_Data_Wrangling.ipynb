{
 "cells": [
  {
   "cell_type": "markdown",
   "id": "b0482712",
   "metadata": {
    "scrolled": true
   },
   "source": [
    "# 2 QB Data Wrangling"
   ]
  },
  {
   "cell_type": "markdown",
   "id": "e922d752",
   "metadata": {},
   "source": [
    "   ## 2.1 Contents<a id='2.1_Contents'></a>\n",
    "* [2 Data wrangling](#2_Data_wrangling)\n",
    "  * [2.1 Contents](#2.1_Contents)\n",
    "  * [2.2 Introduction](#2.2_Introduction)\n",
    "    * [2.2.1 Recap Of Data Science Problem](#2.2.1_Recap_Of_Data_Science_Problem)\n",
    "    * [2.2.2 Introduction To Notebook](#2.2.2_Introduction_To_Notebook)\n",
    "  * [2.3 Imports](#2.3_Imports)\n",
    "  * [2.4 Objectives](#2.4_Objectives)\n",
    "  * [2.5 Load The QB Data](#2.5_Load_The_QB_Data)\n",
    "    * [2.5.1 Clean the QB Data](#2.5.1_Clean_the_QB_Data)\n",
    "    * [2.5.2 Adding Rows](#2.5.2_Adding_Rows)\n",
    "    * [2.5.3 Rearrange Columns](#2.5.3_Rearrange_Columns)\n",
    "  * [2.6 Explore the Data](#2.6_Explore_the_Data)\n",
    "    * [2.6.1 Create Values for the INT Column with NaN](#2.6.1_Create_Values_for_the_INT_Column_with_NaN)\n",
    "    * [2.6.2 Looking at NaN Values](#2.6.2_Looking_at_NaN_Values)\n",
    "  * [2.7 Explore the Columns](#2.7_Explore_the_Columns) \n",
    "      * [2.7.1 QB Column](#2.7.1_QB_Column)\n",
    "      * [2.7.2 CMP Column](#2.7.2_CMP_Column)\n",
    "      * [2.7.3 ATT Column](#2.7.3_ATT_Column)\n",
    "      * [2.7.4 Comp % Column](#2.7.4_Comp_%_Column)\n",
    "      * [2.7.5 YDS Column](#2.7.5_yds_Column)\n",
    "      * [2.7.6 TD Column](#2.7.6_td_Column)\n",
    "      * [2.7.7 INT Column](#2.7.7_int_Column)\n",
    "      * [2.7.8 Rate Column](#2.7.8_Rate_Column)\n",
    "      * [2.7.9 Long Column](#2.7.9_long_Column)\n",
    "      * [2.7.10 Sack Column](#2.7.10_Sack_Column)\n",
    "      * [2.7.11 Game Points Column](#2.7.11_Game_Points_Column)\n",
    "      * [2.7.12 YPA Column](#2.7.12_YPA_Column)\n",
    "      * [2.7.13 TD_per CMP Column](#2.7.13_TD_per_CMP_Column)\n",
    "      * [2.7.14 TD_per ATT Column](#2.7.14_TD_per_ATT_Column)\n",
    "      * [2.7.15 loss_YDS Column](#2.7.15_Loss_YDS_Column)\n",
    "      * [2.7.16 YPC Column](#2.7.16_YPC_Column)\n",
    "      * [2.7.17 Home_Away Column](#2.7.17_Home_Away_Column)\n",
    "      * [2.7.18 Year Column](#2.7.18_Year_Column)\n",
    "  * [2.8 Taking a Look at the Data as a Whole](#2.8_Taking_a_Look_at_the_Data_as_a_Whole) \n",
    "  * [2.9 Summary](#2.9_Summary) \n"
   ]
  },
  {
   "cell_type": "markdown",
   "id": "08648514",
   "metadata": {},
   "source": [
    "## 2.2 Introduction<a id='2.2_Introduction'></a>"
   ]
  },
  {
   "cell_type": "markdown",
   "id": "dc8698d4",
   "metadata": {},
   "source": [
    "This section is about organizing the QB data and making sure it's well defined. Doing this will help imensely in the future to get what we need out of the data. Some data cleaning will be done at this stage, but we will get into cleaning more as we understand what we need in later parts of the data exploration."
   ]
  },
  {
   "cell_type": "markdown",
   "id": "c9293925",
   "metadata": {},
   "source": [
    "### 2.2.1 Recap Of Data Science Problem<a id='2.2.1_Recap_Of_Data_Science_Problem'></a>"
   ]
  },
  {
   "cell_type": "markdown",
   "id": "eb92d9f5",
   "metadata": {},
   "source": [
    "The purpose of this data science project is to evaluate Quarterbacks in the most efficient manner. A NFL team needs help in assessing the Quarterback position with predicting how many TDs they will throw based upon various variables. The QB position is arguably the most important position on the field as they touch the ball on nearly every play. Their decisions can have a huge effect on the outcome of the game. This model will help teams evaluate how many TDs a QBs will throw. Which can have an effect on whom to offer a contract, draft, bench or start."
   ]
  },
  {
   "cell_type": "markdown",
   "id": "06e2bbd0",
   "metadata": {},
   "source": [
    "### 2.2.2 Introduction To Notebook<a id='2.2.2_Introduction_To_Notebook'></a>"
   ]
  },
  {
   "cell_type": "markdown",
   "id": "758226d9",
   "metadata": {},
   "source": [
    "In Jupyter notebooks you can work in sequence. Here you can add, edit and rearrange cells around without needing to cross out code or wording. Every new cell is an oppurtunity to express a idea."
   ]
  },
  {
   "cell_type": "markdown",
   "id": "d97975aa",
   "metadata": {},
   "source": [
    "# 2.3 Imports<a id='2.3_Imports'></a>"
   ]
  },
  {
   "cell_type": "markdown",
   "id": "77c98e71",
   "metadata": {},
   "source": [
    "Here we will use os, pandas, mathplotlib, seaborn and numpy to access and manipulate the QB data. Placing your imports all together at the start of your notebook means you only need to check one place for your notebook's dependencies."
   ]
  },
  {
   "cell_type": "code",
   "execution_count": 1,
   "id": "abaf44ce",
   "metadata": {},
   "outputs": [],
   "source": [
    "import pandas as pd\n",
    "import numpy as np\n",
    "import os\n",
    "import matplotlib.pyplot as plt\n",
    "import seaborn as sns\n",
    "from sklearn.decomposition import PCA\n",
    "from sklearn.preprocessing import scale"
   ]
  },
  {
   "cell_type": "markdown",
   "id": "a81a7324",
   "metadata": {},
   "source": [
    "## 2.4 Objectives<a id='2.4_Objectives'></a>"
   ]
  },
  {
   "cell_type": "markdown",
   "id": "8ebd1a9e",
   "metadata": {},
   "source": [
    "There are four objectives:\n",
    "\n",
    "1. Do we think we have the correct data for our desired question?\n",
    "\n",
    "2. Have we identified the required target value?\n",
    "\n",
    "3. Do we have features that are potentially useful?\n",
    "\n",
    "4. Are there fundamental issues with the data?"
   ]
  },
  {
   "cell_type": "markdown",
   "id": "18e5a15a",
   "metadata": {},
   "source": [
    "## 2.5 Load The QB Data<a id='2.5_Load_The_QB_Data'></a>"
   ]
  },
  {
   "cell_type": "code",
   "execution_count": 2,
   "id": "fd6ad622",
   "metadata": {},
   "outputs": [],
   "source": [
    "# this is the supplied QB CSV data file \n",
    "df= pd.read_csv('QBStats_all.csv')"
   ]
  },
  {
   "cell_type": "markdown",
   "id": "032384e6",
   "metadata": {},
   "source": [
    "Now we need to see the first five lines to see what the data looks like just t make sure everythign looks ok! I noticed that there was NaN value for lg when I called the .info(). We will change that soon."
   ]
  },
  {
   "cell_type": "code",
   "execution_count": 3,
   "id": "0e65528b",
   "metadata": {},
   "outputs": [
    {
     "name": "stdout",
     "output_type": "stream",
     "text": [
      "<class 'pandas.core.frame.DataFrame'>\n",
      "RangeIndex: 13188 entries, 0 to 13187\n",
      "Data columns (total 14 columns):\n",
      " #   Column       Non-Null Count  Dtype  \n",
      "---  ------       --------------  -----  \n",
      " 0   qb           13188 non-null  object \n",
      " 1   att          13188 non-null  int64  \n",
      " 2   cmp          13188 non-null  int64  \n",
      " 3   yds          13188 non-null  float64\n",
      " 4   ypa          13188 non-null  float64\n",
      " 5   td           13188 non-null  int64  \n",
      " 6   int          13188 non-null  object \n",
      " 7   lg           13171 non-null  object \n",
      " 8   sack         13171 non-null  float64\n",
      " 9   loss         13171 non-null  float64\n",
      " 10  rate         13171 non-null  float64\n",
      " 11  game_points  13188 non-null  int64  \n",
      " 12  home_away    13188 non-null  object \n",
      " 13  year         13188 non-null  int64  \n",
      "dtypes: float64(5), int64(5), object(4)\n",
      "memory usage: 1.4+ MB\n"
     ]
    }
   ],
   "source": [
    "df.info()"
   ]
  },
  {
   "cell_type": "code",
   "execution_count": 4,
   "id": "49c6a7aa",
   "metadata": {},
   "outputs": [
    {
     "data": {
      "text/html": [
       "<div>\n",
       "<style scoped>\n",
       "    .dataframe tbody tr th:only-of-type {\n",
       "        vertical-align: middle;\n",
       "    }\n",
       "\n",
       "    .dataframe tbody tr th {\n",
       "        vertical-align: top;\n",
       "    }\n",
       "\n",
       "    .dataframe thead th {\n",
       "        text-align: right;\n",
       "    }\n",
       "</style>\n",
       "<table border=\"1\" class=\"dataframe\">\n",
       "  <thead>\n",
       "    <tr style=\"text-align: right;\">\n",
       "      <th></th>\n",
       "      <th>qb</th>\n",
       "      <th>att</th>\n",
       "      <th>cmp</th>\n",
       "      <th>yds</th>\n",
       "      <th>ypa</th>\n",
       "      <th>td</th>\n",
       "      <th>int</th>\n",
       "      <th>lg</th>\n",
       "      <th>sack</th>\n",
       "      <th>loss</th>\n",
       "      <th>rate</th>\n",
       "      <th>game_points</th>\n",
       "      <th>home_away</th>\n",
       "      <th>year</th>\n",
       "    </tr>\n",
       "  </thead>\n",
       "  <tbody>\n",
       "    <tr>\n",
       "      <th>0</th>\n",
       "      <td>Boomer EsiasonB. Esiason</td>\n",
       "      <td>38</td>\n",
       "      <td>25</td>\n",
       "      <td>237.0</td>\n",
       "      <td>6.2</td>\n",
       "      <td>0</td>\n",
       "      <td>0</td>\n",
       "      <td>20</td>\n",
       "      <td>2.0</td>\n",
       "      <td>11.0</td>\n",
       "      <td>82.9</td>\n",
       "      <td>13</td>\n",
       "      <td>away</td>\n",
       "      <td>1996</td>\n",
       "    </tr>\n",
       "    <tr>\n",
       "      <th>1</th>\n",
       "      <td>Jim HarbaughJ. Harbaugh</td>\n",
       "      <td>25</td>\n",
       "      <td>16</td>\n",
       "      <td>196.0</td>\n",
       "      <td>7.8</td>\n",
       "      <td>2</td>\n",
       "      <td>1</td>\n",
       "      <td>35t</td>\n",
       "      <td>0.0</td>\n",
       "      <td>0.0</td>\n",
       "      <td>98.1</td>\n",
       "      <td>20</td>\n",
       "      <td>home</td>\n",
       "      <td>1996</td>\n",
       "    </tr>\n",
       "    <tr>\n",
       "      <th>2</th>\n",
       "      <td>Paul JustinP. Justin</td>\n",
       "      <td>8</td>\n",
       "      <td>5</td>\n",
       "      <td>53.0</td>\n",
       "      <td>6.6</td>\n",
       "      <td>0</td>\n",
       "      <td>0</td>\n",
       "      <td>30</td>\n",
       "      <td>1.0</td>\n",
       "      <td>11.0</td>\n",
       "      <td>81.8</td>\n",
       "      <td>20</td>\n",
       "      <td>home</td>\n",
       "      <td>1996</td>\n",
       "    </tr>\n",
       "    <tr>\n",
       "      <th>3</th>\n",
       "      <td>Jeff GeorgeJ. George</td>\n",
       "      <td>35</td>\n",
       "      <td>16</td>\n",
       "      <td>215.0</td>\n",
       "      <td>6.1</td>\n",
       "      <td>0</td>\n",
       "      <td>0</td>\n",
       "      <td>55</td>\n",
       "      <td>7.0</td>\n",
       "      <td>53.0</td>\n",
       "      <td>65.8</td>\n",
       "      <td>6</td>\n",
       "      <td>away</td>\n",
       "      <td>1996</td>\n",
       "    </tr>\n",
       "    <tr>\n",
       "      <th>4</th>\n",
       "      <td>Kerry CollinsK. Collins</td>\n",
       "      <td>31</td>\n",
       "      <td>17</td>\n",
       "      <td>198.0</td>\n",
       "      <td>6.4</td>\n",
       "      <td>2</td>\n",
       "      <td>0</td>\n",
       "      <td>30</td>\n",
       "      <td>4.0</td>\n",
       "      <td>12.0</td>\n",
       "      <td>95.9</td>\n",
       "      <td>29</td>\n",
       "      <td>home</td>\n",
       "      <td>1996</td>\n",
       "    </tr>\n",
       "  </tbody>\n",
       "</table>\n",
       "</div>"
      ],
      "text/plain": [
       "                         qb  att  cmp    yds  ypa  td int   lg  sack  loss  \\\n",
       "0  Boomer EsiasonB. Esiason   38   25  237.0  6.2   0   0   20   2.0  11.0   \n",
       "1   Jim HarbaughJ. Harbaugh   25   16  196.0  7.8   2   1  35t   0.0   0.0   \n",
       "2      Paul JustinP. Justin    8    5   53.0  6.6   0   0   30   1.0  11.0   \n",
       "3      Jeff GeorgeJ. George   35   16  215.0  6.1   0   0   55   7.0  53.0   \n",
       "4   Kerry CollinsK. Collins   31   17  198.0  6.4   2   0   30   4.0  12.0   \n",
       "\n",
       "   rate  game_points home_away  year  \n",
       "0  82.9           13      away  1996  \n",
       "1  98.1           20      home  1996  \n",
       "2  81.8           20      home  1996  \n",
       "3  65.8            6      away  1996  \n",
       "4  95.9           29      home  1996  "
      ]
     },
     "execution_count": 4,
     "metadata": {},
     "output_type": "execute_result"
    }
   ],
   "source": [
    "#call .head() to see the first few rows \n",
    "df.head()"
   ]
  },
  {
   "cell_type": "markdown",
   "id": "b3598cdb",
   "metadata": {},
   "source": [
    "### 2.5.1 Clean the QB Data<a id='2.5.1_Clean_the_QB_Data'></a>"
   ]
  },
  {
   "cell_type": "markdown",
   "id": "6dc1c108",
   "metadata": {},
   "source": [
    "First lets rename 'lg' to 'long' and 'loss' to 'loss_yds' to be clear on what the column represents. "
   ]
  },
  {
   "cell_type": "code",
   "execution_count": 5,
   "id": "b49438f2",
   "metadata": {},
   "outputs": [],
   "source": [
    "#rename columns\n",
    "dict = {'lg': 'long',\n",
    "       'loss': 'loss_yds'}\n",
    " \n",
    "df.rename(columns=dict,\n",
    "          inplace=True)"
   ]
  },
  {
   "cell_type": "code",
   "execution_count": 6,
   "id": "75acf4c4",
   "metadata": {},
   "outputs": [],
   "source": [
    "#remove all t from long\n",
    "df['long'] = df['long'].str.replace('t', '')"
   ]
  },
  {
   "cell_type": "code",
   "execution_count": 7,
   "id": "383c93c4",
   "metadata": {},
   "outputs": [
    {
     "data": {
      "text/html": [
       "<div>\n",
       "<style scoped>\n",
       "    .dataframe tbody tr th:only-of-type {\n",
       "        vertical-align: middle;\n",
       "    }\n",
       "\n",
       "    .dataframe tbody tr th {\n",
       "        vertical-align: top;\n",
       "    }\n",
       "\n",
       "    .dataframe thead th {\n",
       "        text-align: right;\n",
       "    }\n",
       "</style>\n",
       "<table border=\"1\" class=\"dataframe\">\n",
       "  <thead>\n",
       "    <tr style=\"text-align: right;\">\n",
       "      <th></th>\n",
       "      <th>qb</th>\n",
       "      <th>att</th>\n",
       "      <th>cmp</th>\n",
       "      <th>yds</th>\n",
       "      <th>ypa</th>\n",
       "      <th>td</th>\n",
       "      <th>int</th>\n",
       "      <th>long</th>\n",
       "      <th>sack</th>\n",
       "      <th>loss_yds</th>\n",
       "      <th>rate</th>\n",
       "      <th>game_points</th>\n",
       "      <th>home_away</th>\n",
       "      <th>year</th>\n",
       "    </tr>\n",
       "  </thead>\n",
       "  <tbody>\n",
       "    <tr>\n",
       "      <th>8593</th>\n",
       "      <td>Tatum BellT. Bell</td>\n",
       "      <td>16</td>\n",
       "      <td>46</td>\n",
       "      <td>2.88</td>\n",
       "      <td>17.0</td>\n",
       "      <td>1</td>\n",
       "      <td>--</td>\n",
       "      <td>NaN</td>\n",
       "      <td>NaN</td>\n",
       "      <td>NaN</td>\n",
       "      <td>NaN</td>\n",
       "      <td>24</td>\n",
       "      <td>away</td>\n",
       "      <td>2009</td>\n",
       "    </tr>\n",
       "    <tr>\n",
       "      <th>8594</th>\n",
       "      <td>Michael PittmanM. Pittman</td>\n",
       "      <td>8</td>\n",
       "      <td>40</td>\n",
       "      <td>5.00</td>\n",
       "      <td>20.0</td>\n",
       "      <td>0</td>\n",
       "      <td>--</td>\n",
       "      <td>NaN</td>\n",
       "      <td>NaN</td>\n",
       "      <td>NaN</td>\n",
       "      <td>NaN</td>\n",
       "      <td>24</td>\n",
       "      <td>away</td>\n",
       "      <td>2009</td>\n",
       "    </tr>\n",
       "    <tr>\n",
       "      <th>8595</th>\n",
       "      <td>Shaud WilliamsS. Williams</td>\n",
       "      <td>7</td>\n",
       "      <td>31</td>\n",
       "      <td>4.43</td>\n",
       "      <td>17.0</td>\n",
       "      <td>0</td>\n",
       "      <td>--</td>\n",
       "      <td>NaN</td>\n",
       "      <td>NaN</td>\n",
       "      <td>NaN</td>\n",
       "      <td>NaN</td>\n",
       "      <td>24</td>\n",
       "      <td>away</td>\n",
       "      <td>2009</td>\n",
       "    </tr>\n",
       "    <tr>\n",
       "      <th>8596</th>\n",
       "      <td>Brooks BollingerB. Bollinger</td>\n",
       "      <td>2</td>\n",
       "      <td>3</td>\n",
       "      <td>1.50</td>\n",
       "      <td>4.0</td>\n",
       "      <td>0</td>\n",
       "      <td>--</td>\n",
       "      <td>NaN</td>\n",
       "      <td>NaN</td>\n",
       "      <td>NaN</td>\n",
       "      <td>NaN</td>\n",
       "      <td>24</td>\n",
       "      <td>away</td>\n",
       "      <td>2009</td>\n",
       "    </tr>\n",
       "    <tr>\n",
       "      <th>8597</th>\n",
       "      <td>Chris GreisenC. Greisen</td>\n",
       "      <td>1</td>\n",
       "      <td>-1</td>\n",
       "      <td>-1.00</td>\n",
       "      <td>-1.0</td>\n",
       "      <td>0</td>\n",
       "      <td>--</td>\n",
       "      <td>NaN</td>\n",
       "      <td>NaN</td>\n",
       "      <td>NaN</td>\n",
       "      <td>NaN</td>\n",
       "      <td>24</td>\n",
       "      <td>away</td>\n",
       "      <td>2009</td>\n",
       "    </tr>\n",
       "    <tr>\n",
       "      <th>8598</th>\n",
       "      <td>Shannon WoodsS. Woods</td>\n",
       "      <td>12</td>\n",
       "      <td>32</td>\n",
       "      <td>2.67</td>\n",
       "      <td>7.0</td>\n",
       "      <td>0</td>\n",
       "      <td>--</td>\n",
       "      <td>NaN</td>\n",
       "      <td>NaN</td>\n",
       "      <td>NaN</td>\n",
       "      <td>NaN</td>\n",
       "      <td>6</td>\n",
       "      <td>home</td>\n",
       "      <td>2009</td>\n",
       "    </tr>\n",
       "    <tr>\n",
       "      <th>8599</th>\n",
       "      <td>Quinn GrayQ. Gray</td>\n",
       "      <td>2</td>\n",
       "      <td>10</td>\n",
       "      <td>5.00</td>\n",
       "      <td>8.0</td>\n",
       "      <td>0</td>\n",
       "      <td>--</td>\n",
       "      <td>NaN</td>\n",
       "      <td>NaN</td>\n",
       "      <td>NaN</td>\n",
       "      <td>NaN</td>\n",
       "      <td>6</td>\n",
       "      <td>home</td>\n",
       "      <td>2009</td>\n",
       "    </tr>\n",
       "    <tr>\n",
       "      <th>8600</th>\n",
       "      <td>Charles AliC. Ali</td>\n",
       "      <td>3</td>\n",
       "      <td>7</td>\n",
       "      <td>2.33</td>\n",
       "      <td>4.0</td>\n",
       "      <td>0</td>\n",
       "      <td>--</td>\n",
       "      <td>NaN</td>\n",
       "      <td>NaN</td>\n",
       "      <td>NaN</td>\n",
       "      <td>NaN</td>\n",
       "      <td>6</td>\n",
       "      <td>home</td>\n",
       "      <td>2009</td>\n",
       "    </tr>\n",
       "    <tr>\n",
       "      <th>8601</th>\n",
       "      <td>Ingle MartinI. Martin</td>\n",
       "      <td>3</td>\n",
       "      <td>4</td>\n",
       "      <td>1.33</td>\n",
       "      <td>8.0</td>\n",
       "      <td>0</td>\n",
       "      <td>--</td>\n",
       "      <td>NaN</td>\n",
       "      <td>NaN</td>\n",
       "      <td>NaN</td>\n",
       "      <td>NaN</td>\n",
       "      <td>6</td>\n",
       "      <td>home</td>\n",
       "      <td>2009</td>\n",
       "    </tr>\n",
       "    <tr>\n",
       "      <th>8602</th>\n",
       "      <td>LaBrandon ToefieldL. Toefield</td>\n",
       "      <td>3</td>\n",
       "      <td>-1</td>\n",
       "      <td>-0.33</td>\n",
       "      <td>1.0</td>\n",
       "      <td>0</td>\n",
       "      <td>--</td>\n",
       "      <td>NaN</td>\n",
       "      <td>NaN</td>\n",
       "      <td>NaN</td>\n",
       "      <td>NaN</td>\n",
       "      <td>6</td>\n",
       "      <td>home</td>\n",
       "      <td>2009</td>\n",
       "    </tr>\n",
       "    <tr>\n",
       "      <th>8644</th>\n",
       "      <td>Michael PittmanM. Pittman</td>\n",
       "      <td>18</td>\n",
       "      <td>58</td>\n",
       "      <td>3.22</td>\n",
       "      <td>9.0</td>\n",
       "      <td>2</td>\n",
       "      <td>--</td>\n",
       "      <td>NaN</td>\n",
       "      <td>NaN</td>\n",
       "      <td>NaN</td>\n",
       "      <td>NaN</td>\n",
       "      <td>34</td>\n",
       "      <td>away</td>\n",
       "      <td>2009</td>\n",
       "    </tr>\n",
       "    <tr>\n",
       "      <th>8645</th>\n",
       "      <td>Tatum BellT. Bell</td>\n",
       "      <td>9</td>\n",
       "      <td>43</td>\n",
       "      <td>4.78</td>\n",
       "      <td>18.0</td>\n",
       "      <td>0</td>\n",
       "      <td>--</td>\n",
       "      <td>NaN</td>\n",
       "      <td>NaN</td>\n",
       "      <td>NaN</td>\n",
       "      <td>NaN</td>\n",
       "      <td>34</td>\n",
       "      <td>away</td>\n",
       "      <td>2009</td>\n",
       "    </tr>\n",
       "    <tr>\n",
       "      <th>8646</th>\n",
       "      <td>Andrew PinnockA. Pinnock</td>\n",
       "      <td>2</td>\n",
       "      <td>1</td>\n",
       "      <td>0.50</td>\n",
       "      <td>1.0</td>\n",
       "      <td>1</td>\n",
       "      <td>--</td>\n",
       "      <td>NaN</td>\n",
       "      <td>NaN</td>\n",
       "      <td>NaN</td>\n",
       "      <td>NaN</td>\n",
       "      <td>34</td>\n",
       "      <td>away</td>\n",
       "      <td>2009</td>\n",
       "    </tr>\n",
       "    <tr>\n",
       "      <th>8647</th>\n",
       "      <td>Brooks BollingerB. Bollinger</td>\n",
       "      <td>3</td>\n",
       "      <td>-6</td>\n",
       "      <td>-2.00</td>\n",
       "      <td>0.0</td>\n",
       "      <td>0</td>\n",
       "      <td>--</td>\n",
       "      <td>NaN</td>\n",
       "      <td>NaN</td>\n",
       "      <td>NaN</td>\n",
       "      <td>NaN</td>\n",
       "      <td>34</td>\n",
       "      <td>away</td>\n",
       "      <td>2009</td>\n",
       "    </tr>\n",
       "    <tr>\n",
       "      <th>8648</th>\n",
       "      <td>Cory RossC. Ross</td>\n",
       "      <td>19</td>\n",
       "      <td>45</td>\n",
       "      <td>2.37</td>\n",
       "      <td>8.0</td>\n",
       "      <td>0</td>\n",
       "      <td>--</td>\n",
       "      <td>NaN</td>\n",
       "      <td>NaN</td>\n",
       "      <td>NaN</td>\n",
       "      <td>NaN</td>\n",
       "      <td>27</td>\n",
       "      <td>home</td>\n",
       "      <td>2009</td>\n",
       "    </tr>\n",
       "    <tr>\n",
       "      <th>8649</th>\n",
       "      <td>John David WashingtonJ. Washington</td>\n",
       "      <td>5</td>\n",
       "      <td>20</td>\n",
       "      <td>4.00</td>\n",
       "      <td>7.0</td>\n",
       "      <td>0</td>\n",
       "      <td>--</td>\n",
       "      <td>NaN</td>\n",
       "      <td>NaN</td>\n",
       "      <td>NaN</td>\n",
       "      <td>NaN</td>\n",
       "      <td>27</td>\n",
       "      <td>home</td>\n",
       "      <td>2009</td>\n",
       "    </tr>\n",
       "    <tr>\n",
       "      <th>8650</th>\n",
       "      <td>Shane BoydS. Boyd</td>\n",
       "      <td>4</td>\n",
       "      <td>5</td>\n",
       "      <td>1.25</td>\n",
       "      <td>8.0</td>\n",
       "      <td>0</td>\n",
       "      <td>--</td>\n",
       "      <td>NaN</td>\n",
       "      <td>NaN</td>\n",
       "      <td>NaN</td>\n",
       "      <td>NaN</td>\n",
       "      <td>27</td>\n",
       "      <td>home</td>\n",
       "      <td>2009</td>\n",
       "    </tr>\n",
       "  </tbody>\n",
       "</table>\n",
       "</div>"
      ],
      "text/plain": [
       "                                      qb  att  cmp   yds   ypa  td int long  \\\n",
       "8593                   Tatum BellT. Bell   16   46  2.88  17.0   1  --  NaN   \n",
       "8594           Michael PittmanM. Pittman    8   40  5.00  20.0   0  --  NaN   \n",
       "8595           Shaud WilliamsS. Williams    7   31  4.43  17.0   0  --  NaN   \n",
       "8596        Brooks BollingerB. Bollinger    2    3  1.50   4.0   0  --  NaN   \n",
       "8597             Chris GreisenC. Greisen    1   -1 -1.00  -1.0   0  --  NaN   \n",
       "8598               Shannon WoodsS. Woods   12   32  2.67   7.0   0  --  NaN   \n",
       "8599                   Quinn GrayQ. Gray    2   10  5.00   8.0   0  --  NaN   \n",
       "8600                   Charles AliC. Ali    3    7  2.33   4.0   0  --  NaN   \n",
       "8601               Ingle MartinI. Martin    3    4  1.33   8.0   0  --  NaN   \n",
       "8602       LaBrandon ToefieldL. Toefield    3   -1 -0.33   1.0   0  --  NaN   \n",
       "8644           Michael PittmanM. Pittman   18   58  3.22   9.0   2  --  NaN   \n",
       "8645                   Tatum BellT. Bell    9   43  4.78  18.0   0  --  NaN   \n",
       "8646            Andrew PinnockA. Pinnock    2    1  0.50   1.0   1  --  NaN   \n",
       "8647        Brooks BollingerB. Bollinger    3   -6 -2.00   0.0   0  --  NaN   \n",
       "8648                    Cory RossC. Ross   19   45  2.37   8.0   0  --  NaN   \n",
       "8649  John David WashingtonJ. Washington    5   20  4.00   7.0   0  --  NaN   \n",
       "8650                   Shane BoydS. Boyd    4    5  1.25   8.0   0  --  NaN   \n",
       "\n",
       "      sack  loss_yds  rate  game_points home_away  year  \n",
       "8593   NaN       NaN   NaN           24      away  2009  \n",
       "8594   NaN       NaN   NaN           24      away  2009  \n",
       "8595   NaN       NaN   NaN           24      away  2009  \n",
       "8596   NaN       NaN   NaN           24      away  2009  \n",
       "8597   NaN       NaN   NaN           24      away  2009  \n",
       "8598   NaN       NaN   NaN            6      home  2009  \n",
       "8599   NaN       NaN   NaN            6      home  2009  \n",
       "8600   NaN       NaN   NaN            6      home  2009  \n",
       "8601   NaN       NaN   NaN            6      home  2009  \n",
       "8602   NaN       NaN   NaN            6      home  2009  \n",
       "8644   NaN       NaN   NaN           34      away  2009  \n",
       "8645   NaN       NaN   NaN           34      away  2009  \n",
       "8646   NaN       NaN   NaN           34      away  2009  \n",
       "8647   NaN       NaN   NaN           34      away  2009  \n",
       "8648   NaN       NaN   NaN           27      home  2009  \n",
       "8649   NaN       NaN   NaN           27      home  2009  \n",
       "8650   NaN       NaN   NaN           27      home  2009  "
      ]
     },
     "execution_count": 7,
     "metadata": {},
     "output_type": "execute_result"
    }
   ],
   "source": [
    "df[df['long'].isna()]"
   ]
  },
  {
   "cell_type": "code",
   "execution_count": 8,
   "id": "ac17656f",
   "metadata": {},
   "outputs": [
    {
     "data": {
      "text/plain": [
       "dtype('O')"
      ]
     },
     "execution_count": 8,
     "metadata": {},
     "output_type": "execute_result"
    }
   ],
   "source": [
    "df['long'].dtype"
   ]
  },
  {
   "cell_type": "markdown",
   "id": "87795725",
   "metadata": {},
   "source": [
    "Here we can see that there is a 't' in the lg column. This represents that the QB had their longest pass of 35 yard pass that resulted into a td. we need to get rid of all the 't' and turn lg into an integer. The NaN values of long do not make much sense. For example the Tatum Bell who played RB threw for 16 attempts but only gained 2.88 yards, but had 17 yards per attempt on average. either he threw a bunch of pass that resulted in negitive yardage or the data is incorrect. This information does not make sense. We will need to clean this up in later stages and turn it into a integer."
   ]
  },
  {
   "cell_type": "markdown",
   "id": "17c74264",
   "metadata": {},
   "source": [
    "### 2.5.2 Adding Rows<a id='2.5.2_Adding_Rows'></a>"
   ]
  },
  {
   "cell_type": "markdown",
   "id": "dcf33131",
   "metadata": {},
   "source": [
    "We also need to create a few more columns to help us grade a QB on their preformance. Here we will make a column for:\n",
    "1. Completion % \n",
    "2. Yards per completion\n",
    "3. Touchdown passes per attempts %\n",
    "4. Touchdown passes per completion %"
   ]
  },
  {
   "cell_type": "code",
   "execution_count": 9,
   "id": "eacca189",
   "metadata": {},
   "outputs": [],
   "source": [
    "#create completion %\n",
    "df['comp %'] = df['cmp'] / df['att'] \n",
    "df['comp %'] = round(df['comp %']*100,1)\n",
    "\n",
    "\n",
    "#create yards per completion\n",
    "df['ypc'] = df['yds'] / df['cmp']\n",
    "df['ypc'] =round(df['ypc'], 1)\n",
    "\n",
    "\n",
    "#Touchdown Passes per attempts % = Touchdown Passes / Pass Attempts\n",
    "df['td_per_att'] = df['td'] / df['att']\n",
    "df['td_per_att'] =round(df['td_per_att'], 3)\n",
    "\n",
    "\n",
    "#Touchdown Passes per completion % = Touchdown Passes / Pass completions\n",
    "df['td_per_cmp'] = df['td'] / df['cmp']\n",
    "df['td_per_cmp'] =round(df['td_per_cmp'], 3)"
   ]
  },
  {
   "cell_type": "markdown",
   "id": "6f86dbfb",
   "metadata": {},
   "source": [
    "### 2.5.3 Rearrange Columns<a id='2.5.3_Rearrange_Columns'></a>"
   ]
  },
  {
   "cell_type": "markdown",
   "id": "3753431f",
   "metadata": {},
   "source": [
    "Lets rearrange the columns to make it look nice and put relavant columns next to each other."
   ]
  },
  {
   "cell_type": "code",
   "execution_count": 10,
   "id": "8126e821",
   "metadata": {},
   "outputs": [],
   "source": [
    "#reargange columns\n",
    "df = df[['qb', 'cmp', 'att', 'comp %', 'yds', 'td', 'int', 'rate',  'long', 'sack', 'game_points', \n",
    "          'ypa','ypc', 'td_per_cmp', 'td_per_att', 'loss_yds', 'home_away', 'year']]"
   ]
  },
  {
   "cell_type": "markdown",
   "id": "493dff55",
   "metadata": {},
   "source": [
    "Lets take a look at the four new columns, the rearganed columns and to see if the 't' was removed from the long column."
   ]
  },
  {
   "cell_type": "code",
   "execution_count": 11,
   "id": "8e65c742",
   "metadata": {},
   "outputs": [
    {
     "data": {
      "text/html": [
       "<div>\n",
       "<style scoped>\n",
       "    .dataframe tbody tr th:only-of-type {\n",
       "        vertical-align: middle;\n",
       "    }\n",
       "\n",
       "    .dataframe tbody tr th {\n",
       "        vertical-align: top;\n",
       "    }\n",
       "\n",
       "    .dataframe thead th {\n",
       "        text-align: right;\n",
       "    }\n",
       "</style>\n",
       "<table border=\"1\" class=\"dataframe\">\n",
       "  <thead>\n",
       "    <tr style=\"text-align: right;\">\n",
       "      <th></th>\n",
       "      <th>qb</th>\n",
       "      <th>cmp</th>\n",
       "      <th>att</th>\n",
       "      <th>comp %</th>\n",
       "      <th>yds</th>\n",
       "      <th>td</th>\n",
       "      <th>int</th>\n",
       "      <th>rate</th>\n",
       "      <th>long</th>\n",
       "      <th>sack</th>\n",
       "      <th>game_points</th>\n",
       "      <th>ypa</th>\n",
       "      <th>ypc</th>\n",
       "      <th>td_per_cmp</th>\n",
       "      <th>td_per_att</th>\n",
       "      <th>loss_yds</th>\n",
       "      <th>home_away</th>\n",
       "      <th>year</th>\n",
       "    </tr>\n",
       "  </thead>\n",
       "  <tbody>\n",
       "    <tr>\n",
       "      <th>0</th>\n",
       "      <td>Boomer EsiasonB. Esiason</td>\n",
       "      <td>25</td>\n",
       "      <td>38</td>\n",
       "      <td>65.8</td>\n",
       "      <td>237.0</td>\n",
       "      <td>0</td>\n",
       "      <td>0</td>\n",
       "      <td>82.9</td>\n",
       "      <td>20</td>\n",
       "      <td>2.0</td>\n",
       "      <td>13</td>\n",
       "      <td>6.2</td>\n",
       "      <td>9.5</td>\n",
       "      <td>0.000</td>\n",
       "      <td>0.000</td>\n",
       "      <td>11.0</td>\n",
       "      <td>away</td>\n",
       "      <td>1996</td>\n",
       "    </tr>\n",
       "    <tr>\n",
       "      <th>1</th>\n",
       "      <td>Jim HarbaughJ. Harbaugh</td>\n",
       "      <td>16</td>\n",
       "      <td>25</td>\n",
       "      <td>64.0</td>\n",
       "      <td>196.0</td>\n",
       "      <td>2</td>\n",
       "      <td>1</td>\n",
       "      <td>98.1</td>\n",
       "      <td>35</td>\n",
       "      <td>0.0</td>\n",
       "      <td>20</td>\n",
       "      <td>7.8</td>\n",
       "      <td>12.2</td>\n",
       "      <td>0.125</td>\n",
       "      <td>0.080</td>\n",
       "      <td>0.0</td>\n",
       "      <td>home</td>\n",
       "      <td>1996</td>\n",
       "    </tr>\n",
       "    <tr>\n",
       "      <th>2</th>\n",
       "      <td>Paul JustinP. Justin</td>\n",
       "      <td>5</td>\n",
       "      <td>8</td>\n",
       "      <td>62.5</td>\n",
       "      <td>53.0</td>\n",
       "      <td>0</td>\n",
       "      <td>0</td>\n",
       "      <td>81.8</td>\n",
       "      <td>30</td>\n",
       "      <td>1.0</td>\n",
       "      <td>20</td>\n",
       "      <td>6.6</td>\n",
       "      <td>10.6</td>\n",
       "      <td>0.000</td>\n",
       "      <td>0.000</td>\n",
       "      <td>11.0</td>\n",
       "      <td>home</td>\n",
       "      <td>1996</td>\n",
       "    </tr>\n",
       "    <tr>\n",
       "      <th>3</th>\n",
       "      <td>Jeff GeorgeJ. George</td>\n",
       "      <td>16</td>\n",
       "      <td>35</td>\n",
       "      <td>45.7</td>\n",
       "      <td>215.0</td>\n",
       "      <td>0</td>\n",
       "      <td>0</td>\n",
       "      <td>65.8</td>\n",
       "      <td>55</td>\n",
       "      <td>7.0</td>\n",
       "      <td>6</td>\n",
       "      <td>6.1</td>\n",
       "      <td>13.4</td>\n",
       "      <td>0.000</td>\n",
       "      <td>0.000</td>\n",
       "      <td>53.0</td>\n",
       "      <td>away</td>\n",
       "      <td>1996</td>\n",
       "    </tr>\n",
       "    <tr>\n",
       "      <th>4</th>\n",
       "      <td>Kerry CollinsK. Collins</td>\n",
       "      <td>17</td>\n",
       "      <td>31</td>\n",
       "      <td>54.8</td>\n",
       "      <td>198.0</td>\n",
       "      <td>2</td>\n",
       "      <td>0</td>\n",
       "      <td>95.9</td>\n",
       "      <td>30</td>\n",
       "      <td>4.0</td>\n",
       "      <td>29</td>\n",
       "      <td>6.4</td>\n",
       "      <td>11.6</td>\n",
       "      <td>0.118</td>\n",
       "      <td>0.065</td>\n",
       "      <td>12.0</td>\n",
       "      <td>home</td>\n",
       "      <td>1996</td>\n",
       "    </tr>\n",
       "  </tbody>\n",
       "</table>\n",
       "</div>"
      ],
      "text/plain": [
       "                         qb  cmp  att  comp %    yds  td int  rate long  sack  \\\n",
       "0  Boomer EsiasonB. Esiason   25   38    65.8  237.0   0   0  82.9   20   2.0   \n",
       "1   Jim HarbaughJ. Harbaugh   16   25    64.0  196.0   2   1  98.1   35   0.0   \n",
       "2      Paul JustinP. Justin    5    8    62.5   53.0   0   0  81.8   30   1.0   \n",
       "3      Jeff GeorgeJ. George   16   35    45.7  215.0   0   0  65.8   55   7.0   \n",
       "4   Kerry CollinsK. Collins   17   31    54.8  198.0   2   0  95.9   30   4.0   \n",
       "\n",
       "   game_points  ypa   ypc  td_per_cmp  td_per_att  loss_yds home_away  year  \n",
       "0           13  6.2   9.5       0.000       0.000      11.0      away  1996  \n",
       "1           20  7.8  12.2       0.125       0.080       0.0      home  1996  \n",
       "2           20  6.6  10.6       0.000       0.000      11.0      home  1996  \n",
       "3            6  6.1  13.4       0.000       0.000      53.0      away  1996  \n",
       "4           29  6.4  11.6       0.118       0.065      12.0      home  1996  "
      ]
     },
     "execution_count": 11,
     "metadata": {},
     "output_type": "execute_result"
    }
   ],
   "source": [
    "df.head()"
   ]
  },
  {
   "cell_type": "markdown",
   "id": "93bc5bce",
   "metadata": {},
   "source": [
    "Looks good!"
   ]
  },
  {
   "cell_type": "markdown",
   "id": "7bc75d82",
   "metadata": {},
   "source": [
    "## 2.6 Explore the Data<a id='2.6_Explore_the_Data'></a>"
   ]
  },
  {
   "cell_type": "markdown",
   "id": "683bb68f",
   "metadata": {},
   "source": [
    "Count the number of missing values in each column and sort them."
   ]
  },
  {
   "cell_type": "code",
   "execution_count": 12,
   "id": "0594ddbc",
   "metadata": {},
   "outputs": [
    {
     "data": {
      "text/html": [
       "<div>\n",
       "<style scoped>\n",
       "    .dataframe tbody tr th:only-of-type {\n",
       "        vertical-align: middle;\n",
       "    }\n",
       "\n",
       "    .dataframe tbody tr th {\n",
       "        vertical-align: top;\n",
       "    }\n",
       "\n",
       "    .dataframe thead th {\n",
       "        text-align: right;\n",
       "    }\n",
       "</style>\n",
       "<table border=\"1\" class=\"dataframe\">\n",
       "  <thead>\n",
       "    <tr style=\"text-align: right;\">\n",
       "      <th></th>\n",
       "      <th>count</th>\n",
       "      <th>%</th>\n",
       "    </tr>\n",
       "  </thead>\n",
       "  <tbody>\n",
       "    <tr>\n",
       "      <th>td_per_cmp</th>\n",
       "      <td>719</td>\n",
       "      <td>5.451926</td>\n",
       "    </tr>\n",
       "    <tr>\n",
       "      <th>ypc</th>\n",
       "      <td>719</td>\n",
       "      <td>5.451926</td>\n",
       "    </tr>\n",
       "    <tr>\n",
       "      <th>comp %</th>\n",
       "      <td>97</td>\n",
       "      <td>0.735517</td>\n",
       "    </tr>\n",
       "    <tr>\n",
       "      <th>td_per_att</th>\n",
       "      <td>97</td>\n",
       "      <td>0.735517</td>\n",
       "    </tr>\n",
       "    <tr>\n",
       "      <th>sack</th>\n",
       "      <td>17</td>\n",
       "      <td>0.128905</td>\n",
       "    </tr>\n",
       "    <tr>\n",
       "      <th>loss_yds</th>\n",
       "      <td>17</td>\n",
       "      <td>0.128905</td>\n",
       "    </tr>\n",
       "    <tr>\n",
       "      <th>rate</th>\n",
       "      <td>17</td>\n",
       "      <td>0.128905</td>\n",
       "    </tr>\n",
       "    <tr>\n",
       "      <th>long</th>\n",
       "      <td>17</td>\n",
       "      <td>0.128905</td>\n",
       "    </tr>\n",
       "    <tr>\n",
       "      <th>ypa</th>\n",
       "      <td>0</td>\n",
       "      <td>0.000000</td>\n",
       "    </tr>\n",
       "    <tr>\n",
       "      <th>home_away</th>\n",
       "      <td>0</td>\n",
       "      <td>0.000000</td>\n",
       "    </tr>\n",
       "    <tr>\n",
       "      <th>qb</th>\n",
       "      <td>0</td>\n",
       "      <td>0.000000</td>\n",
       "    </tr>\n",
       "    <tr>\n",
       "      <th>game_points</th>\n",
       "      <td>0</td>\n",
       "      <td>0.000000</td>\n",
       "    </tr>\n",
       "    <tr>\n",
       "      <th>cmp</th>\n",
       "      <td>0</td>\n",
       "      <td>0.000000</td>\n",
       "    </tr>\n",
       "    <tr>\n",
       "      <th>int</th>\n",
       "      <td>0</td>\n",
       "      <td>0.000000</td>\n",
       "    </tr>\n",
       "    <tr>\n",
       "      <th>td</th>\n",
       "      <td>0</td>\n",
       "      <td>0.000000</td>\n",
       "    </tr>\n",
       "    <tr>\n",
       "      <th>yds</th>\n",
       "      <td>0</td>\n",
       "      <td>0.000000</td>\n",
       "    </tr>\n",
       "    <tr>\n",
       "      <th>att</th>\n",
       "      <td>0</td>\n",
       "      <td>0.000000</td>\n",
       "    </tr>\n",
       "    <tr>\n",
       "      <th>year</th>\n",
       "      <td>0</td>\n",
       "      <td>0.000000</td>\n",
       "    </tr>\n",
       "  </tbody>\n",
       "</table>\n",
       "</div>"
      ],
      "text/plain": [
       "             count         %\n",
       "td_per_cmp     719  5.451926\n",
       "ypc            719  5.451926\n",
       "comp %          97  0.735517\n",
       "td_per_att      97  0.735517\n",
       "sack            17  0.128905\n",
       "loss_yds        17  0.128905\n",
       "rate            17  0.128905\n",
       "long            17  0.128905\n",
       "ypa              0  0.000000\n",
       "home_away        0  0.000000\n",
       "qb               0  0.000000\n",
       "game_points      0  0.000000\n",
       "cmp              0  0.000000\n",
       "int              0  0.000000\n",
       "td               0  0.000000\n",
       "yds              0  0.000000\n",
       "att              0  0.000000\n",
       "year             0  0.000000"
      ]
     },
     "execution_count": 12,
     "metadata": {},
     "output_type": "execute_result"
    }
   ],
   "source": [
    "missing = pd.concat([df.isnull().sum(), 100 * df.isnull().mean()], axis=1)\n",
    "missing.columns=[\"count\", '%']\n",
    "missing.sort_values(by='count', ascending=False)"
   ]
  },
  {
   "cell_type": "markdown",
   "id": "64ea4f60",
   "metadata": {},
   "source": [
    "td_per_comp and ypc, (yards per catch) have the most missing values at 5.45%. Comp % and td_per_att are missing .735% of their respective data. Sack, loss_yds, and rate are missing an equal amount as well at .128%. We need to investigate the missing data and decide what to enter for this missing data. Sucn as zero, the mean or something else."
   ]
  },
  {
   "cell_type": "code",
   "execution_count": 13,
   "id": "cd25b673",
   "metadata": {
    "scrolled": true
   },
   "outputs": [
    {
     "data": {
      "text/html": [
       "<div>\n",
       "<style scoped>\n",
       "    .dataframe tbody tr th:only-of-type {\n",
       "        vertical-align: middle;\n",
       "    }\n",
       "\n",
       "    .dataframe tbody tr th {\n",
       "        vertical-align: top;\n",
       "    }\n",
       "\n",
       "    .dataframe thead th {\n",
       "        text-align: right;\n",
       "    }\n",
       "</style>\n",
       "<table border=\"1\" class=\"dataframe\">\n",
       "  <thead>\n",
       "    <tr style=\"text-align: right;\">\n",
       "      <th></th>\n",
       "      <th>qb</th>\n",
       "      <th>cmp</th>\n",
       "      <th>att</th>\n",
       "      <th>comp %</th>\n",
       "      <th>yds</th>\n",
       "      <th>td</th>\n",
       "      <th>int</th>\n",
       "      <th>rate</th>\n",
       "      <th>long</th>\n",
       "      <th>sack</th>\n",
       "      <th>game_points</th>\n",
       "      <th>ypa</th>\n",
       "      <th>ypc</th>\n",
       "      <th>td_per_cmp</th>\n",
       "      <th>td_per_att</th>\n",
       "      <th>loss_yds</th>\n",
       "      <th>home_away</th>\n",
       "      <th>year</th>\n",
       "    </tr>\n",
       "  </thead>\n",
       "  <tbody>\n",
       "    <tr>\n",
       "      <th>19</th>\n",
       "      <td>Kordell StewartK. Stewart</td>\n",
       "      <td>0</td>\n",
       "      <td>2</td>\n",
       "      <td>0.0</td>\n",
       "      <td>0.0</td>\n",
       "      <td>0</td>\n",
       "      <td>0</td>\n",
       "      <td>39.6</td>\n",
       "      <td>0</td>\n",
       "      <td>0.0</td>\n",
       "      <td>9</td>\n",
       "      <td>0.0</td>\n",
       "      <td>NaN</td>\n",
       "      <td>NaN</td>\n",
       "      <td>0.0</td>\n",
       "      <td>0.0</td>\n",
       "      <td>away</td>\n",
       "      <td>1996</td>\n",
       "    </tr>\n",
       "    <tr>\n",
       "      <th>28</th>\n",
       "      <td>Elvis GrbacE. Grbac</td>\n",
       "      <td>0</td>\n",
       "      <td>2</td>\n",
       "      <td>0.0</td>\n",
       "      <td>0.0</td>\n",
       "      <td>0</td>\n",
       "      <td>0</td>\n",
       "      <td>39.6</td>\n",
       "      <td>0</td>\n",
       "      <td>0.0</td>\n",
       "      <td>27</td>\n",
       "      <td>0.0</td>\n",
       "      <td>NaN</td>\n",
       "      <td>NaN</td>\n",
       "      <td>0.0</td>\n",
       "      <td>0.0</td>\n",
       "      <td>home</td>\n",
       "      <td>1996</td>\n",
       "    </tr>\n",
       "    <tr>\n",
       "      <th>32</th>\n",
       "      <td>Bill MusgraveB. Musgrave</td>\n",
       "      <td>0</td>\n",
       "      <td>1</td>\n",
       "      <td>0.0</td>\n",
       "      <td>0.0</td>\n",
       "      <td>0</td>\n",
       "      <td>0</td>\n",
       "      <td>39.6</td>\n",
       "      <td>0</td>\n",
       "      <td>0.0</td>\n",
       "      <td>31</td>\n",
       "      <td>0.0</td>\n",
       "      <td>NaN</td>\n",
       "      <td>NaN</td>\n",
       "      <td>0.0</td>\n",
       "      <td>0.0</td>\n",
       "      <td>home</td>\n",
       "      <td>1996</td>\n",
       "    </tr>\n",
       "    <tr>\n",
       "      <th>55</th>\n",
       "      <td>Tom TupaT. Tupa</td>\n",
       "      <td>0</td>\n",
       "      <td>1</td>\n",
       "      <td>0.0</td>\n",
       "      <td>0.0</td>\n",
       "      <td>0</td>\n",
       "      <td>0</td>\n",
       "      <td>39.6</td>\n",
       "      <td>0</td>\n",
       "      <td>0.0</td>\n",
       "      <td>10</td>\n",
       "      <td>0.0</td>\n",
       "      <td>NaN</td>\n",
       "      <td>NaN</td>\n",
       "      <td>0.0</td>\n",
       "      <td>0.0</td>\n",
       "      <td>away</td>\n",
       "      <td>1996</td>\n",
       "    </tr>\n",
       "    <tr>\n",
       "      <th>66</th>\n",
       "      <td>Sean SalisburyS. Salisbury</td>\n",
       "      <td>0</td>\n",
       "      <td>1</td>\n",
       "      <td>0.0</td>\n",
       "      <td>0.0</td>\n",
       "      <td>0</td>\n",
       "      <td>1</td>\n",
       "      <td>0.0</td>\n",
       "      <td>0</td>\n",
       "      <td>0.0</td>\n",
       "      <td>27</td>\n",
       "      <td>0.0</td>\n",
       "      <td>NaN</td>\n",
       "      <td>NaN</td>\n",
       "      <td>0.0</td>\n",
       "      <td>0.0</td>\n",
       "      <td>home</td>\n",
       "      <td>1996</td>\n",
       "    </tr>\n",
       "  </tbody>\n",
       "</table>\n",
       "</div>"
      ],
      "text/plain": [
       "                            qb  cmp  att  comp %  yds  td int  rate long  \\\n",
       "19   Kordell StewartK. Stewart    0    2     0.0  0.0   0   0  39.6    0   \n",
       "28         Elvis GrbacE. Grbac    0    2     0.0  0.0   0   0  39.6    0   \n",
       "32    Bill MusgraveB. Musgrave    0    1     0.0  0.0   0   0  39.6    0   \n",
       "55             Tom TupaT. Tupa    0    1     0.0  0.0   0   0  39.6    0   \n",
       "66  Sean SalisburyS. Salisbury    0    1     0.0  0.0   0   1   0.0    0   \n",
       "\n",
       "    sack  game_points  ypa  ypc  td_per_cmp  td_per_att  loss_yds home_away  \\\n",
       "19   0.0            9  0.0  NaN         NaN         0.0       0.0      away   \n",
       "28   0.0           27  0.0  NaN         NaN         0.0       0.0      home   \n",
       "32   0.0           31  0.0  NaN         NaN         0.0       0.0      home   \n",
       "55   0.0           10  0.0  NaN         NaN         0.0       0.0      away   \n",
       "66   0.0           27  0.0  NaN         NaN         0.0       0.0      home   \n",
       "\n",
       "    year  \n",
       "19  1996  \n",
       "28  1996  \n",
       "32  1996  \n",
       "55  1996  \n",
       "66  1996  "
      ]
     },
     "execution_count": 13,
     "metadata": {},
     "output_type": "execute_result"
    }
   ],
   "source": [
    "df[df.isnull().any(axis=1)].head()"
   ]
  },
  {
   "cell_type": "markdown",
   "id": "7eb04579",
   "metadata": {},
   "source": [
    "Here we can see that the 97 comp % and td_per att are NaN values because they did not throw a pass but were credited as having a sack, (where they were going to attempt a pass but never even made it). These 97 data points dont really help us to determine the amount of TDs they will throw. We should get rid of these values since they are outliers during the data clean phase.\n",
    "\n",
    "The loss_yds and sack are correlated with 17 NaN values since the QB is accredited with loss yards for every sack that occurs. A sack is when a QB drops back to pass but is tackle behind the line of scrimmage. We will fill them in with 0s since they still have other relavant data."
   ]
  },
  {
   "cell_type": "markdown",
   "id": "1c88bf8d",
   "metadata": {},
   "source": [
    "1. We will have to clean the td_per_cmp up as well during the data clean phase. More than likely the QB did not throw a TD or had a completion."
   ]
  },
  {
   "cell_type": "markdown",
   "id": "89cc26af",
   "metadata": {},
   "source": [
    "2. Here we will have to go through the 719 rows and create a value for the NaN in the data clean section."
   ]
  },
  {
   "cell_type": "markdown",
   "id": "7c8ba4de",
   "metadata": {},
   "source": [
    "3. More than likely we will need to replace the NaN values with a 0as these players did not complete a pass."
   ]
  },
  {
   "cell_type": "markdown",
   "id": "4d8449bb",
   "metadata": {},
   "source": [
    "### 2.6.1 Create Values for the INT  Column with NaN <a id='2.6.1_Create_Values_for_the_INT_Column_with_NaN'></a>"
   ]
  },
  {
   "cell_type": "markdown",
   "id": "b63079f8",
   "metadata": {},
   "source": [
    "Lets take a look at the Interception 'int' column first. An interception is when a QB throws the ball to the other team."
   ]
  },
  {
   "cell_type": "code",
   "execution_count": 14,
   "id": "42bb5e2d",
   "metadata": {},
   "outputs": [
    {
     "data": {
      "text/plain": [
       "0     6384\n",
       "1     4089\n",
       "2     1870\n",
       "3      624\n",
       "4      166\n",
       "5       32\n",
       "--      17\n",
       "6        5\n",
       "7        1\n",
       "Name: int, dtype: int64"
      ]
     },
     "execution_count": 14,
     "metadata": {},
     "output_type": "execute_result"
    }
   ],
   "source": [
    "df['int'].value_counts()"
   ]
  },
  {
   "cell_type": "markdown",
   "id": "a691cb36",
   "metadata": {},
   "source": [
    "Here we will enter 0 for the '--'. We can assume they meant that the QB did not have an interception for that particular game."
   ]
  },
  {
   "cell_type": "code",
   "execution_count": 15,
   "id": "ffddcfd7",
   "metadata": {},
   "outputs": [],
   "source": [
    "df['int'] = df['int'].replace('--', 0)"
   ]
  },
  {
   "cell_type": "markdown",
   "id": "07ec276c",
   "metadata": {},
   "source": [
    "We need to turn the 'int' into a integer as well."
   ]
  },
  {
   "cell_type": "code",
   "execution_count": 16,
   "id": "6eb95737",
   "metadata": {},
   "outputs": [],
   "source": [
    "#int into float\n",
    "df['int']=df.int.astype(int)"
   ]
  },
  {
   "cell_type": "markdown",
   "id": "e0d405f4",
   "metadata": {},
   "source": [
    "### 2.6.2 Looking at NaN Values<a id='2.6.2_Looking_at_NaN_Values'></a>"
   ]
  },
  {
   "cell_type": "code",
   "execution_count": 17,
   "id": "a9d7661f",
   "metadata": {},
   "outputs": [
    {
     "data": {
      "text/html": [
       "<div>\n",
       "<style scoped>\n",
       "    .dataframe tbody tr th:only-of-type {\n",
       "        vertical-align: middle;\n",
       "    }\n",
       "\n",
       "    .dataframe tbody tr th {\n",
       "        vertical-align: top;\n",
       "    }\n",
       "\n",
       "    .dataframe thead th {\n",
       "        text-align: right;\n",
       "    }\n",
       "</style>\n",
       "<table border=\"1\" class=\"dataframe\">\n",
       "  <thead>\n",
       "    <tr style=\"text-align: right;\">\n",
       "      <th></th>\n",
       "      <th>count</th>\n",
       "      <th>%</th>\n",
       "    </tr>\n",
       "  </thead>\n",
       "  <tbody>\n",
       "    <tr>\n",
       "      <th>td_per_cmp</th>\n",
       "      <td>719</td>\n",
       "      <td>5.451926</td>\n",
       "    </tr>\n",
       "    <tr>\n",
       "      <th>ypc</th>\n",
       "      <td>719</td>\n",
       "      <td>5.451926</td>\n",
       "    </tr>\n",
       "    <tr>\n",
       "      <th>comp %</th>\n",
       "      <td>97</td>\n",
       "      <td>0.735517</td>\n",
       "    </tr>\n",
       "    <tr>\n",
       "      <th>td_per_att</th>\n",
       "      <td>97</td>\n",
       "      <td>0.735517</td>\n",
       "    </tr>\n",
       "    <tr>\n",
       "      <th>sack</th>\n",
       "      <td>17</td>\n",
       "      <td>0.128905</td>\n",
       "    </tr>\n",
       "    <tr>\n",
       "      <th>loss_yds</th>\n",
       "      <td>17</td>\n",
       "      <td>0.128905</td>\n",
       "    </tr>\n",
       "    <tr>\n",
       "      <th>rate</th>\n",
       "      <td>17</td>\n",
       "      <td>0.128905</td>\n",
       "    </tr>\n",
       "    <tr>\n",
       "      <th>long</th>\n",
       "      <td>17</td>\n",
       "      <td>0.128905</td>\n",
       "    </tr>\n",
       "    <tr>\n",
       "      <th>ypa</th>\n",
       "      <td>0</td>\n",
       "      <td>0.000000</td>\n",
       "    </tr>\n",
       "    <tr>\n",
       "      <th>home_away</th>\n",
       "      <td>0</td>\n",
       "      <td>0.000000</td>\n",
       "    </tr>\n",
       "    <tr>\n",
       "      <th>qb</th>\n",
       "      <td>0</td>\n",
       "      <td>0.000000</td>\n",
       "    </tr>\n",
       "    <tr>\n",
       "      <th>game_points</th>\n",
       "      <td>0</td>\n",
       "      <td>0.000000</td>\n",
       "    </tr>\n",
       "    <tr>\n",
       "      <th>cmp</th>\n",
       "      <td>0</td>\n",
       "      <td>0.000000</td>\n",
       "    </tr>\n",
       "    <tr>\n",
       "      <th>int</th>\n",
       "      <td>0</td>\n",
       "      <td>0.000000</td>\n",
       "    </tr>\n",
       "    <tr>\n",
       "      <th>td</th>\n",
       "      <td>0</td>\n",
       "      <td>0.000000</td>\n",
       "    </tr>\n",
       "    <tr>\n",
       "      <th>yds</th>\n",
       "      <td>0</td>\n",
       "      <td>0.000000</td>\n",
       "    </tr>\n",
       "    <tr>\n",
       "      <th>att</th>\n",
       "      <td>0</td>\n",
       "      <td>0.000000</td>\n",
       "    </tr>\n",
       "    <tr>\n",
       "      <th>year</th>\n",
       "      <td>0</td>\n",
       "      <td>0.000000</td>\n",
       "    </tr>\n",
       "  </tbody>\n",
       "</table>\n",
       "</div>"
      ],
      "text/plain": [
       "             count         %\n",
       "td_per_cmp     719  5.451926\n",
       "ypc            719  5.451926\n",
       "comp %          97  0.735517\n",
       "td_per_att      97  0.735517\n",
       "sack            17  0.128905\n",
       "loss_yds        17  0.128905\n",
       "rate            17  0.128905\n",
       "long            17  0.128905\n",
       "ypa              0  0.000000\n",
       "home_away        0  0.000000\n",
       "qb               0  0.000000\n",
       "game_points      0  0.000000\n",
       "cmp              0  0.000000\n",
       "int              0  0.000000\n",
       "td               0  0.000000\n",
       "yds              0  0.000000\n",
       "att              0  0.000000\n",
       "year             0  0.000000"
      ]
     },
     "execution_count": 17,
     "metadata": {},
     "output_type": "execute_result"
    }
   ],
   "source": [
    "missing = pd.concat([df.isnull().sum(), 100 * df.isnull().mean()], axis=1)\n",
    "missing.columns=[\"count\", '%']\n",
    "missing.sort_values(by='count', ascending=False)"
   ]
  },
  {
   "cell_type": "markdown",
   "id": "e98b57a5",
   "metadata": {},
   "source": [
    "During the data cleaning phase we will determine what to do with the NaNs. We do have some missing values in eight different columns. Below we will loo at each individual column."
   ]
  },
  {
   "cell_type": "code",
   "execution_count": 18,
   "id": "58070478",
   "metadata": {},
   "outputs": [
    {
     "data": {
      "text/html": [
       "<div>\n",
       "<style scoped>\n",
       "    .dataframe tbody tr th:only-of-type {\n",
       "        vertical-align: middle;\n",
       "    }\n",
       "\n",
       "    .dataframe tbody tr th {\n",
       "        vertical-align: top;\n",
       "    }\n",
       "\n",
       "    .dataframe thead th {\n",
       "        text-align: right;\n",
       "    }\n",
       "</style>\n",
       "<table border=\"1\" class=\"dataframe\">\n",
       "  <thead>\n",
       "    <tr style=\"text-align: right;\">\n",
       "      <th></th>\n",
       "      <th>qb</th>\n",
       "      <th>cmp</th>\n",
       "      <th>att</th>\n",
       "      <th>comp %</th>\n",
       "      <th>yds</th>\n",
       "      <th>td</th>\n",
       "      <th>int</th>\n",
       "      <th>rate</th>\n",
       "      <th>long</th>\n",
       "      <th>sack</th>\n",
       "      <th>game_points</th>\n",
       "      <th>ypa</th>\n",
       "      <th>ypc</th>\n",
       "      <th>td_per_cmp</th>\n",
       "      <th>td_per_att</th>\n",
       "      <th>loss_yds</th>\n",
       "      <th>home_away</th>\n",
       "      <th>year</th>\n",
       "    </tr>\n",
       "  </thead>\n",
       "  <tbody>\n",
       "    <tr>\n",
       "      <th>19</th>\n",
       "      <td>Kordell StewartK. Stewart</td>\n",
       "      <td>0</td>\n",
       "      <td>2</td>\n",
       "      <td>0.0</td>\n",
       "      <td>0.0</td>\n",
       "      <td>0</td>\n",
       "      <td>0</td>\n",
       "      <td>39.6</td>\n",
       "      <td>0</td>\n",
       "      <td>0.0</td>\n",
       "      <td>9</td>\n",
       "      <td>0.0</td>\n",
       "      <td>NaN</td>\n",
       "      <td>NaN</td>\n",
       "      <td>0.0</td>\n",
       "      <td>0.0</td>\n",
       "      <td>away</td>\n",
       "      <td>1996</td>\n",
       "    </tr>\n",
       "    <tr>\n",
       "      <th>28</th>\n",
       "      <td>Elvis GrbacE. Grbac</td>\n",
       "      <td>0</td>\n",
       "      <td>2</td>\n",
       "      <td>0.0</td>\n",
       "      <td>0.0</td>\n",
       "      <td>0</td>\n",
       "      <td>0</td>\n",
       "      <td>39.6</td>\n",
       "      <td>0</td>\n",
       "      <td>0.0</td>\n",
       "      <td>27</td>\n",
       "      <td>0.0</td>\n",
       "      <td>NaN</td>\n",
       "      <td>NaN</td>\n",
       "      <td>0.0</td>\n",
       "      <td>0.0</td>\n",
       "      <td>home</td>\n",
       "      <td>1996</td>\n",
       "    </tr>\n",
       "    <tr>\n",
       "      <th>32</th>\n",
       "      <td>Bill MusgraveB. Musgrave</td>\n",
       "      <td>0</td>\n",
       "      <td>1</td>\n",
       "      <td>0.0</td>\n",
       "      <td>0.0</td>\n",
       "      <td>0</td>\n",
       "      <td>0</td>\n",
       "      <td>39.6</td>\n",
       "      <td>0</td>\n",
       "      <td>0.0</td>\n",
       "      <td>31</td>\n",
       "      <td>0.0</td>\n",
       "      <td>NaN</td>\n",
       "      <td>NaN</td>\n",
       "      <td>0.0</td>\n",
       "      <td>0.0</td>\n",
       "      <td>home</td>\n",
       "      <td>1996</td>\n",
       "    </tr>\n",
       "    <tr>\n",
       "      <th>55</th>\n",
       "      <td>Tom TupaT. Tupa</td>\n",
       "      <td>0</td>\n",
       "      <td>1</td>\n",
       "      <td>0.0</td>\n",
       "      <td>0.0</td>\n",
       "      <td>0</td>\n",
       "      <td>0</td>\n",
       "      <td>39.6</td>\n",
       "      <td>0</td>\n",
       "      <td>0.0</td>\n",
       "      <td>10</td>\n",
       "      <td>0.0</td>\n",
       "      <td>NaN</td>\n",
       "      <td>NaN</td>\n",
       "      <td>0.0</td>\n",
       "      <td>0.0</td>\n",
       "      <td>away</td>\n",
       "      <td>1996</td>\n",
       "    </tr>\n",
       "    <tr>\n",
       "      <th>66</th>\n",
       "      <td>Sean SalisburyS. Salisbury</td>\n",
       "      <td>0</td>\n",
       "      <td>1</td>\n",
       "      <td>0.0</td>\n",
       "      <td>0.0</td>\n",
       "      <td>0</td>\n",
       "      <td>1</td>\n",
       "      <td>0.0</td>\n",
       "      <td>0</td>\n",
       "      <td>0.0</td>\n",
       "      <td>27</td>\n",
       "      <td>0.0</td>\n",
       "      <td>NaN</td>\n",
       "      <td>NaN</td>\n",
       "      <td>0.0</td>\n",
       "      <td>0.0</td>\n",
       "      <td>home</td>\n",
       "      <td>1996</td>\n",
       "    </tr>\n",
       "    <tr>\n",
       "      <th>...</th>\n",
       "      <td>...</td>\n",
       "      <td>...</td>\n",
       "      <td>...</td>\n",
       "      <td>...</td>\n",
       "      <td>...</td>\n",
       "      <td>...</td>\n",
       "      <td>...</td>\n",
       "      <td>...</td>\n",
       "      <td>...</td>\n",
       "      <td>...</td>\n",
       "      <td>...</td>\n",
       "      <td>...</td>\n",
       "      <td>...</td>\n",
       "      <td>...</td>\n",
       "      <td>...</td>\n",
       "      <td>...</td>\n",
       "      <td>...</td>\n",
       "      <td>...</td>\n",
       "    </tr>\n",
       "    <tr>\n",
       "      <th>13126</th>\n",
       "      <td>Larry FitzgeraldL. Fitzgerald</td>\n",
       "      <td>0</td>\n",
       "      <td>1</td>\n",
       "      <td>0.0</td>\n",
       "      <td>0.0</td>\n",
       "      <td>0</td>\n",
       "      <td>0</td>\n",
       "      <td>39.6</td>\n",
       "      <td>0</td>\n",
       "      <td>0.0</td>\n",
       "      <td>34</td>\n",
       "      <td>0.0</td>\n",
       "      <td>NaN</td>\n",
       "      <td>NaN</td>\n",
       "      <td>0.0</td>\n",
       "      <td>0.0</td>\n",
       "      <td>away</td>\n",
       "      <td>2016</td>\n",
       "    </tr>\n",
       "    <tr>\n",
       "      <th>13156</th>\n",
       "      <td>Antonio MorrisonA. Morrison</td>\n",
       "      <td>0</td>\n",
       "      <td>1</td>\n",
       "      <td>0.0</td>\n",
       "      <td>0.0</td>\n",
       "      <td>0</td>\n",
       "      <td>0</td>\n",
       "      <td>39.6</td>\n",
       "      <td>0</td>\n",
       "      <td>0.0</td>\n",
       "      <td>24</td>\n",
       "      <td>0.0</td>\n",
       "      <td>NaN</td>\n",
       "      <td>NaN</td>\n",
       "      <td>0.0</td>\n",
       "      <td>0.0</td>\n",
       "      <td>home</td>\n",
       "      <td>2016</td>\n",
       "    </tr>\n",
       "    <tr>\n",
       "      <th>13158</th>\n",
       "      <td>Jimmy GaroppoloJ. Garoppolo</td>\n",
       "      <td>0</td>\n",
       "      <td>1</td>\n",
       "      <td>0.0</td>\n",
       "      <td>0.0</td>\n",
       "      <td>0</td>\n",
       "      <td>0</td>\n",
       "      <td>39.6</td>\n",
       "      <td>0</td>\n",
       "      <td>0.0</td>\n",
       "      <td>35</td>\n",
       "      <td>0.0</td>\n",
       "      <td>NaN</td>\n",
       "      <td>NaN</td>\n",
       "      <td>0.0</td>\n",
       "      <td>0.0</td>\n",
       "      <td>away</td>\n",
       "      <td>2016</td>\n",
       "    </tr>\n",
       "    <tr>\n",
       "      <th>13164</th>\n",
       "      <td>Shaun HillS. Hill</td>\n",
       "      <td>0</td>\n",
       "      <td>1</td>\n",
       "      <td>0.0</td>\n",
       "      <td>0.0</td>\n",
       "      <td>0</td>\n",
       "      <td>0</td>\n",
       "      <td>39.6</td>\n",
       "      <td>0</td>\n",
       "      <td>0.0</td>\n",
       "      <td>38</td>\n",
       "      <td>0.0</td>\n",
       "      <td>NaN</td>\n",
       "      <td>NaN</td>\n",
       "      <td>0.0</td>\n",
       "      <td>0.0</td>\n",
       "      <td>home</td>\n",
       "      <td>2016</td>\n",
       "    </tr>\n",
       "    <tr>\n",
       "      <th>13179</th>\n",
       "      <td>Pharoh CooperP. Cooper</td>\n",
       "      <td>0</td>\n",
       "      <td>1</td>\n",
       "      <td>0.0</td>\n",
       "      <td>0.0</td>\n",
       "      <td>0</td>\n",
       "      <td>1</td>\n",
       "      <td>0.0</td>\n",
       "      <td>0</td>\n",
       "      <td>0.0</td>\n",
       "      <td>6</td>\n",
       "      <td>0.0</td>\n",
       "      <td>NaN</td>\n",
       "      <td>NaN</td>\n",
       "      <td>0.0</td>\n",
       "      <td>0.0</td>\n",
       "      <td>home</td>\n",
       "      <td>2016</td>\n",
       "    </tr>\n",
       "  </tbody>\n",
       "</table>\n",
       "<p>719 rows × 18 columns</p>\n",
       "</div>"
      ],
      "text/plain": [
       "                                  qb  cmp  att  comp %  yds  td  int  rate  \\\n",
       "19         Kordell StewartK. Stewart    0    2     0.0  0.0   0    0  39.6   \n",
       "28               Elvis GrbacE. Grbac    0    2     0.0  0.0   0    0  39.6   \n",
       "32          Bill MusgraveB. Musgrave    0    1     0.0  0.0   0    0  39.6   \n",
       "55                   Tom TupaT. Tupa    0    1     0.0  0.0   0    0  39.6   \n",
       "66        Sean SalisburyS. Salisbury    0    1     0.0  0.0   0    1   0.0   \n",
       "...                              ...  ...  ...     ...  ...  ..  ...   ...   \n",
       "13126  Larry FitzgeraldL. Fitzgerald    0    1     0.0  0.0   0    0  39.6   \n",
       "13156    Antonio MorrisonA. Morrison    0    1     0.0  0.0   0    0  39.6   \n",
       "13158    Jimmy GaroppoloJ. Garoppolo    0    1     0.0  0.0   0    0  39.6   \n",
       "13164              Shaun HillS. Hill    0    1     0.0  0.0   0    0  39.6   \n",
       "13179         Pharoh CooperP. Cooper    0    1     0.0  0.0   0    1   0.0   \n",
       "\n",
       "      long  sack  game_points  ypa  ypc  td_per_cmp  td_per_att  loss_yds  \\\n",
       "19       0   0.0            9  0.0  NaN         NaN         0.0       0.0   \n",
       "28       0   0.0           27  0.0  NaN         NaN         0.0       0.0   \n",
       "32       0   0.0           31  0.0  NaN         NaN         0.0       0.0   \n",
       "55       0   0.0           10  0.0  NaN         NaN         0.0       0.0   \n",
       "66       0   0.0           27  0.0  NaN         NaN         0.0       0.0   \n",
       "...    ...   ...          ...  ...  ...         ...         ...       ...   \n",
       "13126    0   0.0           34  0.0  NaN         NaN         0.0       0.0   \n",
       "13156    0   0.0           24  0.0  NaN         NaN         0.0       0.0   \n",
       "13158    0   0.0           35  0.0  NaN         NaN         0.0       0.0   \n",
       "13164    0   0.0           38  0.0  NaN         NaN         0.0       0.0   \n",
       "13179    0   0.0            6  0.0  NaN         NaN         0.0       0.0   \n",
       "\n",
       "      home_away  year  \n",
       "19         away  1996  \n",
       "28         home  1996  \n",
       "32         home  1996  \n",
       "55         away  1996  \n",
       "66         home  1996  \n",
       "...         ...   ...  \n",
       "13126      away  2016  \n",
       "13156      home  2016  \n",
       "13158      away  2016  \n",
       "13164      home  2016  \n",
       "13179      home  2016  \n",
       "\n",
       "[719 rows x 18 columns]"
      ]
     },
     "execution_count": 18,
     "metadata": {},
     "output_type": "execute_result"
    }
   ],
   "source": [
    "df[df['td_per_cmp'].isna()]"
   ]
  },
  {
   "cell_type": "code",
   "execution_count": 19,
   "id": "55e10b66",
   "metadata": {},
   "outputs": [
    {
     "data": {
      "text/html": [
       "<div>\n",
       "<style scoped>\n",
       "    .dataframe tbody tr th:only-of-type {\n",
       "        vertical-align: middle;\n",
       "    }\n",
       "\n",
       "    .dataframe tbody tr th {\n",
       "        vertical-align: top;\n",
       "    }\n",
       "\n",
       "    .dataframe thead th {\n",
       "        text-align: right;\n",
       "    }\n",
       "</style>\n",
       "<table border=\"1\" class=\"dataframe\">\n",
       "  <thead>\n",
       "    <tr style=\"text-align: right;\">\n",
       "      <th></th>\n",
       "      <th>qb</th>\n",
       "      <th>cmp</th>\n",
       "      <th>att</th>\n",
       "      <th>comp %</th>\n",
       "      <th>yds</th>\n",
       "      <th>td</th>\n",
       "      <th>int</th>\n",
       "      <th>rate</th>\n",
       "      <th>long</th>\n",
       "      <th>sack</th>\n",
       "      <th>game_points</th>\n",
       "      <th>ypa</th>\n",
       "      <th>ypc</th>\n",
       "      <th>td_per_cmp</th>\n",
       "      <th>td_per_att</th>\n",
       "      <th>loss_yds</th>\n",
       "      <th>home_away</th>\n",
       "      <th>year</th>\n",
       "    </tr>\n",
       "  </thead>\n",
       "  <tbody>\n",
       "    <tr>\n",
       "      <th>19</th>\n",
       "      <td>Kordell StewartK. Stewart</td>\n",
       "      <td>0</td>\n",
       "      <td>2</td>\n",
       "      <td>0.0</td>\n",
       "      <td>0.0</td>\n",
       "      <td>0</td>\n",
       "      <td>0</td>\n",
       "      <td>39.6</td>\n",
       "      <td>0</td>\n",
       "      <td>0.0</td>\n",
       "      <td>9</td>\n",
       "      <td>0.0</td>\n",
       "      <td>NaN</td>\n",
       "      <td>NaN</td>\n",
       "      <td>0.0</td>\n",
       "      <td>0.0</td>\n",
       "      <td>away</td>\n",
       "      <td>1996</td>\n",
       "    </tr>\n",
       "    <tr>\n",
       "      <th>28</th>\n",
       "      <td>Elvis GrbacE. Grbac</td>\n",
       "      <td>0</td>\n",
       "      <td>2</td>\n",
       "      <td>0.0</td>\n",
       "      <td>0.0</td>\n",
       "      <td>0</td>\n",
       "      <td>0</td>\n",
       "      <td>39.6</td>\n",
       "      <td>0</td>\n",
       "      <td>0.0</td>\n",
       "      <td>27</td>\n",
       "      <td>0.0</td>\n",
       "      <td>NaN</td>\n",
       "      <td>NaN</td>\n",
       "      <td>0.0</td>\n",
       "      <td>0.0</td>\n",
       "      <td>home</td>\n",
       "      <td>1996</td>\n",
       "    </tr>\n",
       "    <tr>\n",
       "      <th>32</th>\n",
       "      <td>Bill MusgraveB. Musgrave</td>\n",
       "      <td>0</td>\n",
       "      <td>1</td>\n",
       "      <td>0.0</td>\n",
       "      <td>0.0</td>\n",
       "      <td>0</td>\n",
       "      <td>0</td>\n",
       "      <td>39.6</td>\n",
       "      <td>0</td>\n",
       "      <td>0.0</td>\n",
       "      <td>31</td>\n",
       "      <td>0.0</td>\n",
       "      <td>NaN</td>\n",
       "      <td>NaN</td>\n",
       "      <td>0.0</td>\n",
       "      <td>0.0</td>\n",
       "      <td>home</td>\n",
       "      <td>1996</td>\n",
       "    </tr>\n",
       "    <tr>\n",
       "      <th>55</th>\n",
       "      <td>Tom TupaT. Tupa</td>\n",
       "      <td>0</td>\n",
       "      <td>1</td>\n",
       "      <td>0.0</td>\n",
       "      <td>0.0</td>\n",
       "      <td>0</td>\n",
       "      <td>0</td>\n",
       "      <td>39.6</td>\n",
       "      <td>0</td>\n",
       "      <td>0.0</td>\n",
       "      <td>10</td>\n",
       "      <td>0.0</td>\n",
       "      <td>NaN</td>\n",
       "      <td>NaN</td>\n",
       "      <td>0.0</td>\n",
       "      <td>0.0</td>\n",
       "      <td>away</td>\n",
       "      <td>1996</td>\n",
       "    </tr>\n",
       "    <tr>\n",
       "      <th>66</th>\n",
       "      <td>Sean SalisburyS. Salisbury</td>\n",
       "      <td>0</td>\n",
       "      <td>1</td>\n",
       "      <td>0.0</td>\n",
       "      <td>0.0</td>\n",
       "      <td>0</td>\n",
       "      <td>1</td>\n",
       "      <td>0.0</td>\n",
       "      <td>0</td>\n",
       "      <td>0.0</td>\n",
       "      <td>27</td>\n",
       "      <td>0.0</td>\n",
       "      <td>NaN</td>\n",
       "      <td>NaN</td>\n",
       "      <td>0.0</td>\n",
       "      <td>0.0</td>\n",
       "      <td>home</td>\n",
       "      <td>1996</td>\n",
       "    </tr>\n",
       "    <tr>\n",
       "      <th>...</th>\n",
       "      <td>...</td>\n",
       "      <td>...</td>\n",
       "      <td>...</td>\n",
       "      <td>...</td>\n",
       "      <td>...</td>\n",
       "      <td>...</td>\n",
       "      <td>...</td>\n",
       "      <td>...</td>\n",
       "      <td>...</td>\n",
       "      <td>...</td>\n",
       "      <td>...</td>\n",
       "      <td>...</td>\n",
       "      <td>...</td>\n",
       "      <td>...</td>\n",
       "      <td>...</td>\n",
       "      <td>...</td>\n",
       "      <td>...</td>\n",
       "      <td>...</td>\n",
       "    </tr>\n",
       "    <tr>\n",
       "      <th>13126</th>\n",
       "      <td>Larry FitzgeraldL. Fitzgerald</td>\n",
       "      <td>0</td>\n",
       "      <td>1</td>\n",
       "      <td>0.0</td>\n",
       "      <td>0.0</td>\n",
       "      <td>0</td>\n",
       "      <td>0</td>\n",
       "      <td>39.6</td>\n",
       "      <td>0</td>\n",
       "      <td>0.0</td>\n",
       "      <td>34</td>\n",
       "      <td>0.0</td>\n",
       "      <td>NaN</td>\n",
       "      <td>NaN</td>\n",
       "      <td>0.0</td>\n",
       "      <td>0.0</td>\n",
       "      <td>away</td>\n",
       "      <td>2016</td>\n",
       "    </tr>\n",
       "    <tr>\n",
       "      <th>13156</th>\n",
       "      <td>Antonio MorrisonA. Morrison</td>\n",
       "      <td>0</td>\n",
       "      <td>1</td>\n",
       "      <td>0.0</td>\n",
       "      <td>0.0</td>\n",
       "      <td>0</td>\n",
       "      <td>0</td>\n",
       "      <td>39.6</td>\n",
       "      <td>0</td>\n",
       "      <td>0.0</td>\n",
       "      <td>24</td>\n",
       "      <td>0.0</td>\n",
       "      <td>NaN</td>\n",
       "      <td>NaN</td>\n",
       "      <td>0.0</td>\n",
       "      <td>0.0</td>\n",
       "      <td>home</td>\n",
       "      <td>2016</td>\n",
       "    </tr>\n",
       "    <tr>\n",
       "      <th>13158</th>\n",
       "      <td>Jimmy GaroppoloJ. Garoppolo</td>\n",
       "      <td>0</td>\n",
       "      <td>1</td>\n",
       "      <td>0.0</td>\n",
       "      <td>0.0</td>\n",
       "      <td>0</td>\n",
       "      <td>0</td>\n",
       "      <td>39.6</td>\n",
       "      <td>0</td>\n",
       "      <td>0.0</td>\n",
       "      <td>35</td>\n",
       "      <td>0.0</td>\n",
       "      <td>NaN</td>\n",
       "      <td>NaN</td>\n",
       "      <td>0.0</td>\n",
       "      <td>0.0</td>\n",
       "      <td>away</td>\n",
       "      <td>2016</td>\n",
       "    </tr>\n",
       "    <tr>\n",
       "      <th>13164</th>\n",
       "      <td>Shaun HillS. Hill</td>\n",
       "      <td>0</td>\n",
       "      <td>1</td>\n",
       "      <td>0.0</td>\n",
       "      <td>0.0</td>\n",
       "      <td>0</td>\n",
       "      <td>0</td>\n",
       "      <td>39.6</td>\n",
       "      <td>0</td>\n",
       "      <td>0.0</td>\n",
       "      <td>38</td>\n",
       "      <td>0.0</td>\n",
       "      <td>NaN</td>\n",
       "      <td>NaN</td>\n",
       "      <td>0.0</td>\n",
       "      <td>0.0</td>\n",
       "      <td>home</td>\n",
       "      <td>2016</td>\n",
       "    </tr>\n",
       "    <tr>\n",
       "      <th>13179</th>\n",
       "      <td>Pharoh CooperP. Cooper</td>\n",
       "      <td>0</td>\n",
       "      <td>1</td>\n",
       "      <td>0.0</td>\n",
       "      <td>0.0</td>\n",
       "      <td>0</td>\n",
       "      <td>1</td>\n",
       "      <td>0.0</td>\n",
       "      <td>0</td>\n",
       "      <td>0.0</td>\n",
       "      <td>6</td>\n",
       "      <td>0.0</td>\n",
       "      <td>NaN</td>\n",
       "      <td>NaN</td>\n",
       "      <td>0.0</td>\n",
       "      <td>0.0</td>\n",
       "      <td>home</td>\n",
       "      <td>2016</td>\n",
       "    </tr>\n",
       "  </tbody>\n",
       "</table>\n",
       "<p>719 rows × 18 columns</p>\n",
       "</div>"
      ],
      "text/plain": [
       "                                  qb  cmp  att  comp %  yds  td  int  rate  \\\n",
       "19         Kordell StewartK. Stewart    0    2     0.0  0.0   0    0  39.6   \n",
       "28               Elvis GrbacE. Grbac    0    2     0.0  0.0   0    0  39.6   \n",
       "32          Bill MusgraveB. Musgrave    0    1     0.0  0.0   0    0  39.6   \n",
       "55                   Tom TupaT. Tupa    0    1     0.0  0.0   0    0  39.6   \n",
       "66        Sean SalisburyS. Salisbury    0    1     0.0  0.0   0    1   0.0   \n",
       "...                              ...  ...  ...     ...  ...  ..  ...   ...   \n",
       "13126  Larry FitzgeraldL. Fitzgerald    0    1     0.0  0.0   0    0  39.6   \n",
       "13156    Antonio MorrisonA. Morrison    0    1     0.0  0.0   0    0  39.6   \n",
       "13158    Jimmy GaroppoloJ. Garoppolo    0    1     0.0  0.0   0    0  39.6   \n",
       "13164              Shaun HillS. Hill    0    1     0.0  0.0   0    0  39.6   \n",
       "13179         Pharoh CooperP. Cooper    0    1     0.0  0.0   0    1   0.0   \n",
       "\n",
       "      long  sack  game_points  ypa  ypc  td_per_cmp  td_per_att  loss_yds  \\\n",
       "19       0   0.0            9  0.0  NaN         NaN         0.0       0.0   \n",
       "28       0   0.0           27  0.0  NaN         NaN         0.0       0.0   \n",
       "32       0   0.0           31  0.0  NaN         NaN         0.0       0.0   \n",
       "55       0   0.0           10  0.0  NaN         NaN         0.0       0.0   \n",
       "66       0   0.0           27  0.0  NaN         NaN         0.0       0.0   \n",
       "...    ...   ...          ...  ...  ...         ...         ...       ...   \n",
       "13126    0   0.0           34  0.0  NaN         NaN         0.0       0.0   \n",
       "13156    0   0.0           24  0.0  NaN         NaN         0.0       0.0   \n",
       "13158    0   0.0           35  0.0  NaN         NaN         0.0       0.0   \n",
       "13164    0   0.0           38  0.0  NaN         NaN         0.0       0.0   \n",
       "13179    0   0.0            6  0.0  NaN         NaN         0.0       0.0   \n",
       "\n",
       "      home_away  year  \n",
       "19         away  1996  \n",
       "28         home  1996  \n",
       "32         home  1996  \n",
       "55         away  1996  \n",
       "66         home  1996  \n",
       "...         ...   ...  \n",
       "13126      away  2016  \n",
       "13156      home  2016  \n",
       "13158      away  2016  \n",
       "13164      home  2016  \n",
       "13179      home  2016  \n",
       "\n",
       "[719 rows x 18 columns]"
      ]
     },
     "execution_count": 19,
     "metadata": {},
     "output_type": "execute_result"
    }
   ],
   "source": [
    "df[df['ypc'].isna()]"
   ]
  },
  {
   "cell_type": "code",
   "execution_count": 20,
   "id": "9ca383e6",
   "metadata": {},
   "outputs": [
    {
     "data": {
      "text/html": [
       "<div>\n",
       "<style scoped>\n",
       "    .dataframe tbody tr th:only-of-type {\n",
       "        vertical-align: middle;\n",
       "    }\n",
       "\n",
       "    .dataframe tbody tr th {\n",
       "        vertical-align: top;\n",
       "    }\n",
       "\n",
       "    .dataframe thead th {\n",
       "        text-align: right;\n",
       "    }\n",
       "</style>\n",
       "<table border=\"1\" class=\"dataframe\">\n",
       "  <thead>\n",
       "    <tr style=\"text-align: right;\">\n",
       "      <th></th>\n",
       "      <th>qb</th>\n",
       "      <th>cmp</th>\n",
       "      <th>att</th>\n",
       "      <th>comp %</th>\n",
       "      <th>yds</th>\n",
       "      <th>td</th>\n",
       "      <th>int</th>\n",
       "      <th>rate</th>\n",
       "      <th>long</th>\n",
       "      <th>sack</th>\n",
       "      <th>game_points</th>\n",
       "      <th>ypa</th>\n",
       "      <th>ypc</th>\n",
       "      <th>td_per_cmp</th>\n",
       "      <th>td_per_att</th>\n",
       "      <th>loss_yds</th>\n",
       "      <th>home_away</th>\n",
       "      <th>year</th>\n",
       "    </tr>\n",
       "  </thead>\n",
       "  <tbody>\n",
       "    <tr>\n",
       "      <th>75</th>\n",
       "      <td>Lawrence PhillipsL. Phillips</td>\n",
       "      <td>0</td>\n",
       "      <td>0</td>\n",
       "      <td>NaN</td>\n",
       "      <td>0.0</td>\n",
       "      <td>0</td>\n",
       "      <td>0</td>\n",
       "      <td>0.0</td>\n",
       "      <td>0</td>\n",
       "      <td>1.0</td>\n",
       "      <td>0</td>\n",
       "      <td>0.0</td>\n",
       "      <td>NaN</td>\n",
       "      <td>NaN</td>\n",
       "      <td>NaN</td>\n",
       "      <td>12.0</td>\n",
       "      <td>away</td>\n",
       "      <td>1996</td>\n",
       "    </tr>\n",
       "    <tr>\n",
       "      <th>185</th>\n",
       "      <td>Bobby HoyingB. Hoying</td>\n",
       "      <td>0</td>\n",
       "      <td>0</td>\n",
       "      <td>NaN</td>\n",
       "      <td>0.0</td>\n",
       "      <td>0</td>\n",
       "      <td>0</td>\n",
       "      <td>0.0</td>\n",
       "      <td>0</td>\n",
       "      <td>1.0</td>\n",
       "      <td>19</td>\n",
       "      <td>0.0</td>\n",
       "      <td>NaN</td>\n",
       "      <td>NaN</td>\n",
       "      <td>NaN</td>\n",
       "      <td>10.0</td>\n",
       "      <td>home</td>\n",
       "      <td>1996</td>\n",
       "    </tr>\n",
       "    <tr>\n",
       "      <th>249</th>\n",
       "      <td>Browning NagleB. Nagle</td>\n",
       "      <td>0</td>\n",
       "      <td>0</td>\n",
       "      <td>NaN</td>\n",
       "      <td>0.0</td>\n",
       "      <td>0</td>\n",
       "      <td>0</td>\n",
       "      <td>0.0</td>\n",
       "      <td>0</td>\n",
       "      <td>1.0</td>\n",
       "      <td>28</td>\n",
       "      <td>0.0</td>\n",
       "      <td>NaN</td>\n",
       "      <td>NaN</td>\n",
       "      <td>NaN</td>\n",
       "      <td>2.0</td>\n",
       "      <td>away</td>\n",
       "      <td>1996</td>\n",
       "    </tr>\n",
       "    <tr>\n",
       "      <th>366</th>\n",
       "      <td>Abdul-Karim Al-JabbarA. Al-Jabbar</td>\n",
       "      <td>0</td>\n",
       "      <td>0</td>\n",
       "      <td>NaN</td>\n",
       "      <td>0.0</td>\n",
       "      <td>0</td>\n",
       "      <td>0</td>\n",
       "      <td>0.0</td>\n",
       "      <td>0</td>\n",
       "      <td>1.0</td>\n",
       "      <td>37</td>\n",
       "      <td>0.0</td>\n",
       "      <td>NaN</td>\n",
       "      <td>NaN</td>\n",
       "      <td>NaN</td>\n",
       "      <td>3.0</td>\n",
       "      <td>home</td>\n",
       "      <td>1996</td>\n",
       "    </tr>\n",
       "    <tr>\n",
       "      <th>893</th>\n",
       "      <td>Andre ReedA. Reed</td>\n",
       "      <td>0</td>\n",
       "      <td>0</td>\n",
       "      <td>NaN</td>\n",
       "      <td>0.0</td>\n",
       "      <td>0</td>\n",
       "      <td>0</td>\n",
       "      <td>0.0</td>\n",
       "      <td>0</td>\n",
       "      <td>1.0</td>\n",
       "      <td>20</td>\n",
       "      <td>0.0</td>\n",
       "      <td>NaN</td>\n",
       "      <td>NaN</td>\n",
       "      <td>NaN</td>\n",
       "      <td>20.0</td>\n",
       "      <td>home</td>\n",
       "      <td>1997</td>\n",
       "    </tr>\n",
       "    <tr>\n",
       "      <th>...</th>\n",
       "      <td>...</td>\n",
       "      <td>...</td>\n",
       "      <td>...</td>\n",
       "      <td>...</td>\n",
       "      <td>...</td>\n",
       "      <td>...</td>\n",
       "      <td>...</td>\n",
       "      <td>...</td>\n",
       "      <td>...</td>\n",
       "      <td>...</td>\n",
       "      <td>...</td>\n",
       "      <td>...</td>\n",
       "      <td>...</td>\n",
       "      <td>...</td>\n",
       "      <td>...</td>\n",
       "      <td>...</td>\n",
       "      <td>...</td>\n",
       "      <td>...</td>\n",
       "    </tr>\n",
       "    <tr>\n",
       "      <th>11987</th>\n",
       "      <td>Antonio BrownA. Brown</td>\n",
       "      <td>0</td>\n",
       "      <td>0</td>\n",
       "      <td>NaN</td>\n",
       "      <td>0.0</td>\n",
       "      <td>0</td>\n",
       "      <td>0</td>\n",
       "      <td>0.0</td>\n",
       "      <td>0</td>\n",
       "      <td>1.0</td>\n",
       "      <td>21</td>\n",
       "      <td>0.0</td>\n",
       "      <td>NaN</td>\n",
       "      <td>NaN</td>\n",
       "      <td>NaN</td>\n",
       "      <td>8.0</td>\n",
       "      <td>away</td>\n",
       "      <td>2015</td>\n",
       "    </tr>\n",
       "    <tr>\n",
       "      <th>12024</th>\n",
       "      <td>Jeremy MaclinJ. Maclin</td>\n",
       "      <td>0</td>\n",
       "      <td>0</td>\n",
       "      <td>NaN</td>\n",
       "      <td>0.0</td>\n",
       "      <td>0</td>\n",
       "      <td>0</td>\n",
       "      <td>0.0</td>\n",
       "      <td>0</td>\n",
       "      <td>1.0</td>\n",
       "      <td>24</td>\n",
       "      <td>0.0</td>\n",
       "      <td>NaN</td>\n",
       "      <td>NaN</td>\n",
       "      <td>NaN</td>\n",
       "      <td>3.0</td>\n",
       "      <td>home</td>\n",
       "      <td>2015</td>\n",
       "    </tr>\n",
       "    <tr>\n",
       "      <th>12565</th>\n",
       "      <td>Marc MarianiM. Mariani</td>\n",
       "      <td>0</td>\n",
       "      <td>0</td>\n",
       "      <td>NaN</td>\n",
       "      <td>0.0</td>\n",
       "      <td>0</td>\n",
       "      <td>0</td>\n",
       "      <td>0.0</td>\n",
       "      <td>0</td>\n",
       "      <td>1.0</td>\n",
       "      <td>20</td>\n",
       "      <td>0.0</td>\n",
       "      <td>NaN</td>\n",
       "      <td>NaN</td>\n",
       "      <td>NaN</td>\n",
       "      <td>3.0</td>\n",
       "      <td>home</td>\n",
       "      <td>2015</td>\n",
       "    </tr>\n",
       "    <tr>\n",
       "      <th>12743</th>\n",
       "      <td>Odell Beckham Jr.O. Beckham</td>\n",
       "      <td>0</td>\n",
       "      <td>0</td>\n",
       "      <td>NaN</td>\n",
       "      <td>0.0</td>\n",
       "      <td>0</td>\n",
       "      <td>0</td>\n",
       "      <td>0.0</td>\n",
       "      <td>0</td>\n",
       "      <td>1.0</td>\n",
       "      <td>16</td>\n",
       "      <td>0.0</td>\n",
       "      <td>NaN</td>\n",
       "      <td>NaN</td>\n",
       "      <td>NaN</td>\n",
       "      <td>6.0</td>\n",
       "      <td>away</td>\n",
       "      <td>2016</td>\n",
       "    </tr>\n",
       "    <tr>\n",
       "      <th>12839</th>\n",
       "      <td>Jimmy GaroppoloJ. Garoppolo</td>\n",
       "      <td>0</td>\n",
       "      <td>0</td>\n",
       "      <td>NaN</td>\n",
       "      <td>0.0</td>\n",
       "      <td>0</td>\n",
       "      <td>0</td>\n",
       "      <td>0.0</td>\n",
       "      <td>0</td>\n",
       "      <td>1.0</td>\n",
       "      <td>41</td>\n",
       "      <td>0.0</td>\n",
       "      <td>NaN</td>\n",
       "      <td>NaN</td>\n",
       "      <td>NaN</td>\n",
       "      <td>8.0</td>\n",
       "      <td>away</td>\n",
       "      <td>2016</td>\n",
       "    </tr>\n",
       "  </tbody>\n",
       "</table>\n",
       "<p>97 rows × 18 columns</p>\n",
       "</div>"
      ],
      "text/plain": [
       "                                      qb  cmp  att  comp %  yds  td  int  \\\n",
       "75          Lawrence PhillipsL. Phillips    0    0     NaN  0.0   0    0   \n",
       "185                Bobby HoyingB. Hoying    0    0     NaN  0.0   0    0   \n",
       "249               Browning NagleB. Nagle    0    0     NaN  0.0   0    0   \n",
       "366    Abdul-Karim Al-JabbarA. Al-Jabbar    0    0     NaN  0.0   0    0   \n",
       "893                    Andre ReedA. Reed    0    0     NaN  0.0   0    0   \n",
       "...                                  ...  ...  ...     ...  ...  ..  ...   \n",
       "11987              Antonio BrownA. Brown    0    0     NaN  0.0   0    0   \n",
       "12024             Jeremy MaclinJ. Maclin    0    0     NaN  0.0   0    0   \n",
       "12565             Marc MarianiM. Mariani    0    0     NaN  0.0   0    0   \n",
       "12743        Odell Beckham Jr.O. Beckham    0    0     NaN  0.0   0    0   \n",
       "12839        Jimmy GaroppoloJ. Garoppolo    0    0     NaN  0.0   0    0   \n",
       "\n",
       "       rate long  sack  game_points  ypa  ypc  td_per_cmp  td_per_att  \\\n",
       "75      0.0    0   1.0            0  0.0  NaN         NaN         NaN   \n",
       "185     0.0    0   1.0           19  0.0  NaN         NaN         NaN   \n",
       "249     0.0    0   1.0           28  0.0  NaN         NaN         NaN   \n",
       "366     0.0    0   1.0           37  0.0  NaN         NaN         NaN   \n",
       "893     0.0    0   1.0           20  0.0  NaN         NaN         NaN   \n",
       "...     ...  ...   ...          ...  ...  ...         ...         ...   \n",
       "11987   0.0    0   1.0           21  0.0  NaN         NaN         NaN   \n",
       "12024   0.0    0   1.0           24  0.0  NaN         NaN         NaN   \n",
       "12565   0.0    0   1.0           20  0.0  NaN         NaN         NaN   \n",
       "12743   0.0    0   1.0           16  0.0  NaN         NaN         NaN   \n",
       "12839   0.0    0   1.0           41  0.0  NaN         NaN         NaN   \n",
       "\n",
       "       loss_yds home_away  year  \n",
       "75         12.0      away  1996  \n",
       "185        10.0      home  1996  \n",
       "249         2.0      away  1996  \n",
       "366         3.0      home  1996  \n",
       "893        20.0      home  1997  \n",
       "...         ...       ...   ...  \n",
       "11987       8.0      away  2015  \n",
       "12024       3.0      home  2015  \n",
       "12565       3.0      home  2015  \n",
       "12743       6.0      away  2016  \n",
       "12839       8.0      away  2016  \n",
       "\n",
       "[97 rows x 18 columns]"
      ]
     },
     "execution_count": 20,
     "metadata": {},
     "output_type": "execute_result"
    }
   ],
   "source": [
    "df[df['comp %'].isnull()]"
   ]
  },
  {
   "cell_type": "code",
   "execution_count": 21,
   "id": "028feaf9",
   "metadata": {},
   "outputs": [
    {
     "data": {
      "text/html": [
       "<div>\n",
       "<style scoped>\n",
       "    .dataframe tbody tr th:only-of-type {\n",
       "        vertical-align: middle;\n",
       "    }\n",
       "\n",
       "    .dataframe tbody tr th {\n",
       "        vertical-align: top;\n",
       "    }\n",
       "\n",
       "    .dataframe thead th {\n",
       "        text-align: right;\n",
       "    }\n",
       "</style>\n",
       "<table border=\"1\" class=\"dataframe\">\n",
       "  <thead>\n",
       "    <tr style=\"text-align: right;\">\n",
       "      <th></th>\n",
       "      <th>qb</th>\n",
       "      <th>cmp</th>\n",
       "      <th>att</th>\n",
       "      <th>comp %</th>\n",
       "      <th>yds</th>\n",
       "      <th>td</th>\n",
       "      <th>int</th>\n",
       "      <th>rate</th>\n",
       "      <th>long</th>\n",
       "      <th>sack</th>\n",
       "      <th>game_points</th>\n",
       "      <th>ypa</th>\n",
       "      <th>ypc</th>\n",
       "      <th>td_per_cmp</th>\n",
       "      <th>td_per_att</th>\n",
       "      <th>loss_yds</th>\n",
       "      <th>home_away</th>\n",
       "      <th>year</th>\n",
       "    </tr>\n",
       "  </thead>\n",
       "  <tbody>\n",
       "    <tr>\n",
       "      <th>75</th>\n",
       "      <td>Lawrence PhillipsL. Phillips</td>\n",
       "      <td>0</td>\n",
       "      <td>0</td>\n",
       "      <td>NaN</td>\n",
       "      <td>0.0</td>\n",
       "      <td>0</td>\n",
       "      <td>0</td>\n",
       "      <td>0.0</td>\n",
       "      <td>0</td>\n",
       "      <td>1.0</td>\n",
       "      <td>0</td>\n",
       "      <td>0.0</td>\n",
       "      <td>NaN</td>\n",
       "      <td>NaN</td>\n",
       "      <td>NaN</td>\n",
       "      <td>12.0</td>\n",
       "      <td>away</td>\n",
       "      <td>1996</td>\n",
       "    </tr>\n",
       "    <tr>\n",
       "      <th>185</th>\n",
       "      <td>Bobby HoyingB. Hoying</td>\n",
       "      <td>0</td>\n",
       "      <td>0</td>\n",
       "      <td>NaN</td>\n",
       "      <td>0.0</td>\n",
       "      <td>0</td>\n",
       "      <td>0</td>\n",
       "      <td>0.0</td>\n",
       "      <td>0</td>\n",
       "      <td>1.0</td>\n",
       "      <td>19</td>\n",
       "      <td>0.0</td>\n",
       "      <td>NaN</td>\n",
       "      <td>NaN</td>\n",
       "      <td>NaN</td>\n",
       "      <td>10.0</td>\n",
       "      <td>home</td>\n",
       "      <td>1996</td>\n",
       "    </tr>\n",
       "    <tr>\n",
       "      <th>249</th>\n",
       "      <td>Browning NagleB. Nagle</td>\n",
       "      <td>0</td>\n",
       "      <td>0</td>\n",
       "      <td>NaN</td>\n",
       "      <td>0.0</td>\n",
       "      <td>0</td>\n",
       "      <td>0</td>\n",
       "      <td>0.0</td>\n",
       "      <td>0</td>\n",
       "      <td>1.0</td>\n",
       "      <td>28</td>\n",
       "      <td>0.0</td>\n",
       "      <td>NaN</td>\n",
       "      <td>NaN</td>\n",
       "      <td>NaN</td>\n",
       "      <td>2.0</td>\n",
       "      <td>away</td>\n",
       "      <td>1996</td>\n",
       "    </tr>\n",
       "    <tr>\n",
       "      <th>366</th>\n",
       "      <td>Abdul-Karim Al-JabbarA. Al-Jabbar</td>\n",
       "      <td>0</td>\n",
       "      <td>0</td>\n",
       "      <td>NaN</td>\n",
       "      <td>0.0</td>\n",
       "      <td>0</td>\n",
       "      <td>0</td>\n",
       "      <td>0.0</td>\n",
       "      <td>0</td>\n",
       "      <td>1.0</td>\n",
       "      <td>37</td>\n",
       "      <td>0.0</td>\n",
       "      <td>NaN</td>\n",
       "      <td>NaN</td>\n",
       "      <td>NaN</td>\n",
       "      <td>3.0</td>\n",
       "      <td>home</td>\n",
       "      <td>1996</td>\n",
       "    </tr>\n",
       "    <tr>\n",
       "      <th>893</th>\n",
       "      <td>Andre ReedA. Reed</td>\n",
       "      <td>0</td>\n",
       "      <td>0</td>\n",
       "      <td>NaN</td>\n",
       "      <td>0.0</td>\n",
       "      <td>0</td>\n",
       "      <td>0</td>\n",
       "      <td>0.0</td>\n",
       "      <td>0</td>\n",
       "      <td>1.0</td>\n",
       "      <td>20</td>\n",
       "      <td>0.0</td>\n",
       "      <td>NaN</td>\n",
       "      <td>NaN</td>\n",
       "      <td>NaN</td>\n",
       "      <td>20.0</td>\n",
       "      <td>home</td>\n",
       "      <td>1997</td>\n",
       "    </tr>\n",
       "    <tr>\n",
       "      <th>...</th>\n",
       "      <td>...</td>\n",
       "      <td>...</td>\n",
       "      <td>...</td>\n",
       "      <td>...</td>\n",
       "      <td>...</td>\n",
       "      <td>...</td>\n",
       "      <td>...</td>\n",
       "      <td>...</td>\n",
       "      <td>...</td>\n",
       "      <td>...</td>\n",
       "      <td>...</td>\n",
       "      <td>...</td>\n",
       "      <td>...</td>\n",
       "      <td>...</td>\n",
       "      <td>...</td>\n",
       "      <td>...</td>\n",
       "      <td>...</td>\n",
       "      <td>...</td>\n",
       "    </tr>\n",
       "    <tr>\n",
       "      <th>11987</th>\n",
       "      <td>Antonio BrownA. Brown</td>\n",
       "      <td>0</td>\n",
       "      <td>0</td>\n",
       "      <td>NaN</td>\n",
       "      <td>0.0</td>\n",
       "      <td>0</td>\n",
       "      <td>0</td>\n",
       "      <td>0.0</td>\n",
       "      <td>0</td>\n",
       "      <td>1.0</td>\n",
       "      <td>21</td>\n",
       "      <td>0.0</td>\n",
       "      <td>NaN</td>\n",
       "      <td>NaN</td>\n",
       "      <td>NaN</td>\n",
       "      <td>8.0</td>\n",
       "      <td>away</td>\n",
       "      <td>2015</td>\n",
       "    </tr>\n",
       "    <tr>\n",
       "      <th>12024</th>\n",
       "      <td>Jeremy MaclinJ. Maclin</td>\n",
       "      <td>0</td>\n",
       "      <td>0</td>\n",
       "      <td>NaN</td>\n",
       "      <td>0.0</td>\n",
       "      <td>0</td>\n",
       "      <td>0</td>\n",
       "      <td>0.0</td>\n",
       "      <td>0</td>\n",
       "      <td>1.0</td>\n",
       "      <td>24</td>\n",
       "      <td>0.0</td>\n",
       "      <td>NaN</td>\n",
       "      <td>NaN</td>\n",
       "      <td>NaN</td>\n",
       "      <td>3.0</td>\n",
       "      <td>home</td>\n",
       "      <td>2015</td>\n",
       "    </tr>\n",
       "    <tr>\n",
       "      <th>12565</th>\n",
       "      <td>Marc MarianiM. Mariani</td>\n",
       "      <td>0</td>\n",
       "      <td>0</td>\n",
       "      <td>NaN</td>\n",
       "      <td>0.0</td>\n",
       "      <td>0</td>\n",
       "      <td>0</td>\n",
       "      <td>0.0</td>\n",
       "      <td>0</td>\n",
       "      <td>1.0</td>\n",
       "      <td>20</td>\n",
       "      <td>0.0</td>\n",
       "      <td>NaN</td>\n",
       "      <td>NaN</td>\n",
       "      <td>NaN</td>\n",
       "      <td>3.0</td>\n",
       "      <td>home</td>\n",
       "      <td>2015</td>\n",
       "    </tr>\n",
       "    <tr>\n",
       "      <th>12743</th>\n",
       "      <td>Odell Beckham Jr.O. Beckham</td>\n",
       "      <td>0</td>\n",
       "      <td>0</td>\n",
       "      <td>NaN</td>\n",
       "      <td>0.0</td>\n",
       "      <td>0</td>\n",
       "      <td>0</td>\n",
       "      <td>0.0</td>\n",
       "      <td>0</td>\n",
       "      <td>1.0</td>\n",
       "      <td>16</td>\n",
       "      <td>0.0</td>\n",
       "      <td>NaN</td>\n",
       "      <td>NaN</td>\n",
       "      <td>NaN</td>\n",
       "      <td>6.0</td>\n",
       "      <td>away</td>\n",
       "      <td>2016</td>\n",
       "    </tr>\n",
       "    <tr>\n",
       "      <th>12839</th>\n",
       "      <td>Jimmy GaroppoloJ. Garoppolo</td>\n",
       "      <td>0</td>\n",
       "      <td>0</td>\n",
       "      <td>NaN</td>\n",
       "      <td>0.0</td>\n",
       "      <td>0</td>\n",
       "      <td>0</td>\n",
       "      <td>0.0</td>\n",
       "      <td>0</td>\n",
       "      <td>1.0</td>\n",
       "      <td>41</td>\n",
       "      <td>0.0</td>\n",
       "      <td>NaN</td>\n",
       "      <td>NaN</td>\n",
       "      <td>NaN</td>\n",
       "      <td>8.0</td>\n",
       "      <td>away</td>\n",
       "      <td>2016</td>\n",
       "    </tr>\n",
       "  </tbody>\n",
       "</table>\n",
       "<p>97 rows × 18 columns</p>\n",
       "</div>"
      ],
      "text/plain": [
       "                                      qb  cmp  att  comp %  yds  td  int  \\\n",
       "75          Lawrence PhillipsL. Phillips    0    0     NaN  0.0   0    0   \n",
       "185                Bobby HoyingB. Hoying    0    0     NaN  0.0   0    0   \n",
       "249               Browning NagleB. Nagle    0    0     NaN  0.0   0    0   \n",
       "366    Abdul-Karim Al-JabbarA. Al-Jabbar    0    0     NaN  0.0   0    0   \n",
       "893                    Andre ReedA. Reed    0    0     NaN  0.0   0    0   \n",
       "...                                  ...  ...  ...     ...  ...  ..  ...   \n",
       "11987              Antonio BrownA. Brown    0    0     NaN  0.0   0    0   \n",
       "12024             Jeremy MaclinJ. Maclin    0    0     NaN  0.0   0    0   \n",
       "12565             Marc MarianiM. Mariani    0    0     NaN  0.0   0    0   \n",
       "12743        Odell Beckham Jr.O. Beckham    0    0     NaN  0.0   0    0   \n",
       "12839        Jimmy GaroppoloJ. Garoppolo    0    0     NaN  0.0   0    0   \n",
       "\n",
       "       rate long  sack  game_points  ypa  ypc  td_per_cmp  td_per_att  \\\n",
       "75      0.0    0   1.0            0  0.0  NaN         NaN         NaN   \n",
       "185     0.0    0   1.0           19  0.0  NaN         NaN         NaN   \n",
       "249     0.0    0   1.0           28  0.0  NaN         NaN         NaN   \n",
       "366     0.0    0   1.0           37  0.0  NaN         NaN         NaN   \n",
       "893     0.0    0   1.0           20  0.0  NaN         NaN         NaN   \n",
       "...     ...  ...   ...          ...  ...  ...         ...         ...   \n",
       "11987   0.0    0   1.0           21  0.0  NaN         NaN         NaN   \n",
       "12024   0.0    0   1.0           24  0.0  NaN         NaN         NaN   \n",
       "12565   0.0    0   1.0           20  0.0  NaN         NaN         NaN   \n",
       "12743   0.0    0   1.0           16  0.0  NaN         NaN         NaN   \n",
       "12839   0.0    0   1.0           41  0.0  NaN         NaN         NaN   \n",
       "\n",
       "       loss_yds home_away  year  \n",
       "75         12.0      away  1996  \n",
       "185        10.0      home  1996  \n",
       "249         2.0      away  1996  \n",
       "366         3.0      home  1996  \n",
       "893        20.0      home  1997  \n",
       "...         ...       ...   ...  \n",
       "11987       8.0      away  2015  \n",
       "12024       3.0      home  2015  \n",
       "12565       3.0      home  2015  \n",
       "12743       6.0      away  2016  \n",
       "12839       8.0      away  2016  \n",
       "\n",
       "[97 rows x 18 columns]"
      ]
     },
     "execution_count": 21,
     "metadata": {},
     "output_type": "execute_result"
    }
   ],
   "source": [
    "df[df['td_per_att'].isnull()]"
   ]
  },
  {
   "cell_type": "code",
   "execution_count": 22,
   "id": "f9b851f8",
   "metadata": {},
   "outputs": [
    {
     "data": {
      "text/html": [
       "<div>\n",
       "<style scoped>\n",
       "    .dataframe tbody tr th:only-of-type {\n",
       "        vertical-align: middle;\n",
       "    }\n",
       "\n",
       "    .dataframe tbody tr th {\n",
       "        vertical-align: top;\n",
       "    }\n",
       "\n",
       "    .dataframe thead th {\n",
       "        text-align: right;\n",
       "    }\n",
       "</style>\n",
       "<table border=\"1\" class=\"dataframe\">\n",
       "  <thead>\n",
       "    <tr style=\"text-align: right;\">\n",
       "      <th></th>\n",
       "      <th>qb</th>\n",
       "      <th>cmp</th>\n",
       "      <th>att</th>\n",
       "      <th>comp %</th>\n",
       "      <th>yds</th>\n",
       "      <th>td</th>\n",
       "      <th>int</th>\n",
       "      <th>rate</th>\n",
       "      <th>long</th>\n",
       "      <th>sack</th>\n",
       "      <th>game_points</th>\n",
       "      <th>ypa</th>\n",
       "      <th>ypc</th>\n",
       "      <th>td_per_cmp</th>\n",
       "      <th>td_per_att</th>\n",
       "      <th>loss_yds</th>\n",
       "      <th>home_away</th>\n",
       "      <th>year</th>\n",
       "    </tr>\n",
       "  </thead>\n",
       "  <tbody>\n",
       "    <tr>\n",
       "      <th>8593</th>\n",
       "      <td>Tatum BellT. Bell</td>\n",
       "      <td>46</td>\n",
       "      <td>16</td>\n",
       "      <td>287.5</td>\n",
       "      <td>2.88</td>\n",
       "      <td>1</td>\n",
       "      <td>0</td>\n",
       "      <td>NaN</td>\n",
       "      <td>NaN</td>\n",
       "      <td>NaN</td>\n",
       "      <td>24</td>\n",
       "      <td>17.0</td>\n",
       "      <td>0.1</td>\n",
       "      <td>0.022</td>\n",
       "      <td>0.062</td>\n",
       "      <td>NaN</td>\n",
       "      <td>away</td>\n",
       "      <td>2009</td>\n",
       "    </tr>\n",
       "    <tr>\n",
       "      <th>8594</th>\n",
       "      <td>Michael PittmanM. Pittman</td>\n",
       "      <td>40</td>\n",
       "      <td>8</td>\n",
       "      <td>500.0</td>\n",
       "      <td>5.00</td>\n",
       "      <td>0</td>\n",
       "      <td>0</td>\n",
       "      <td>NaN</td>\n",
       "      <td>NaN</td>\n",
       "      <td>NaN</td>\n",
       "      <td>24</td>\n",
       "      <td>20.0</td>\n",
       "      <td>0.1</td>\n",
       "      <td>0.000</td>\n",
       "      <td>0.000</td>\n",
       "      <td>NaN</td>\n",
       "      <td>away</td>\n",
       "      <td>2009</td>\n",
       "    </tr>\n",
       "    <tr>\n",
       "      <th>8595</th>\n",
       "      <td>Shaud WilliamsS. Williams</td>\n",
       "      <td>31</td>\n",
       "      <td>7</td>\n",
       "      <td>442.9</td>\n",
       "      <td>4.43</td>\n",
       "      <td>0</td>\n",
       "      <td>0</td>\n",
       "      <td>NaN</td>\n",
       "      <td>NaN</td>\n",
       "      <td>NaN</td>\n",
       "      <td>24</td>\n",
       "      <td>17.0</td>\n",
       "      <td>0.1</td>\n",
       "      <td>0.000</td>\n",
       "      <td>0.000</td>\n",
       "      <td>NaN</td>\n",
       "      <td>away</td>\n",
       "      <td>2009</td>\n",
       "    </tr>\n",
       "    <tr>\n",
       "      <th>8596</th>\n",
       "      <td>Brooks BollingerB. Bollinger</td>\n",
       "      <td>3</td>\n",
       "      <td>2</td>\n",
       "      <td>150.0</td>\n",
       "      <td>1.50</td>\n",
       "      <td>0</td>\n",
       "      <td>0</td>\n",
       "      <td>NaN</td>\n",
       "      <td>NaN</td>\n",
       "      <td>NaN</td>\n",
       "      <td>24</td>\n",
       "      <td>4.0</td>\n",
       "      <td>0.5</td>\n",
       "      <td>0.000</td>\n",
       "      <td>0.000</td>\n",
       "      <td>NaN</td>\n",
       "      <td>away</td>\n",
       "      <td>2009</td>\n",
       "    </tr>\n",
       "    <tr>\n",
       "      <th>8597</th>\n",
       "      <td>Chris GreisenC. Greisen</td>\n",
       "      <td>-1</td>\n",
       "      <td>1</td>\n",
       "      <td>-100.0</td>\n",
       "      <td>-1.00</td>\n",
       "      <td>0</td>\n",
       "      <td>0</td>\n",
       "      <td>NaN</td>\n",
       "      <td>NaN</td>\n",
       "      <td>NaN</td>\n",
       "      <td>24</td>\n",
       "      <td>-1.0</td>\n",
       "      <td>1.0</td>\n",
       "      <td>-0.000</td>\n",
       "      <td>0.000</td>\n",
       "      <td>NaN</td>\n",
       "      <td>away</td>\n",
       "      <td>2009</td>\n",
       "    </tr>\n",
       "    <tr>\n",
       "      <th>8598</th>\n",
       "      <td>Shannon WoodsS. Woods</td>\n",
       "      <td>32</td>\n",
       "      <td>12</td>\n",
       "      <td>266.7</td>\n",
       "      <td>2.67</td>\n",
       "      <td>0</td>\n",
       "      <td>0</td>\n",
       "      <td>NaN</td>\n",
       "      <td>NaN</td>\n",
       "      <td>NaN</td>\n",
       "      <td>6</td>\n",
       "      <td>7.0</td>\n",
       "      <td>0.1</td>\n",
       "      <td>0.000</td>\n",
       "      <td>0.000</td>\n",
       "      <td>NaN</td>\n",
       "      <td>home</td>\n",
       "      <td>2009</td>\n",
       "    </tr>\n",
       "    <tr>\n",
       "      <th>8599</th>\n",
       "      <td>Quinn GrayQ. Gray</td>\n",
       "      <td>10</td>\n",
       "      <td>2</td>\n",
       "      <td>500.0</td>\n",
       "      <td>5.00</td>\n",
       "      <td>0</td>\n",
       "      <td>0</td>\n",
       "      <td>NaN</td>\n",
       "      <td>NaN</td>\n",
       "      <td>NaN</td>\n",
       "      <td>6</td>\n",
       "      <td>8.0</td>\n",
       "      <td>0.5</td>\n",
       "      <td>0.000</td>\n",
       "      <td>0.000</td>\n",
       "      <td>NaN</td>\n",
       "      <td>home</td>\n",
       "      <td>2009</td>\n",
       "    </tr>\n",
       "    <tr>\n",
       "      <th>8600</th>\n",
       "      <td>Charles AliC. Ali</td>\n",
       "      <td>7</td>\n",
       "      <td>3</td>\n",
       "      <td>233.3</td>\n",
       "      <td>2.33</td>\n",
       "      <td>0</td>\n",
       "      <td>0</td>\n",
       "      <td>NaN</td>\n",
       "      <td>NaN</td>\n",
       "      <td>NaN</td>\n",
       "      <td>6</td>\n",
       "      <td>4.0</td>\n",
       "      <td>0.3</td>\n",
       "      <td>0.000</td>\n",
       "      <td>0.000</td>\n",
       "      <td>NaN</td>\n",
       "      <td>home</td>\n",
       "      <td>2009</td>\n",
       "    </tr>\n",
       "    <tr>\n",
       "      <th>8601</th>\n",
       "      <td>Ingle MartinI. Martin</td>\n",
       "      <td>4</td>\n",
       "      <td>3</td>\n",
       "      <td>133.3</td>\n",
       "      <td>1.33</td>\n",
       "      <td>0</td>\n",
       "      <td>0</td>\n",
       "      <td>NaN</td>\n",
       "      <td>NaN</td>\n",
       "      <td>NaN</td>\n",
       "      <td>6</td>\n",
       "      <td>8.0</td>\n",
       "      <td>0.3</td>\n",
       "      <td>0.000</td>\n",
       "      <td>0.000</td>\n",
       "      <td>NaN</td>\n",
       "      <td>home</td>\n",
       "      <td>2009</td>\n",
       "    </tr>\n",
       "    <tr>\n",
       "      <th>8602</th>\n",
       "      <td>LaBrandon ToefieldL. Toefield</td>\n",
       "      <td>-1</td>\n",
       "      <td>3</td>\n",
       "      <td>-33.3</td>\n",
       "      <td>-0.33</td>\n",
       "      <td>0</td>\n",
       "      <td>0</td>\n",
       "      <td>NaN</td>\n",
       "      <td>NaN</td>\n",
       "      <td>NaN</td>\n",
       "      <td>6</td>\n",
       "      <td>1.0</td>\n",
       "      <td>0.3</td>\n",
       "      <td>-0.000</td>\n",
       "      <td>0.000</td>\n",
       "      <td>NaN</td>\n",
       "      <td>home</td>\n",
       "      <td>2009</td>\n",
       "    </tr>\n",
       "    <tr>\n",
       "      <th>8644</th>\n",
       "      <td>Michael PittmanM. Pittman</td>\n",
       "      <td>58</td>\n",
       "      <td>18</td>\n",
       "      <td>322.2</td>\n",
       "      <td>3.22</td>\n",
       "      <td>2</td>\n",
       "      <td>0</td>\n",
       "      <td>NaN</td>\n",
       "      <td>NaN</td>\n",
       "      <td>NaN</td>\n",
       "      <td>34</td>\n",
       "      <td>9.0</td>\n",
       "      <td>0.1</td>\n",
       "      <td>0.034</td>\n",
       "      <td>0.111</td>\n",
       "      <td>NaN</td>\n",
       "      <td>away</td>\n",
       "      <td>2009</td>\n",
       "    </tr>\n",
       "    <tr>\n",
       "      <th>8645</th>\n",
       "      <td>Tatum BellT. Bell</td>\n",
       "      <td>43</td>\n",
       "      <td>9</td>\n",
       "      <td>477.8</td>\n",
       "      <td>4.78</td>\n",
       "      <td>0</td>\n",
       "      <td>0</td>\n",
       "      <td>NaN</td>\n",
       "      <td>NaN</td>\n",
       "      <td>NaN</td>\n",
       "      <td>34</td>\n",
       "      <td>18.0</td>\n",
       "      <td>0.1</td>\n",
       "      <td>0.000</td>\n",
       "      <td>0.000</td>\n",
       "      <td>NaN</td>\n",
       "      <td>away</td>\n",
       "      <td>2009</td>\n",
       "    </tr>\n",
       "    <tr>\n",
       "      <th>8646</th>\n",
       "      <td>Andrew PinnockA. Pinnock</td>\n",
       "      <td>1</td>\n",
       "      <td>2</td>\n",
       "      <td>50.0</td>\n",
       "      <td>0.50</td>\n",
       "      <td>1</td>\n",
       "      <td>0</td>\n",
       "      <td>NaN</td>\n",
       "      <td>NaN</td>\n",
       "      <td>NaN</td>\n",
       "      <td>34</td>\n",
       "      <td>1.0</td>\n",
       "      <td>0.5</td>\n",
       "      <td>1.000</td>\n",
       "      <td>0.500</td>\n",
       "      <td>NaN</td>\n",
       "      <td>away</td>\n",
       "      <td>2009</td>\n",
       "    </tr>\n",
       "    <tr>\n",
       "      <th>8647</th>\n",
       "      <td>Brooks BollingerB. Bollinger</td>\n",
       "      <td>-6</td>\n",
       "      <td>3</td>\n",
       "      <td>-200.0</td>\n",
       "      <td>-2.00</td>\n",
       "      <td>0</td>\n",
       "      <td>0</td>\n",
       "      <td>NaN</td>\n",
       "      <td>NaN</td>\n",
       "      <td>NaN</td>\n",
       "      <td>34</td>\n",
       "      <td>0.0</td>\n",
       "      <td>0.3</td>\n",
       "      <td>-0.000</td>\n",
       "      <td>0.000</td>\n",
       "      <td>NaN</td>\n",
       "      <td>away</td>\n",
       "      <td>2009</td>\n",
       "    </tr>\n",
       "    <tr>\n",
       "      <th>8648</th>\n",
       "      <td>Cory RossC. Ross</td>\n",
       "      <td>45</td>\n",
       "      <td>19</td>\n",
       "      <td>236.8</td>\n",
       "      <td>2.37</td>\n",
       "      <td>0</td>\n",
       "      <td>0</td>\n",
       "      <td>NaN</td>\n",
       "      <td>NaN</td>\n",
       "      <td>NaN</td>\n",
       "      <td>27</td>\n",
       "      <td>8.0</td>\n",
       "      <td>0.1</td>\n",
       "      <td>0.000</td>\n",
       "      <td>0.000</td>\n",
       "      <td>NaN</td>\n",
       "      <td>home</td>\n",
       "      <td>2009</td>\n",
       "    </tr>\n",
       "    <tr>\n",
       "      <th>8649</th>\n",
       "      <td>John David WashingtonJ. Washington</td>\n",
       "      <td>20</td>\n",
       "      <td>5</td>\n",
       "      <td>400.0</td>\n",
       "      <td>4.00</td>\n",
       "      <td>0</td>\n",
       "      <td>0</td>\n",
       "      <td>NaN</td>\n",
       "      <td>NaN</td>\n",
       "      <td>NaN</td>\n",
       "      <td>27</td>\n",
       "      <td>7.0</td>\n",
       "      <td>0.2</td>\n",
       "      <td>0.000</td>\n",
       "      <td>0.000</td>\n",
       "      <td>NaN</td>\n",
       "      <td>home</td>\n",
       "      <td>2009</td>\n",
       "    </tr>\n",
       "    <tr>\n",
       "      <th>8650</th>\n",
       "      <td>Shane BoydS. Boyd</td>\n",
       "      <td>5</td>\n",
       "      <td>4</td>\n",
       "      <td>125.0</td>\n",
       "      <td>1.25</td>\n",
       "      <td>0</td>\n",
       "      <td>0</td>\n",
       "      <td>NaN</td>\n",
       "      <td>NaN</td>\n",
       "      <td>NaN</td>\n",
       "      <td>27</td>\n",
       "      <td>8.0</td>\n",
       "      <td>0.2</td>\n",
       "      <td>0.000</td>\n",
       "      <td>0.000</td>\n",
       "      <td>NaN</td>\n",
       "      <td>home</td>\n",
       "      <td>2009</td>\n",
       "    </tr>\n",
       "  </tbody>\n",
       "</table>\n",
       "</div>"
      ],
      "text/plain": [
       "                                      qb  cmp  att  comp %   yds  td  int  \\\n",
       "8593                   Tatum BellT. Bell   46   16   287.5  2.88   1    0   \n",
       "8594           Michael PittmanM. Pittman   40    8   500.0  5.00   0    0   \n",
       "8595           Shaud WilliamsS. Williams   31    7   442.9  4.43   0    0   \n",
       "8596        Brooks BollingerB. Bollinger    3    2   150.0  1.50   0    0   \n",
       "8597             Chris GreisenC. Greisen   -1    1  -100.0 -1.00   0    0   \n",
       "8598               Shannon WoodsS. Woods   32   12   266.7  2.67   0    0   \n",
       "8599                   Quinn GrayQ. Gray   10    2   500.0  5.00   0    0   \n",
       "8600                   Charles AliC. Ali    7    3   233.3  2.33   0    0   \n",
       "8601               Ingle MartinI. Martin    4    3   133.3  1.33   0    0   \n",
       "8602       LaBrandon ToefieldL. Toefield   -1    3   -33.3 -0.33   0    0   \n",
       "8644           Michael PittmanM. Pittman   58   18   322.2  3.22   2    0   \n",
       "8645                   Tatum BellT. Bell   43    9   477.8  4.78   0    0   \n",
       "8646            Andrew PinnockA. Pinnock    1    2    50.0  0.50   1    0   \n",
       "8647        Brooks BollingerB. Bollinger   -6    3  -200.0 -2.00   0    0   \n",
       "8648                    Cory RossC. Ross   45   19   236.8  2.37   0    0   \n",
       "8649  John David WashingtonJ. Washington   20    5   400.0  4.00   0    0   \n",
       "8650                   Shane BoydS. Boyd    5    4   125.0  1.25   0    0   \n",
       "\n",
       "      rate long  sack  game_points   ypa  ypc  td_per_cmp  td_per_att  \\\n",
       "8593   NaN  NaN   NaN           24  17.0  0.1       0.022       0.062   \n",
       "8594   NaN  NaN   NaN           24  20.0  0.1       0.000       0.000   \n",
       "8595   NaN  NaN   NaN           24  17.0  0.1       0.000       0.000   \n",
       "8596   NaN  NaN   NaN           24   4.0  0.5       0.000       0.000   \n",
       "8597   NaN  NaN   NaN           24  -1.0  1.0      -0.000       0.000   \n",
       "8598   NaN  NaN   NaN            6   7.0  0.1       0.000       0.000   \n",
       "8599   NaN  NaN   NaN            6   8.0  0.5       0.000       0.000   \n",
       "8600   NaN  NaN   NaN            6   4.0  0.3       0.000       0.000   \n",
       "8601   NaN  NaN   NaN            6   8.0  0.3       0.000       0.000   \n",
       "8602   NaN  NaN   NaN            6   1.0  0.3      -0.000       0.000   \n",
       "8644   NaN  NaN   NaN           34   9.0  0.1       0.034       0.111   \n",
       "8645   NaN  NaN   NaN           34  18.0  0.1       0.000       0.000   \n",
       "8646   NaN  NaN   NaN           34   1.0  0.5       1.000       0.500   \n",
       "8647   NaN  NaN   NaN           34   0.0  0.3      -0.000       0.000   \n",
       "8648   NaN  NaN   NaN           27   8.0  0.1       0.000       0.000   \n",
       "8649   NaN  NaN   NaN           27   7.0  0.2       0.000       0.000   \n",
       "8650   NaN  NaN   NaN           27   8.0  0.2       0.000       0.000   \n",
       "\n",
       "      loss_yds home_away  year  \n",
       "8593       NaN      away  2009  \n",
       "8594       NaN      away  2009  \n",
       "8595       NaN      away  2009  \n",
       "8596       NaN      away  2009  \n",
       "8597       NaN      away  2009  \n",
       "8598       NaN      home  2009  \n",
       "8599       NaN      home  2009  \n",
       "8600       NaN      home  2009  \n",
       "8601       NaN      home  2009  \n",
       "8602       NaN      home  2009  \n",
       "8644       NaN      away  2009  \n",
       "8645       NaN      away  2009  \n",
       "8646       NaN      away  2009  \n",
       "8647       NaN      away  2009  \n",
       "8648       NaN      home  2009  \n",
       "8649       NaN      home  2009  \n",
       "8650       NaN      home  2009  "
      ]
     },
     "execution_count": 22,
     "metadata": {},
     "output_type": "execute_result"
    }
   ],
   "source": [
    "df[df['sack'].isnull()]"
   ]
  },
  {
   "cell_type": "code",
   "execution_count": 23,
   "id": "bb5b3db5",
   "metadata": {},
   "outputs": [
    {
     "data": {
      "text/html": [
       "<div>\n",
       "<style scoped>\n",
       "    .dataframe tbody tr th:only-of-type {\n",
       "        vertical-align: middle;\n",
       "    }\n",
       "\n",
       "    .dataframe tbody tr th {\n",
       "        vertical-align: top;\n",
       "    }\n",
       "\n",
       "    .dataframe thead th {\n",
       "        text-align: right;\n",
       "    }\n",
       "</style>\n",
       "<table border=\"1\" class=\"dataframe\">\n",
       "  <thead>\n",
       "    <tr style=\"text-align: right;\">\n",
       "      <th></th>\n",
       "      <th>qb</th>\n",
       "      <th>cmp</th>\n",
       "      <th>att</th>\n",
       "      <th>comp %</th>\n",
       "      <th>yds</th>\n",
       "      <th>td</th>\n",
       "      <th>int</th>\n",
       "      <th>rate</th>\n",
       "      <th>long</th>\n",
       "      <th>sack</th>\n",
       "      <th>game_points</th>\n",
       "      <th>ypa</th>\n",
       "      <th>ypc</th>\n",
       "      <th>td_per_cmp</th>\n",
       "      <th>td_per_att</th>\n",
       "      <th>loss_yds</th>\n",
       "      <th>home_away</th>\n",
       "      <th>year</th>\n",
       "    </tr>\n",
       "  </thead>\n",
       "  <tbody>\n",
       "    <tr>\n",
       "      <th>8593</th>\n",
       "      <td>Tatum BellT. Bell</td>\n",
       "      <td>46</td>\n",
       "      <td>16</td>\n",
       "      <td>287.5</td>\n",
       "      <td>2.88</td>\n",
       "      <td>1</td>\n",
       "      <td>0</td>\n",
       "      <td>NaN</td>\n",
       "      <td>NaN</td>\n",
       "      <td>NaN</td>\n",
       "      <td>24</td>\n",
       "      <td>17.0</td>\n",
       "      <td>0.1</td>\n",
       "      <td>0.022</td>\n",
       "      <td>0.062</td>\n",
       "      <td>NaN</td>\n",
       "      <td>away</td>\n",
       "      <td>2009</td>\n",
       "    </tr>\n",
       "    <tr>\n",
       "      <th>8594</th>\n",
       "      <td>Michael PittmanM. Pittman</td>\n",
       "      <td>40</td>\n",
       "      <td>8</td>\n",
       "      <td>500.0</td>\n",
       "      <td>5.00</td>\n",
       "      <td>0</td>\n",
       "      <td>0</td>\n",
       "      <td>NaN</td>\n",
       "      <td>NaN</td>\n",
       "      <td>NaN</td>\n",
       "      <td>24</td>\n",
       "      <td>20.0</td>\n",
       "      <td>0.1</td>\n",
       "      <td>0.000</td>\n",
       "      <td>0.000</td>\n",
       "      <td>NaN</td>\n",
       "      <td>away</td>\n",
       "      <td>2009</td>\n",
       "    </tr>\n",
       "    <tr>\n",
       "      <th>8595</th>\n",
       "      <td>Shaud WilliamsS. Williams</td>\n",
       "      <td>31</td>\n",
       "      <td>7</td>\n",
       "      <td>442.9</td>\n",
       "      <td>4.43</td>\n",
       "      <td>0</td>\n",
       "      <td>0</td>\n",
       "      <td>NaN</td>\n",
       "      <td>NaN</td>\n",
       "      <td>NaN</td>\n",
       "      <td>24</td>\n",
       "      <td>17.0</td>\n",
       "      <td>0.1</td>\n",
       "      <td>0.000</td>\n",
       "      <td>0.000</td>\n",
       "      <td>NaN</td>\n",
       "      <td>away</td>\n",
       "      <td>2009</td>\n",
       "    </tr>\n",
       "    <tr>\n",
       "      <th>8596</th>\n",
       "      <td>Brooks BollingerB. Bollinger</td>\n",
       "      <td>3</td>\n",
       "      <td>2</td>\n",
       "      <td>150.0</td>\n",
       "      <td>1.50</td>\n",
       "      <td>0</td>\n",
       "      <td>0</td>\n",
       "      <td>NaN</td>\n",
       "      <td>NaN</td>\n",
       "      <td>NaN</td>\n",
       "      <td>24</td>\n",
       "      <td>4.0</td>\n",
       "      <td>0.5</td>\n",
       "      <td>0.000</td>\n",
       "      <td>0.000</td>\n",
       "      <td>NaN</td>\n",
       "      <td>away</td>\n",
       "      <td>2009</td>\n",
       "    </tr>\n",
       "    <tr>\n",
       "      <th>8597</th>\n",
       "      <td>Chris GreisenC. Greisen</td>\n",
       "      <td>-1</td>\n",
       "      <td>1</td>\n",
       "      <td>-100.0</td>\n",
       "      <td>-1.00</td>\n",
       "      <td>0</td>\n",
       "      <td>0</td>\n",
       "      <td>NaN</td>\n",
       "      <td>NaN</td>\n",
       "      <td>NaN</td>\n",
       "      <td>24</td>\n",
       "      <td>-1.0</td>\n",
       "      <td>1.0</td>\n",
       "      <td>-0.000</td>\n",
       "      <td>0.000</td>\n",
       "      <td>NaN</td>\n",
       "      <td>away</td>\n",
       "      <td>2009</td>\n",
       "    </tr>\n",
       "    <tr>\n",
       "      <th>8598</th>\n",
       "      <td>Shannon WoodsS. Woods</td>\n",
       "      <td>32</td>\n",
       "      <td>12</td>\n",
       "      <td>266.7</td>\n",
       "      <td>2.67</td>\n",
       "      <td>0</td>\n",
       "      <td>0</td>\n",
       "      <td>NaN</td>\n",
       "      <td>NaN</td>\n",
       "      <td>NaN</td>\n",
       "      <td>6</td>\n",
       "      <td>7.0</td>\n",
       "      <td>0.1</td>\n",
       "      <td>0.000</td>\n",
       "      <td>0.000</td>\n",
       "      <td>NaN</td>\n",
       "      <td>home</td>\n",
       "      <td>2009</td>\n",
       "    </tr>\n",
       "    <tr>\n",
       "      <th>8599</th>\n",
       "      <td>Quinn GrayQ. Gray</td>\n",
       "      <td>10</td>\n",
       "      <td>2</td>\n",
       "      <td>500.0</td>\n",
       "      <td>5.00</td>\n",
       "      <td>0</td>\n",
       "      <td>0</td>\n",
       "      <td>NaN</td>\n",
       "      <td>NaN</td>\n",
       "      <td>NaN</td>\n",
       "      <td>6</td>\n",
       "      <td>8.0</td>\n",
       "      <td>0.5</td>\n",
       "      <td>0.000</td>\n",
       "      <td>0.000</td>\n",
       "      <td>NaN</td>\n",
       "      <td>home</td>\n",
       "      <td>2009</td>\n",
       "    </tr>\n",
       "    <tr>\n",
       "      <th>8600</th>\n",
       "      <td>Charles AliC. Ali</td>\n",
       "      <td>7</td>\n",
       "      <td>3</td>\n",
       "      <td>233.3</td>\n",
       "      <td>2.33</td>\n",
       "      <td>0</td>\n",
       "      <td>0</td>\n",
       "      <td>NaN</td>\n",
       "      <td>NaN</td>\n",
       "      <td>NaN</td>\n",
       "      <td>6</td>\n",
       "      <td>4.0</td>\n",
       "      <td>0.3</td>\n",
       "      <td>0.000</td>\n",
       "      <td>0.000</td>\n",
       "      <td>NaN</td>\n",
       "      <td>home</td>\n",
       "      <td>2009</td>\n",
       "    </tr>\n",
       "    <tr>\n",
       "      <th>8601</th>\n",
       "      <td>Ingle MartinI. Martin</td>\n",
       "      <td>4</td>\n",
       "      <td>3</td>\n",
       "      <td>133.3</td>\n",
       "      <td>1.33</td>\n",
       "      <td>0</td>\n",
       "      <td>0</td>\n",
       "      <td>NaN</td>\n",
       "      <td>NaN</td>\n",
       "      <td>NaN</td>\n",
       "      <td>6</td>\n",
       "      <td>8.0</td>\n",
       "      <td>0.3</td>\n",
       "      <td>0.000</td>\n",
       "      <td>0.000</td>\n",
       "      <td>NaN</td>\n",
       "      <td>home</td>\n",
       "      <td>2009</td>\n",
       "    </tr>\n",
       "    <tr>\n",
       "      <th>8602</th>\n",
       "      <td>LaBrandon ToefieldL. Toefield</td>\n",
       "      <td>-1</td>\n",
       "      <td>3</td>\n",
       "      <td>-33.3</td>\n",
       "      <td>-0.33</td>\n",
       "      <td>0</td>\n",
       "      <td>0</td>\n",
       "      <td>NaN</td>\n",
       "      <td>NaN</td>\n",
       "      <td>NaN</td>\n",
       "      <td>6</td>\n",
       "      <td>1.0</td>\n",
       "      <td>0.3</td>\n",
       "      <td>-0.000</td>\n",
       "      <td>0.000</td>\n",
       "      <td>NaN</td>\n",
       "      <td>home</td>\n",
       "      <td>2009</td>\n",
       "    </tr>\n",
       "    <tr>\n",
       "      <th>8644</th>\n",
       "      <td>Michael PittmanM. Pittman</td>\n",
       "      <td>58</td>\n",
       "      <td>18</td>\n",
       "      <td>322.2</td>\n",
       "      <td>3.22</td>\n",
       "      <td>2</td>\n",
       "      <td>0</td>\n",
       "      <td>NaN</td>\n",
       "      <td>NaN</td>\n",
       "      <td>NaN</td>\n",
       "      <td>34</td>\n",
       "      <td>9.0</td>\n",
       "      <td>0.1</td>\n",
       "      <td>0.034</td>\n",
       "      <td>0.111</td>\n",
       "      <td>NaN</td>\n",
       "      <td>away</td>\n",
       "      <td>2009</td>\n",
       "    </tr>\n",
       "    <tr>\n",
       "      <th>8645</th>\n",
       "      <td>Tatum BellT. Bell</td>\n",
       "      <td>43</td>\n",
       "      <td>9</td>\n",
       "      <td>477.8</td>\n",
       "      <td>4.78</td>\n",
       "      <td>0</td>\n",
       "      <td>0</td>\n",
       "      <td>NaN</td>\n",
       "      <td>NaN</td>\n",
       "      <td>NaN</td>\n",
       "      <td>34</td>\n",
       "      <td>18.0</td>\n",
       "      <td>0.1</td>\n",
       "      <td>0.000</td>\n",
       "      <td>0.000</td>\n",
       "      <td>NaN</td>\n",
       "      <td>away</td>\n",
       "      <td>2009</td>\n",
       "    </tr>\n",
       "    <tr>\n",
       "      <th>8646</th>\n",
       "      <td>Andrew PinnockA. Pinnock</td>\n",
       "      <td>1</td>\n",
       "      <td>2</td>\n",
       "      <td>50.0</td>\n",
       "      <td>0.50</td>\n",
       "      <td>1</td>\n",
       "      <td>0</td>\n",
       "      <td>NaN</td>\n",
       "      <td>NaN</td>\n",
       "      <td>NaN</td>\n",
       "      <td>34</td>\n",
       "      <td>1.0</td>\n",
       "      <td>0.5</td>\n",
       "      <td>1.000</td>\n",
       "      <td>0.500</td>\n",
       "      <td>NaN</td>\n",
       "      <td>away</td>\n",
       "      <td>2009</td>\n",
       "    </tr>\n",
       "    <tr>\n",
       "      <th>8647</th>\n",
       "      <td>Brooks BollingerB. Bollinger</td>\n",
       "      <td>-6</td>\n",
       "      <td>3</td>\n",
       "      <td>-200.0</td>\n",
       "      <td>-2.00</td>\n",
       "      <td>0</td>\n",
       "      <td>0</td>\n",
       "      <td>NaN</td>\n",
       "      <td>NaN</td>\n",
       "      <td>NaN</td>\n",
       "      <td>34</td>\n",
       "      <td>0.0</td>\n",
       "      <td>0.3</td>\n",
       "      <td>-0.000</td>\n",
       "      <td>0.000</td>\n",
       "      <td>NaN</td>\n",
       "      <td>away</td>\n",
       "      <td>2009</td>\n",
       "    </tr>\n",
       "    <tr>\n",
       "      <th>8648</th>\n",
       "      <td>Cory RossC. Ross</td>\n",
       "      <td>45</td>\n",
       "      <td>19</td>\n",
       "      <td>236.8</td>\n",
       "      <td>2.37</td>\n",
       "      <td>0</td>\n",
       "      <td>0</td>\n",
       "      <td>NaN</td>\n",
       "      <td>NaN</td>\n",
       "      <td>NaN</td>\n",
       "      <td>27</td>\n",
       "      <td>8.0</td>\n",
       "      <td>0.1</td>\n",
       "      <td>0.000</td>\n",
       "      <td>0.000</td>\n",
       "      <td>NaN</td>\n",
       "      <td>home</td>\n",
       "      <td>2009</td>\n",
       "    </tr>\n",
       "    <tr>\n",
       "      <th>8649</th>\n",
       "      <td>John David WashingtonJ. Washington</td>\n",
       "      <td>20</td>\n",
       "      <td>5</td>\n",
       "      <td>400.0</td>\n",
       "      <td>4.00</td>\n",
       "      <td>0</td>\n",
       "      <td>0</td>\n",
       "      <td>NaN</td>\n",
       "      <td>NaN</td>\n",
       "      <td>NaN</td>\n",
       "      <td>27</td>\n",
       "      <td>7.0</td>\n",
       "      <td>0.2</td>\n",
       "      <td>0.000</td>\n",
       "      <td>0.000</td>\n",
       "      <td>NaN</td>\n",
       "      <td>home</td>\n",
       "      <td>2009</td>\n",
       "    </tr>\n",
       "    <tr>\n",
       "      <th>8650</th>\n",
       "      <td>Shane BoydS. Boyd</td>\n",
       "      <td>5</td>\n",
       "      <td>4</td>\n",
       "      <td>125.0</td>\n",
       "      <td>1.25</td>\n",
       "      <td>0</td>\n",
       "      <td>0</td>\n",
       "      <td>NaN</td>\n",
       "      <td>NaN</td>\n",
       "      <td>NaN</td>\n",
       "      <td>27</td>\n",
       "      <td>8.0</td>\n",
       "      <td>0.2</td>\n",
       "      <td>0.000</td>\n",
       "      <td>0.000</td>\n",
       "      <td>NaN</td>\n",
       "      <td>home</td>\n",
       "      <td>2009</td>\n",
       "    </tr>\n",
       "  </tbody>\n",
       "</table>\n",
       "</div>"
      ],
      "text/plain": [
       "                                      qb  cmp  att  comp %   yds  td  int  \\\n",
       "8593                   Tatum BellT. Bell   46   16   287.5  2.88   1    0   \n",
       "8594           Michael PittmanM. Pittman   40    8   500.0  5.00   0    0   \n",
       "8595           Shaud WilliamsS. Williams   31    7   442.9  4.43   0    0   \n",
       "8596        Brooks BollingerB. Bollinger    3    2   150.0  1.50   0    0   \n",
       "8597             Chris GreisenC. Greisen   -1    1  -100.0 -1.00   0    0   \n",
       "8598               Shannon WoodsS. Woods   32   12   266.7  2.67   0    0   \n",
       "8599                   Quinn GrayQ. Gray   10    2   500.0  5.00   0    0   \n",
       "8600                   Charles AliC. Ali    7    3   233.3  2.33   0    0   \n",
       "8601               Ingle MartinI. Martin    4    3   133.3  1.33   0    0   \n",
       "8602       LaBrandon ToefieldL. Toefield   -1    3   -33.3 -0.33   0    0   \n",
       "8644           Michael PittmanM. Pittman   58   18   322.2  3.22   2    0   \n",
       "8645                   Tatum BellT. Bell   43    9   477.8  4.78   0    0   \n",
       "8646            Andrew PinnockA. Pinnock    1    2    50.0  0.50   1    0   \n",
       "8647        Brooks BollingerB. Bollinger   -6    3  -200.0 -2.00   0    0   \n",
       "8648                    Cory RossC. Ross   45   19   236.8  2.37   0    0   \n",
       "8649  John David WashingtonJ. Washington   20    5   400.0  4.00   0    0   \n",
       "8650                   Shane BoydS. Boyd    5    4   125.0  1.25   0    0   \n",
       "\n",
       "      rate long  sack  game_points   ypa  ypc  td_per_cmp  td_per_att  \\\n",
       "8593   NaN  NaN   NaN           24  17.0  0.1       0.022       0.062   \n",
       "8594   NaN  NaN   NaN           24  20.0  0.1       0.000       0.000   \n",
       "8595   NaN  NaN   NaN           24  17.0  0.1       0.000       0.000   \n",
       "8596   NaN  NaN   NaN           24   4.0  0.5       0.000       0.000   \n",
       "8597   NaN  NaN   NaN           24  -1.0  1.0      -0.000       0.000   \n",
       "8598   NaN  NaN   NaN            6   7.0  0.1       0.000       0.000   \n",
       "8599   NaN  NaN   NaN            6   8.0  0.5       0.000       0.000   \n",
       "8600   NaN  NaN   NaN            6   4.0  0.3       0.000       0.000   \n",
       "8601   NaN  NaN   NaN            6   8.0  0.3       0.000       0.000   \n",
       "8602   NaN  NaN   NaN            6   1.0  0.3      -0.000       0.000   \n",
       "8644   NaN  NaN   NaN           34   9.0  0.1       0.034       0.111   \n",
       "8645   NaN  NaN   NaN           34  18.0  0.1       0.000       0.000   \n",
       "8646   NaN  NaN   NaN           34   1.0  0.5       1.000       0.500   \n",
       "8647   NaN  NaN   NaN           34   0.0  0.3      -0.000       0.000   \n",
       "8648   NaN  NaN   NaN           27   8.0  0.1       0.000       0.000   \n",
       "8649   NaN  NaN   NaN           27   7.0  0.2       0.000       0.000   \n",
       "8650   NaN  NaN   NaN           27   8.0  0.2       0.000       0.000   \n",
       "\n",
       "      loss_yds home_away  year  \n",
       "8593       NaN      away  2009  \n",
       "8594       NaN      away  2009  \n",
       "8595       NaN      away  2009  \n",
       "8596       NaN      away  2009  \n",
       "8597       NaN      away  2009  \n",
       "8598       NaN      home  2009  \n",
       "8599       NaN      home  2009  \n",
       "8600       NaN      home  2009  \n",
       "8601       NaN      home  2009  \n",
       "8602       NaN      home  2009  \n",
       "8644       NaN      away  2009  \n",
       "8645       NaN      away  2009  \n",
       "8646       NaN      away  2009  \n",
       "8647       NaN      away  2009  \n",
       "8648       NaN      home  2009  \n",
       "8649       NaN      home  2009  \n",
       "8650       NaN      home  2009  "
      ]
     },
     "execution_count": 23,
     "metadata": {},
     "output_type": "execute_result"
    }
   ],
   "source": [
    "df[df['loss_yds'].isnull()]"
   ]
  },
  {
   "cell_type": "code",
   "execution_count": 24,
   "id": "52560042",
   "metadata": {},
   "outputs": [
    {
     "data": {
      "text/html": [
       "<div>\n",
       "<style scoped>\n",
       "    .dataframe tbody tr th:only-of-type {\n",
       "        vertical-align: middle;\n",
       "    }\n",
       "\n",
       "    .dataframe tbody tr th {\n",
       "        vertical-align: top;\n",
       "    }\n",
       "\n",
       "    .dataframe thead th {\n",
       "        text-align: right;\n",
       "    }\n",
       "</style>\n",
       "<table border=\"1\" class=\"dataframe\">\n",
       "  <thead>\n",
       "    <tr style=\"text-align: right;\">\n",
       "      <th></th>\n",
       "      <th>qb</th>\n",
       "      <th>cmp</th>\n",
       "      <th>att</th>\n",
       "      <th>comp %</th>\n",
       "      <th>yds</th>\n",
       "      <th>td</th>\n",
       "      <th>int</th>\n",
       "      <th>rate</th>\n",
       "      <th>long</th>\n",
       "      <th>sack</th>\n",
       "      <th>game_points</th>\n",
       "      <th>ypa</th>\n",
       "      <th>ypc</th>\n",
       "      <th>td_per_cmp</th>\n",
       "      <th>td_per_att</th>\n",
       "      <th>loss_yds</th>\n",
       "      <th>home_away</th>\n",
       "      <th>year</th>\n",
       "    </tr>\n",
       "  </thead>\n",
       "  <tbody>\n",
       "    <tr>\n",
       "      <th>8593</th>\n",
       "      <td>Tatum BellT. Bell</td>\n",
       "      <td>46</td>\n",
       "      <td>16</td>\n",
       "      <td>287.5</td>\n",
       "      <td>2.88</td>\n",
       "      <td>1</td>\n",
       "      <td>0</td>\n",
       "      <td>NaN</td>\n",
       "      <td>NaN</td>\n",
       "      <td>NaN</td>\n",
       "      <td>24</td>\n",
       "      <td>17.0</td>\n",
       "      <td>0.1</td>\n",
       "      <td>0.022</td>\n",
       "      <td>0.062</td>\n",
       "      <td>NaN</td>\n",
       "      <td>away</td>\n",
       "      <td>2009</td>\n",
       "    </tr>\n",
       "    <tr>\n",
       "      <th>8594</th>\n",
       "      <td>Michael PittmanM. Pittman</td>\n",
       "      <td>40</td>\n",
       "      <td>8</td>\n",
       "      <td>500.0</td>\n",
       "      <td>5.00</td>\n",
       "      <td>0</td>\n",
       "      <td>0</td>\n",
       "      <td>NaN</td>\n",
       "      <td>NaN</td>\n",
       "      <td>NaN</td>\n",
       "      <td>24</td>\n",
       "      <td>20.0</td>\n",
       "      <td>0.1</td>\n",
       "      <td>0.000</td>\n",
       "      <td>0.000</td>\n",
       "      <td>NaN</td>\n",
       "      <td>away</td>\n",
       "      <td>2009</td>\n",
       "    </tr>\n",
       "    <tr>\n",
       "      <th>8595</th>\n",
       "      <td>Shaud WilliamsS. Williams</td>\n",
       "      <td>31</td>\n",
       "      <td>7</td>\n",
       "      <td>442.9</td>\n",
       "      <td>4.43</td>\n",
       "      <td>0</td>\n",
       "      <td>0</td>\n",
       "      <td>NaN</td>\n",
       "      <td>NaN</td>\n",
       "      <td>NaN</td>\n",
       "      <td>24</td>\n",
       "      <td>17.0</td>\n",
       "      <td>0.1</td>\n",
       "      <td>0.000</td>\n",
       "      <td>0.000</td>\n",
       "      <td>NaN</td>\n",
       "      <td>away</td>\n",
       "      <td>2009</td>\n",
       "    </tr>\n",
       "    <tr>\n",
       "      <th>8596</th>\n",
       "      <td>Brooks BollingerB. Bollinger</td>\n",
       "      <td>3</td>\n",
       "      <td>2</td>\n",
       "      <td>150.0</td>\n",
       "      <td>1.50</td>\n",
       "      <td>0</td>\n",
       "      <td>0</td>\n",
       "      <td>NaN</td>\n",
       "      <td>NaN</td>\n",
       "      <td>NaN</td>\n",
       "      <td>24</td>\n",
       "      <td>4.0</td>\n",
       "      <td>0.5</td>\n",
       "      <td>0.000</td>\n",
       "      <td>0.000</td>\n",
       "      <td>NaN</td>\n",
       "      <td>away</td>\n",
       "      <td>2009</td>\n",
       "    </tr>\n",
       "    <tr>\n",
       "      <th>8597</th>\n",
       "      <td>Chris GreisenC. Greisen</td>\n",
       "      <td>-1</td>\n",
       "      <td>1</td>\n",
       "      <td>-100.0</td>\n",
       "      <td>-1.00</td>\n",
       "      <td>0</td>\n",
       "      <td>0</td>\n",
       "      <td>NaN</td>\n",
       "      <td>NaN</td>\n",
       "      <td>NaN</td>\n",
       "      <td>24</td>\n",
       "      <td>-1.0</td>\n",
       "      <td>1.0</td>\n",
       "      <td>-0.000</td>\n",
       "      <td>0.000</td>\n",
       "      <td>NaN</td>\n",
       "      <td>away</td>\n",
       "      <td>2009</td>\n",
       "    </tr>\n",
       "    <tr>\n",
       "      <th>8598</th>\n",
       "      <td>Shannon WoodsS. Woods</td>\n",
       "      <td>32</td>\n",
       "      <td>12</td>\n",
       "      <td>266.7</td>\n",
       "      <td>2.67</td>\n",
       "      <td>0</td>\n",
       "      <td>0</td>\n",
       "      <td>NaN</td>\n",
       "      <td>NaN</td>\n",
       "      <td>NaN</td>\n",
       "      <td>6</td>\n",
       "      <td>7.0</td>\n",
       "      <td>0.1</td>\n",
       "      <td>0.000</td>\n",
       "      <td>0.000</td>\n",
       "      <td>NaN</td>\n",
       "      <td>home</td>\n",
       "      <td>2009</td>\n",
       "    </tr>\n",
       "    <tr>\n",
       "      <th>8599</th>\n",
       "      <td>Quinn GrayQ. Gray</td>\n",
       "      <td>10</td>\n",
       "      <td>2</td>\n",
       "      <td>500.0</td>\n",
       "      <td>5.00</td>\n",
       "      <td>0</td>\n",
       "      <td>0</td>\n",
       "      <td>NaN</td>\n",
       "      <td>NaN</td>\n",
       "      <td>NaN</td>\n",
       "      <td>6</td>\n",
       "      <td>8.0</td>\n",
       "      <td>0.5</td>\n",
       "      <td>0.000</td>\n",
       "      <td>0.000</td>\n",
       "      <td>NaN</td>\n",
       "      <td>home</td>\n",
       "      <td>2009</td>\n",
       "    </tr>\n",
       "    <tr>\n",
       "      <th>8600</th>\n",
       "      <td>Charles AliC. Ali</td>\n",
       "      <td>7</td>\n",
       "      <td>3</td>\n",
       "      <td>233.3</td>\n",
       "      <td>2.33</td>\n",
       "      <td>0</td>\n",
       "      <td>0</td>\n",
       "      <td>NaN</td>\n",
       "      <td>NaN</td>\n",
       "      <td>NaN</td>\n",
       "      <td>6</td>\n",
       "      <td>4.0</td>\n",
       "      <td>0.3</td>\n",
       "      <td>0.000</td>\n",
       "      <td>0.000</td>\n",
       "      <td>NaN</td>\n",
       "      <td>home</td>\n",
       "      <td>2009</td>\n",
       "    </tr>\n",
       "    <tr>\n",
       "      <th>8601</th>\n",
       "      <td>Ingle MartinI. Martin</td>\n",
       "      <td>4</td>\n",
       "      <td>3</td>\n",
       "      <td>133.3</td>\n",
       "      <td>1.33</td>\n",
       "      <td>0</td>\n",
       "      <td>0</td>\n",
       "      <td>NaN</td>\n",
       "      <td>NaN</td>\n",
       "      <td>NaN</td>\n",
       "      <td>6</td>\n",
       "      <td>8.0</td>\n",
       "      <td>0.3</td>\n",
       "      <td>0.000</td>\n",
       "      <td>0.000</td>\n",
       "      <td>NaN</td>\n",
       "      <td>home</td>\n",
       "      <td>2009</td>\n",
       "    </tr>\n",
       "    <tr>\n",
       "      <th>8602</th>\n",
       "      <td>LaBrandon ToefieldL. Toefield</td>\n",
       "      <td>-1</td>\n",
       "      <td>3</td>\n",
       "      <td>-33.3</td>\n",
       "      <td>-0.33</td>\n",
       "      <td>0</td>\n",
       "      <td>0</td>\n",
       "      <td>NaN</td>\n",
       "      <td>NaN</td>\n",
       "      <td>NaN</td>\n",
       "      <td>6</td>\n",
       "      <td>1.0</td>\n",
       "      <td>0.3</td>\n",
       "      <td>-0.000</td>\n",
       "      <td>0.000</td>\n",
       "      <td>NaN</td>\n",
       "      <td>home</td>\n",
       "      <td>2009</td>\n",
       "    </tr>\n",
       "    <tr>\n",
       "      <th>8644</th>\n",
       "      <td>Michael PittmanM. Pittman</td>\n",
       "      <td>58</td>\n",
       "      <td>18</td>\n",
       "      <td>322.2</td>\n",
       "      <td>3.22</td>\n",
       "      <td>2</td>\n",
       "      <td>0</td>\n",
       "      <td>NaN</td>\n",
       "      <td>NaN</td>\n",
       "      <td>NaN</td>\n",
       "      <td>34</td>\n",
       "      <td>9.0</td>\n",
       "      <td>0.1</td>\n",
       "      <td>0.034</td>\n",
       "      <td>0.111</td>\n",
       "      <td>NaN</td>\n",
       "      <td>away</td>\n",
       "      <td>2009</td>\n",
       "    </tr>\n",
       "    <tr>\n",
       "      <th>8645</th>\n",
       "      <td>Tatum BellT. Bell</td>\n",
       "      <td>43</td>\n",
       "      <td>9</td>\n",
       "      <td>477.8</td>\n",
       "      <td>4.78</td>\n",
       "      <td>0</td>\n",
       "      <td>0</td>\n",
       "      <td>NaN</td>\n",
       "      <td>NaN</td>\n",
       "      <td>NaN</td>\n",
       "      <td>34</td>\n",
       "      <td>18.0</td>\n",
       "      <td>0.1</td>\n",
       "      <td>0.000</td>\n",
       "      <td>0.000</td>\n",
       "      <td>NaN</td>\n",
       "      <td>away</td>\n",
       "      <td>2009</td>\n",
       "    </tr>\n",
       "    <tr>\n",
       "      <th>8646</th>\n",
       "      <td>Andrew PinnockA. Pinnock</td>\n",
       "      <td>1</td>\n",
       "      <td>2</td>\n",
       "      <td>50.0</td>\n",
       "      <td>0.50</td>\n",
       "      <td>1</td>\n",
       "      <td>0</td>\n",
       "      <td>NaN</td>\n",
       "      <td>NaN</td>\n",
       "      <td>NaN</td>\n",
       "      <td>34</td>\n",
       "      <td>1.0</td>\n",
       "      <td>0.5</td>\n",
       "      <td>1.000</td>\n",
       "      <td>0.500</td>\n",
       "      <td>NaN</td>\n",
       "      <td>away</td>\n",
       "      <td>2009</td>\n",
       "    </tr>\n",
       "    <tr>\n",
       "      <th>8647</th>\n",
       "      <td>Brooks BollingerB. Bollinger</td>\n",
       "      <td>-6</td>\n",
       "      <td>3</td>\n",
       "      <td>-200.0</td>\n",
       "      <td>-2.00</td>\n",
       "      <td>0</td>\n",
       "      <td>0</td>\n",
       "      <td>NaN</td>\n",
       "      <td>NaN</td>\n",
       "      <td>NaN</td>\n",
       "      <td>34</td>\n",
       "      <td>0.0</td>\n",
       "      <td>0.3</td>\n",
       "      <td>-0.000</td>\n",
       "      <td>0.000</td>\n",
       "      <td>NaN</td>\n",
       "      <td>away</td>\n",
       "      <td>2009</td>\n",
       "    </tr>\n",
       "    <tr>\n",
       "      <th>8648</th>\n",
       "      <td>Cory RossC. Ross</td>\n",
       "      <td>45</td>\n",
       "      <td>19</td>\n",
       "      <td>236.8</td>\n",
       "      <td>2.37</td>\n",
       "      <td>0</td>\n",
       "      <td>0</td>\n",
       "      <td>NaN</td>\n",
       "      <td>NaN</td>\n",
       "      <td>NaN</td>\n",
       "      <td>27</td>\n",
       "      <td>8.0</td>\n",
       "      <td>0.1</td>\n",
       "      <td>0.000</td>\n",
       "      <td>0.000</td>\n",
       "      <td>NaN</td>\n",
       "      <td>home</td>\n",
       "      <td>2009</td>\n",
       "    </tr>\n",
       "    <tr>\n",
       "      <th>8649</th>\n",
       "      <td>John David WashingtonJ. Washington</td>\n",
       "      <td>20</td>\n",
       "      <td>5</td>\n",
       "      <td>400.0</td>\n",
       "      <td>4.00</td>\n",
       "      <td>0</td>\n",
       "      <td>0</td>\n",
       "      <td>NaN</td>\n",
       "      <td>NaN</td>\n",
       "      <td>NaN</td>\n",
       "      <td>27</td>\n",
       "      <td>7.0</td>\n",
       "      <td>0.2</td>\n",
       "      <td>0.000</td>\n",
       "      <td>0.000</td>\n",
       "      <td>NaN</td>\n",
       "      <td>home</td>\n",
       "      <td>2009</td>\n",
       "    </tr>\n",
       "    <tr>\n",
       "      <th>8650</th>\n",
       "      <td>Shane BoydS. Boyd</td>\n",
       "      <td>5</td>\n",
       "      <td>4</td>\n",
       "      <td>125.0</td>\n",
       "      <td>1.25</td>\n",
       "      <td>0</td>\n",
       "      <td>0</td>\n",
       "      <td>NaN</td>\n",
       "      <td>NaN</td>\n",
       "      <td>NaN</td>\n",
       "      <td>27</td>\n",
       "      <td>8.0</td>\n",
       "      <td>0.2</td>\n",
       "      <td>0.000</td>\n",
       "      <td>0.000</td>\n",
       "      <td>NaN</td>\n",
       "      <td>home</td>\n",
       "      <td>2009</td>\n",
       "    </tr>\n",
       "  </tbody>\n",
       "</table>\n",
       "</div>"
      ],
      "text/plain": [
       "                                      qb  cmp  att  comp %   yds  td  int  \\\n",
       "8593                   Tatum BellT. Bell   46   16   287.5  2.88   1    0   \n",
       "8594           Michael PittmanM. Pittman   40    8   500.0  5.00   0    0   \n",
       "8595           Shaud WilliamsS. Williams   31    7   442.9  4.43   0    0   \n",
       "8596        Brooks BollingerB. Bollinger    3    2   150.0  1.50   0    0   \n",
       "8597             Chris GreisenC. Greisen   -1    1  -100.0 -1.00   0    0   \n",
       "8598               Shannon WoodsS. Woods   32   12   266.7  2.67   0    0   \n",
       "8599                   Quinn GrayQ. Gray   10    2   500.0  5.00   0    0   \n",
       "8600                   Charles AliC. Ali    7    3   233.3  2.33   0    0   \n",
       "8601               Ingle MartinI. Martin    4    3   133.3  1.33   0    0   \n",
       "8602       LaBrandon ToefieldL. Toefield   -1    3   -33.3 -0.33   0    0   \n",
       "8644           Michael PittmanM. Pittman   58   18   322.2  3.22   2    0   \n",
       "8645                   Tatum BellT. Bell   43    9   477.8  4.78   0    0   \n",
       "8646            Andrew PinnockA. Pinnock    1    2    50.0  0.50   1    0   \n",
       "8647        Brooks BollingerB. Bollinger   -6    3  -200.0 -2.00   0    0   \n",
       "8648                    Cory RossC. Ross   45   19   236.8  2.37   0    0   \n",
       "8649  John David WashingtonJ. Washington   20    5   400.0  4.00   0    0   \n",
       "8650                   Shane BoydS. Boyd    5    4   125.0  1.25   0    0   \n",
       "\n",
       "      rate long  sack  game_points   ypa  ypc  td_per_cmp  td_per_att  \\\n",
       "8593   NaN  NaN   NaN           24  17.0  0.1       0.022       0.062   \n",
       "8594   NaN  NaN   NaN           24  20.0  0.1       0.000       0.000   \n",
       "8595   NaN  NaN   NaN           24  17.0  0.1       0.000       0.000   \n",
       "8596   NaN  NaN   NaN           24   4.0  0.5       0.000       0.000   \n",
       "8597   NaN  NaN   NaN           24  -1.0  1.0      -0.000       0.000   \n",
       "8598   NaN  NaN   NaN            6   7.0  0.1       0.000       0.000   \n",
       "8599   NaN  NaN   NaN            6   8.0  0.5       0.000       0.000   \n",
       "8600   NaN  NaN   NaN            6   4.0  0.3       0.000       0.000   \n",
       "8601   NaN  NaN   NaN            6   8.0  0.3       0.000       0.000   \n",
       "8602   NaN  NaN   NaN            6   1.0  0.3      -0.000       0.000   \n",
       "8644   NaN  NaN   NaN           34   9.0  0.1       0.034       0.111   \n",
       "8645   NaN  NaN   NaN           34  18.0  0.1       0.000       0.000   \n",
       "8646   NaN  NaN   NaN           34   1.0  0.5       1.000       0.500   \n",
       "8647   NaN  NaN   NaN           34   0.0  0.3      -0.000       0.000   \n",
       "8648   NaN  NaN   NaN           27   8.0  0.1       0.000       0.000   \n",
       "8649   NaN  NaN   NaN           27   7.0  0.2       0.000       0.000   \n",
       "8650   NaN  NaN   NaN           27   8.0  0.2       0.000       0.000   \n",
       "\n",
       "      loss_yds home_away  year  \n",
       "8593       NaN      away  2009  \n",
       "8594       NaN      away  2009  \n",
       "8595       NaN      away  2009  \n",
       "8596       NaN      away  2009  \n",
       "8597       NaN      away  2009  \n",
       "8598       NaN      home  2009  \n",
       "8599       NaN      home  2009  \n",
       "8600       NaN      home  2009  \n",
       "8601       NaN      home  2009  \n",
       "8602       NaN      home  2009  \n",
       "8644       NaN      away  2009  \n",
       "8645       NaN      away  2009  \n",
       "8646       NaN      away  2009  \n",
       "8647       NaN      away  2009  \n",
       "8648       NaN      home  2009  \n",
       "8649       NaN      home  2009  \n",
       "8650       NaN      home  2009  "
      ]
     },
     "execution_count": 24,
     "metadata": {},
     "output_type": "execute_result"
    }
   ],
   "source": [
    "df[df['rate'].isnull()]"
   ]
  },
  {
   "cell_type": "markdown",
   "id": "bccef855",
   "metadata": {},
   "source": [
    "## 2.7 Explore the Columns<a id='2.7_Explore_the_Columns'></a>"
   ]
  },
  {
   "cell_type": "markdown",
   "id": "2ca48bca",
   "metadata": {},
   "source": [
    "Here we will find out what the values, range, mean, counts, unique values, median, mode and standard deviation is for each column."
   ]
  },
  {
   "cell_type": "markdown",
   "id": "27fa590f",
   "metadata": {},
   "source": [
    "### 2.7.1 QB Column<a id='2.7.1_QB_Column'></a>"
   ]
  },
  {
   "cell_type": "code",
   "execution_count": 25,
   "id": "c39e4189",
   "metadata": {},
   "outputs": [
    {
     "data": {
      "text/plain": [
       "dtype('O')"
      ]
     },
     "execution_count": 25,
     "metadata": {},
     "output_type": "execute_result"
    }
   ],
   "source": [
    "df['qb'].dtypes"
   ]
  },
  {
   "cell_type": "markdown",
   "id": "b1b64f78",
   "metadata": {},
   "source": [
    "The QB column is an object."
   ]
  },
  {
   "cell_type": "markdown",
   "id": "f34cda8a",
   "metadata": {},
   "source": [
    "There are 13,187 unique QB values."
   ]
  },
  {
   "cell_type": "code",
   "execution_count": 26,
   "id": "8a80581d",
   "metadata": {},
   "outputs": [
    {
     "data": {
      "text/plain": [
       "Peyton ManningP. Manning    265\n",
       "Tom BradyT. Brady           237\n",
       "Brett FavreB. Favre         235\n",
       "Drew BreesD. Brees          232\n",
       "Eli ManningE. Manning       199\n",
       "Name: qb, dtype: int64"
      ]
     },
     "execution_count": 26,
     "metadata": {},
     "output_type": "execute_result"
    }
   ],
   "source": [
    "df['qb'].value_counts().head()"
   ]
  },
  {
   "cell_type": "markdown",
   "id": "d2209e1a",
   "metadata": {},
   "source": [
    "Peyton Manning played in the most games from 1996-2016."
   ]
  },
  {
   "cell_type": "code",
   "execution_count": 27,
   "id": "04337d69",
   "metadata": {},
   "outputs": [
    {
     "data": {
      "text/plain": [
       "qb\n",
       "Ken DilgerK. Dilger       158.3\n",
       "Josh MillerJ. Miller      158.3\n",
       "Doug BaldwinD. Baldwin    158.3\n",
       "Marqise LeeM. Lee         158.3\n",
       "Josh BrownJ. Brown        158.3\n",
       "Name: rate, dtype: float64"
      ]
     },
     "execution_count": 27,
     "metadata": {},
     "output_type": "execute_result"
    }
   ],
   "source": [
    "qb_rating_means = df.groupby(by='qb')['rate'].mean().sort_values(ascending=False)\n",
    "qb_rating_means.head()"
   ]
  },
  {
   "cell_type": "code",
   "execution_count": 28,
   "id": "5f74336e",
   "metadata": {},
   "outputs": [
    {
     "data": {
      "text/plain": [
       "False"
      ]
     },
     "execution_count": 28,
     "metadata": {},
     "output_type": "execute_result"
    }
   ],
   "source": [
    "df['qb'].isnull().values.any()"
   ]
  },
  {
   "cell_type": "markdown",
   "id": "43e5e844",
   "metadata": {},
   "source": [
    "Looks like a few people have a perfect QB rating of 158.3."
   ]
  },
  {
   "cell_type": "markdown",
   "id": "29f5a4a1",
   "metadata": {},
   "source": [
    "### 2.7.2 CMP Column<a id='2.7.2_CMP_Column'></a>"
   ]
  },
  {
   "cell_type": "code",
   "execution_count": 29,
   "id": "ea9b9ed3",
   "metadata": {},
   "outputs": [
    {
     "data": {
      "text/plain": [
       "dtype('int64')"
      ]
     },
     "execution_count": 29,
     "metadata": {},
     "output_type": "execute_result"
    }
   ],
   "source": [
    "df['cmp'].dtypes"
   ]
  },
  {
   "cell_type": "markdown",
   "id": "eab60ad9",
   "metadata": {},
   "source": [
    "It is an integer. Which it should be!"
   ]
  },
  {
   "cell_type": "code",
   "execution_count": 30,
   "id": "b62023b1",
   "metadata": {},
   "outputs": [
    {
     "data": {
      "text/plain": [
       "58"
      ]
     },
     "execution_count": 30,
     "metadata": {},
     "output_type": "execute_result"
    }
   ],
   "source": [
    "df['cmp'].max()"
   ]
  },
  {
   "cell_type": "code",
   "execution_count": 31,
   "id": "8a42b43f",
   "metadata": {},
   "outputs": [
    {
     "data": {
      "text/plain": [
       "-6"
      ]
     },
     "execution_count": 31,
     "metadata": {},
     "output_type": "execute_result"
    }
   ],
   "source": [
    "df['cmp'].min()"
   ]
  },
  {
   "cell_type": "markdown",
   "id": "088eb956",
   "metadata": {},
   "source": [
    "Here we will have to get rid of the -6 value because it is impossible to throw -6 completions. Lets see if there are any other rows with a value below 0."
   ]
  },
  {
   "cell_type": "code",
   "execution_count": 32,
   "id": "6c950a61",
   "metadata": {},
   "outputs": [
    {
     "data": {
      "text/plain": [
       "64"
      ]
     },
     "execution_count": 32,
     "metadata": {},
     "output_type": "execute_result"
    }
   ],
   "source": [
    "df['cmp'].max()-df['cmp'].min()"
   ]
  },
  {
   "cell_type": "code",
   "execution_count": 33,
   "id": "f548d406",
   "metadata": {},
   "outputs": [
    {
     "data": {
      "text/html": [
       "<div>\n",
       "<style scoped>\n",
       "    .dataframe tbody tr th:only-of-type {\n",
       "        vertical-align: middle;\n",
       "    }\n",
       "\n",
       "    .dataframe tbody tr th {\n",
       "        vertical-align: top;\n",
       "    }\n",
       "\n",
       "    .dataframe thead th {\n",
       "        text-align: right;\n",
       "    }\n",
       "</style>\n",
       "<table border=\"1\" class=\"dataframe\">\n",
       "  <thead>\n",
       "    <tr style=\"text-align: right;\">\n",
       "      <th></th>\n",
       "      <th>qb</th>\n",
       "      <th>cmp</th>\n",
       "      <th>att</th>\n",
       "      <th>comp %</th>\n",
       "      <th>yds</th>\n",
       "      <th>td</th>\n",
       "      <th>int</th>\n",
       "      <th>rate</th>\n",
       "      <th>long</th>\n",
       "      <th>sack</th>\n",
       "      <th>game_points</th>\n",
       "      <th>ypa</th>\n",
       "      <th>ypc</th>\n",
       "      <th>td_per_cmp</th>\n",
       "      <th>td_per_att</th>\n",
       "      <th>loss_yds</th>\n",
       "      <th>home_away</th>\n",
       "      <th>year</th>\n",
       "    </tr>\n",
       "  </thead>\n",
       "  <tbody>\n",
       "    <tr>\n",
       "      <th>8597</th>\n",
       "      <td>Chris GreisenC. Greisen</td>\n",
       "      <td>-1</td>\n",
       "      <td>1</td>\n",
       "      <td>-100.0</td>\n",
       "      <td>-1.00</td>\n",
       "      <td>0</td>\n",
       "      <td>0</td>\n",
       "      <td>NaN</td>\n",
       "      <td>NaN</td>\n",
       "      <td>NaN</td>\n",
       "      <td>24</td>\n",
       "      <td>-1.0</td>\n",
       "      <td>1.0</td>\n",
       "      <td>-0.0</td>\n",
       "      <td>0.0</td>\n",
       "      <td>NaN</td>\n",
       "      <td>away</td>\n",
       "      <td>2009</td>\n",
       "    </tr>\n",
       "    <tr>\n",
       "      <th>8602</th>\n",
       "      <td>LaBrandon ToefieldL. Toefield</td>\n",
       "      <td>-1</td>\n",
       "      <td>3</td>\n",
       "      <td>-33.3</td>\n",
       "      <td>-0.33</td>\n",
       "      <td>0</td>\n",
       "      <td>0</td>\n",
       "      <td>NaN</td>\n",
       "      <td>NaN</td>\n",
       "      <td>NaN</td>\n",
       "      <td>6</td>\n",
       "      <td>1.0</td>\n",
       "      <td>0.3</td>\n",
       "      <td>-0.0</td>\n",
       "      <td>0.0</td>\n",
       "      <td>NaN</td>\n",
       "      <td>home</td>\n",
       "      <td>2009</td>\n",
       "    </tr>\n",
       "    <tr>\n",
       "      <th>8647</th>\n",
       "      <td>Brooks BollingerB. Bollinger</td>\n",
       "      <td>-6</td>\n",
       "      <td>3</td>\n",
       "      <td>-200.0</td>\n",
       "      <td>-2.00</td>\n",
       "      <td>0</td>\n",
       "      <td>0</td>\n",
       "      <td>NaN</td>\n",
       "      <td>NaN</td>\n",
       "      <td>NaN</td>\n",
       "      <td>34</td>\n",
       "      <td>0.0</td>\n",
       "      <td>0.3</td>\n",
       "      <td>-0.0</td>\n",
       "      <td>0.0</td>\n",
       "      <td>NaN</td>\n",
       "      <td>away</td>\n",
       "      <td>2009</td>\n",
       "    </tr>\n",
       "  </tbody>\n",
       "</table>\n",
       "</div>"
      ],
      "text/plain": [
       "                                 qb  cmp  att  comp %   yds  td  int  rate  \\\n",
       "8597        Chris GreisenC. Greisen   -1    1  -100.0 -1.00   0    0   NaN   \n",
       "8602  LaBrandon ToefieldL. Toefield   -1    3   -33.3 -0.33   0    0   NaN   \n",
       "8647   Brooks BollingerB. Bollinger   -6    3  -200.0 -2.00   0    0   NaN   \n",
       "\n",
       "     long  sack  game_points  ypa  ypc  td_per_cmp  td_per_att  loss_yds  \\\n",
       "8597  NaN   NaN           24 -1.0  1.0        -0.0         0.0       NaN   \n",
       "8602  NaN   NaN            6  1.0  0.3        -0.0         0.0       NaN   \n",
       "8647  NaN   NaN           34  0.0  0.3        -0.0         0.0       NaN   \n",
       "\n",
       "     home_away  year  \n",
       "8597      away  2009  \n",
       "8602      home  2009  \n",
       "8647      away  2009  "
      ]
     },
     "execution_count": 33,
     "metadata": {},
     "output_type": "execute_result"
    }
   ],
   "source": [
    "df[df['cmp'].isin([-6,-5,-4,-3,-2,-1])]"
   ]
  },
  {
   "cell_type": "markdown",
   "id": "f13d3377",
   "metadata": {},
   "source": [
    "We will have to get rid of these three rows as they are incorrect."
   ]
  },
  {
   "cell_type": "code",
   "execution_count": 34,
   "id": "fc9ca190",
   "metadata": {},
   "outputs": [],
   "source": [
    "df.drop([8597,8602,8647], axis=0, inplace=True)"
   ]
  },
  {
   "cell_type": "code",
   "execution_count": 35,
   "id": "7a9f3dc3",
   "metadata": {},
   "outputs": [
    {
     "data": {
      "text/plain": [
       "0"
      ]
     },
     "execution_count": 35,
     "metadata": {},
     "output_type": "execute_result"
    }
   ],
   "source": [
    "df['cmp'].min()"
   ]
  },
  {
   "cell_type": "markdown",
   "id": "ef028c36",
   "metadata": {},
   "source": [
    "It worked!"
   ]
  },
  {
   "cell_type": "code",
   "execution_count": 36,
   "id": "98adda63",
   "metadata": {},
   "outputs": [
    {
     "data": {
      "text/plain": [
       "16.126052332195677"
      ]
     },
     "execution_count": 36,
     "metadata": {},
     "output_type": "execute_result"
    }
   ],
   "source": [
    "df['cmp'].mean() "
   ]
  },
  {
   "cell_type": "code",
   "execution_count": 37,
   "id": "b6803545",
   "metadata": {},
   "outputs": [
    {
     "data": {
      "text/plain": [
       "17.0"
      ]
     },
     "execution_count": 37,
     "metadata": {},
     "output_type": "execute_result"
    }
   ],
   "source": [
    "df['cmp'].median()"
   ]
  },
  {
   "cell_type": "code",
   "execution_count": 38,
   "id": "ca802f61",
   "metadata": {},
   "outputs": [
    {
     "data": {
      "text/plain": [
       "0    0\n",
       "dtype: int64"
      ]
     },
     "execution_count": 38,
     "metadata": {},
     "output_type": "execute_result"
    }
   ],
   "source": [
    "df['cmp'].mode()"
   ]
  },
  {
   "cell_type": "code",
   "execution_count": 39,
   "id": "511665db",
   "metadata": {},
   "outputs": [
    {
     "data": {
      "text/plain": [
       "8.771335383519725"
      ]
     },
     "execution_count": 39,
     "metadata": {},
     "output_type": "execute_result"
    }
   ],
   "source": [
    "df['cmp'].std()"
   ]
  },
  {
   "cell_type": "code",
   "execution_count": 40,
   "id": "5d9cea5d",
   "metadata": {},
   "outputs": [
    {
     "data": {
      "text/plain": [
       "array([25, 16,  5, 17, 23, 13, 20,  1, 21, 19, 12,  9,  3,  0, 18,  7,  4,\n",
       "       24, 11, 22, 14, 27, 15, 26,  2, 10,  6,  8, 37, 29, 28, 32, 31, 33,\n",
       "       30, 35, 34, 38, 42, 36, 39, 40, 43, 46, 58, 45, 41], dtype=int64)"
      ]
     },
     "execution_count": 40,
     "metadata": {},
     "output_type": "execute_result"
    }
   ],
   "source": [
    "df['cmp'].unique()"
   ]
  },
  {
   "cell_type": "code",
   "execution_count": 41,
   "id": "95c58793",
   "metadata": {},
   "outputs": [
    {
     "data": {
      "text/plain": [
       "0     719\n",
       "18    688\n",
       "17    676\n",
       "1     666\n",
       "21    661\n",
       "Name: cmp, dtype: int64"
      ]
     },
     "execution_count": 41,
     "metadata": {},
     "output_type": "execute_result"
    }
   ],
   "source": [
    "df['cmp'].value_counts().head()"
   ]
  },
  {
   "cell_type": "code",
   "execution_count": 42,
   "id": "9446ceb2",
   "metadata": {},
   "outputs": [
    {
     "data": {
      "text/plain": [
       "False"
      ]
     },
     "execution_count": 42,
     "metadata": {},
     "output_type": "execute_result"
    }
   ],
   "source": [
    "df['cmp'].isnull().values.any()"
   ]
  },
  {
   "cell_type": "markdown",
   "id": "a3376b52",
   "metadata": {},
   "source": [
    "The mean and median are very close. The most frequent number of completions is 0. The standard deviation is pretty spread out. We have a unique range of values from 0-58. "
   ]
  },
  {
   "cell_type": "markdown",
   "id": "f90c6de8",
   "metadata": {},
   "source": [
    "### 2.7.3 ATT Column<a id='2.7.3_ATT_Column'></a>"
   ]
  },
  {
   "cell_type": "code",
   "execution_count": 43,
   "id": "e465c1da",
   "metadata": {},
   "outputs": [
    {
     "data": {
      "text/plain": [
       "dtype('int64')"
      ]
     },
     "execution_count": 43,
     "metadata": {},
     "output_type": "execute_result"
    }
   ],
   "source": [
    "df['att'].dtypes"
   ]
  },
  {
   "cell_type": "code",
   "execution_count": 44,
   "id": "831d62c0",
   "metadata": {},
   "outputs": [
    {
     "data": {
      "text/plain": [
       "69"
      ]
     },
     "execution_count": 44,
     "metadata": {},
     "output_type": "execute_result"
    }
   ],
   "source": [
    "df['att'].max()"
   ]
  },
  {
   "cell_type": "code",
   "execution_count": 45,
   "id": "148e8464",
   "metadata": {},
   "outputs": [
    {
     "data": {
      "text/plain": [
       "0"
      ]
     },
     "execution_count": 45,
     "metadata": {},
     "output_type": "execute_result"
    }
   ],
   "source": [
    "df['att'].min()"
   ]
  },
  {
   "cell_type": "code",
   "execution_count": 46,
   "id": "7ee50012",
   "metadata": {},
   "outputs": [
    {
     "data": {
      "text/plain": [
       "26.87607129313614"
      ]
     },
     "execution_count": 46,
     "metadata": {},
     "output_type": "execute_result"
    }
   ],
   "source": [
    "df['att'].mean() "
   ]
  },
  {
   "cell_type": "code",
   "execution_count": 47,
   "id": "c5165a64",
   "metadata": {},
   "outputs": [
    {
     "data": {
      "text/plain": [
       "29.0"
      ]
     },
     "execution_count": 47,
     "metadata": {},
     "output_type": "execute_result"
    }
   ],
   "source": [
    "df['att'].median() "
   ]
  },
  {
   "cell_type": "code",
   "execution_count": 48,
   "id": "db98e2fa",
   "metadata": {},
   "outputs": [
    {
     "data": {
      "text/plain": [
       "0    1\n",
       "dtype: int64"
      ]
     },
     "execution_count": 48,
     "metadata": {},
     "output_type": "execute_result"
    }
   ],
   "source": [
    "df['att'].mode() "
   ]
  },
  {
   "cell_type": "code",
   "execution_count": 49,
   "id": "5b15a44b",
   "metadata": {},
   "outputs": [
    {
     "data": {
      "text/plain": [
       "1     1003\n",
       "30     495\n",
       "33     479\n",
       "35     474\n",
       "34     472\n",
       "Name: att, dtype: int64"
      ]
     },
     "execution_count": 49,
     "metadata": {},
     "output_type": "execute_result"
    }
   ],
   "source": [
    "df['att'].value_counts().head()"
   ]
  },
  {
   "cell_type": "code",
   "execution_count": 50,
   "id": "35c52da5",
   "metadata": {},
   "outputs": [
    {
     "data": {
      "text/plain": [
       "13.580485034162818"
      ]
     },
     "execution_count": 50,
     "metadata": {},
     "output_type": "execute_result"
    }
   ],
   "source": [
    "df['att'].std() "
   ]
  },
  {
   "cell_type": "code",
   "execution_count": 51,
   "id": "8f15b063",
   "metadata": {},
   "outputs": [
    {
     "data": {
      "text/plain": [
       "array([38, 25,  8, 35, 31, 40, 41,  1, 23, 14, 37, 29, 26, 33, 34, 17,  4,\n",
       "        2, 27, 30, 22, 13, 12, 24, 21, 32, 20, 46, 19,  3, 28, 11,  6,  0,\n",
       "       18, 44, 39, 36,  5,  7, 42, 54, 58, 16, 45, 10, 43, 48, 50, 15, 61,\n",
       "       52, 51,  9, 49, 59, 47, 60, 53, 56, 57, 63, 55, 69, 62, 68, 64, 67,\n",
       "       65], dtype=int64)"
      ]
     },
     "execution_count": 51,
     "metadata": {},
     "output_type": "execute_result"
    }
   ],
   "source": [
    "df['att'].unique()"
   ]
  },
  {
   "cell_type": "code",
   "execution_count": 52,
   "id": "0a08241d",
   "metadata": {},
   "outputs": [
    {
     "data": {
      "text/plain": [
       "False"
      ]
     },
     "execution_count": 52,
     "metadata": {},
     "output_type": "execute_result"
    }
   ],
   "source": [
    "df['att'].isnull().values.any()"
   ]
  },
  {
   "cell_type": "markdown",
   "id": "5e5ed72a",
   "metadata": {},
   "source": [
    "The mean and median are relatively close. One attempt is the most out of the value counts. The standard deviation is pretty spread out as well. We have a unique range of values from 0-69. "
   ]
  },
  {
   "cell_type": "markdown",
   "id": "28c6dc60",
   "metadata": {},
   "source": [
    "### 2.7.4 Comp % Column<a id='2.7.4_Comp_%_Column'></a>"
   ]
  },
  {
   "cell_type": "code",
   "execution_count": 53,
   "id": "b48c4927",
   "metadata": {},
   "outputs": [
    {
     "data": {
      "text/plain": [
       "count    13088.000000\n",
       "mean        58.541626\n",
       "std         20.815547\n",
       "min          0.000000\n",
       "25%         51.400000\n",
       "50%         60.000000\n",
       "75%         67.600000\n",
       "max        500.000000\n",
       "Name: comp %, dtype: float64"
      ]
     },
     "execution_count": 53,
     "metadata": {},
     "output_type": "execute_result"
    }
   ],
   "source": [
    "df['comp %'].describe()"
   ]
  },
  {
   "cell_type": "code",
   "execution_count": 54,
   "id": "7afbbec4",
   "metadata": {},
   "outputs": [],
   "source": [
    "#replace all comp % NaN values with 0\n",
    "df['comp %'] = df['comp %'].fillna(0)"
   ]
  },
  {
   "cell_type": "code",
   "execution_count": 55,
   "id": "d9e65361",
   "metadata": {},
   "outputs": [
    {
     "data": {
      "text/plain": [
       "60.0"
      ]
     },
     "execution_count": 55,
     "metadata": {},
     "output_type": "execute_result"
    }
   ],
   "source": [
    "df['comp %'].median() "
   ]
  },
  {
   "cell_type": "code",
   "execution_count": 56,
   "id": "94ade87f",
   "metadata": {},
   "outputs": [
    {
     "data": {
      "text/plain": [
       "0.0      719\n",
       "50.0     636\n",
       "100.0    560\n",
       "66.7     543\n",
       "60.0     372\n",
       "57.1     217\n",
       "75.0     194\n",
       "62.5     169\n",
       "55.6     167\n",
       "63.6     142\n",
       "71.4     140\n",
       "58.3     128\n",
       "61.5     118\n",
       "33.3     113\n",
       "54.5     109\n",
       "40.0     100\n",
       "70.0      98\n",
       "58.8      97\n",
       "61.1      91\n",
       "64.3      83\n",
       "Name: comp %, dtype: int64"
      ]
     },
     "execution_count": 56,
     "metadata": {},
     "output_type": "execute_result"
    }
   ],
   "source": [
    "df['comp %'].value_counts().head(20)"
   ]
  },
  {
   "cell_type": "code",
   "execution_count": 57,
   "id": "986ea28d",
   "metadata": {},
   "outputs": [
    {
     "data": {
      "text/plain": [
       "False"
      ]
     },
     "execution_count": 57,
     "metadata": {},
     "output_type": "execute_result"
    }
   ],
   "source": [
    "df['comp %'].isnull().values.any()"
   ]
  },
  {
   "cell_type": "markdown",
   "id": "9504df88",
   "metadata": {},
   "source": [
    "Here we can see that we have a max value of 500% completions, (which is impossible in the game of football) we will clean this up later. The mean is 58%, so having a higher rate than this means they are doing a good job. A high std of 20.81."
   ]
  },
  {
   "cell_type": "markdown",
   "id": "37695567",
   "metadata": {},
   "source": [
    "### 2.7.5 YDS Column<a id='2.7.5_yds_Column'></a>"
   ]
  },
  {
   "cell_type": "code",
   "execution_count": 58,
   "id": "4f1b4b92",
   "metadata": {},
   "outputs": [
    {
     "data": {
      "text/plain": [
       "count    13185.000000\n",
       "mean       186.177722\n",
       "std        105.604116\n",
       "min        -11.000000\n",
       "25%        115.000000\n",
       "50%        197.000000\n",
       "75%        260.000000\n",
       "max        527.000000\n",
       "Name: yds, dtype: float64"
      ]
     },
     "execution_count": 58,
     "metadata": {},
     "output_type": "execute_result"
    }
   ],
   "source": [
    "df['yds'].describe()"
   ]
  },
  {
   "cell_type": "code",
   "execution_count": 59,
   "id": "6967a92d",
   "metadata": {},
   "outputs": [
    {
     "data": {
      "text/plain": [
       "197.0"
      ]
     },
     "execution_count": 59,
     "metadata": {},
     "output_type": "execute_result"
    }
   ],
   "source": [
    "df['yds'].median()"
   ]
  },
  {
   "cell_type": "code",
   "execution_count": 60,
   "id": "6cbe4d19",
   "metadata": {},
   "outputs": [
    {
     "data": {
      "text/plain": [
       "0.0      736\n",
       "196.0     73\n",
       "209.0     69\n",
       "236.0     69\n",
       "226.0     67\n",
       "231.0     66\n",
       "202.0     66\n",
       "220.0     65\n",
       "199.0     65\n",
       "210.0     63\n",
       "232.0     63\n",
       "237.0     62\n",
       "221.0     61\n",
       "198.0     60\n",
       "230.0     60\n",
       "185.0     60\n",
       "227.0     59\n",
       "224.0     59\n",
       "252.0     59\n",
       "235.0     59\n",
       "Name: yds, dtype: int64"
      ]
     },
     "execution_count": 60,
     "metadata": {},
     "output_type": "execute_result"
    }
   ],
   "source": [
    "df['yds'].value_counts().head(20)"
   ]
  },
  {
   "cell_type": "code",
   "execution_count": 61,
   "id": "b544273d",
   "metadata": {},
   "outputs": [
    {
     "data": {
      "text/plain": [
       "False"
      ]
     },
     "execution_count": 61,
     "metadata": {},
     "output_type": "execute_result"
    }
   ],
   "source": [
    "df['yds'].isnull().values.any()"
   ]
  },
  {
   "cell_type": "markdown",
   "id": "06f0e128",
   "metadata": {},
   "source": [
    "A mean of 186 yards per game. A typical very good game is 300 yards per game. The yds column is a float64 which is good."
   ]
  },
  {
   "cell_type": "markdown",
   "id": "54a61454",
   "metadata": {},
   "source": [
    "### 2.7.6 TD Column<a id='2.7.6_td_Column'></a>"
   ]
  },
  {
   "cell_type": "code",
   "execution_count": 62,
   "id": "b0138701",
   "metadata": {},
   "outputs": [
    {
     "data": {
      "text/plain": [
       "count    13185.000000\n",
       "mean         1.118392\n",
       "std          1.119667\n",
       "min          0.000000\n",
       "25%          0.000000\n",
       "50%          1.000000\n",
       "75%          2.000000\n",
       "max          7.000000\n",
       "Name: td, dtype: float64"
      ]
     },
     "execution_count": 62,
     "metadata": {},
     "output_type": "execute_result"
    }
   ],
   "source": [
    "df['td'].describe()"
   ]
  },
  {
   "cell_type": "code",
   "execution_count": 63,
   "id": "6e5c93ef",
   "metadata": {},
   "outputs": [
    {
     "data": {
      "text/plain": [
       "array([0, 2, 1, 4, 3, 5, 6, 7], dtype=int64)"
      ]
     },
     "execution_count": 63,
     "metadata": {},
     "output_type": "execute_result"
    }
   ],
   "source": [
    "df['td'].unique()"
   ]
  },
  {
   "cell_type": "code",
   "execution_count": 64,
   "id": "78b63561",
   "metadata": {},
   "outputs": [
    {
     "data": {
      "text/plain": [
       "1.0"
      ]
     },
     "execution_count": 64,
     "metadata": {},
     "output_type": "execute_result"
    }
   ],
   "source": [
    "df['td'].median()"
   ]
  },
  {
   "cell_type": "code",
   "execution_count": 65,
   "id": "1d22ecf5",
   "metadata": {},
   "outputs": [
    {
     "data": {
      "text/plain": [
       "0    4793\n",
       "1    4153\n",
       "2    2662\n",
       "3    1146\n",
       "4     344\n",
       "5      70\n",
       "6      14\n",
       "7       3\n",
       "Name: td, dtype: int64"
      ]
     },
     "execution_count": 65,
     "metadata": {},
     "output_type": "execute_result"
    }
   ],
   "source": [
    "df['td'].value_counts().head(20)"
   ]
  },
  {
   "cell_type": "code",
   "execution_count": 66,
   "id": "d043a41d",
   "metadata": {},
   "outputs": [
    {
     "data": {
      "text/plain": [
       "False"
      ]
     },
     "execution_count": 66,
     "metadata": {},
     "output_type": "execute_result"
    }
   ],
   "source": [
    "df['td'].isnull().values.any()"
   ]
  },
  {
   "cell_type": "markdown",
   "id": "d223fa21",
   "metadata": {},
   "source": [
    "For the TD column we  have a mean of 1.11, 0-7 TDs were thrown in a game. Most games there was 0-3 TDs thrown in a game."
   ]
  },
  {
   "cell_type": "markdown",
   "id": "80d36092",
   "metadata": {},
   "source": [
    "### 2.7.7 INT Column<a id='2.7.7_int_Column'></a>"
   ]
  },
  {
   "cell_type": "code",
   "execution_count": 67,
   "id": "e721bcb1",
   "metadata": {},
   "outputs": [
    {
     "data": {
      "text/plain": [
       "count    13185.000000\n",
       "mean         0.801062\n",
       "std          0.970170\n",
       "min          0.000000\n",
       "25%          0.000000\n",
       "50%          1.000000\n",
       "75%          1.000000\n",
       "max          7.000000\n",
       "Name: int, dtype: float64"
      ]
     },
     "execution_count": 67,
     "metadata": {},
     "output_type": "execute_result"
    }
   ],
   "source": [
    "df['int'].describe()"
   ]
  },
  {
   "cell_type": "code",
   "execution_count": 68,
   "id": "971cfac7",
   "metadata": {},
   "outputs": [
    {
     "data": {
      "text/plain": [
       "array([0, 1, 2, 4, 3, 5, 6, 7])"
      ]
     },
     "execution_count": 68,
     "metadata": {},
     "output_type": "execute_result"
    }
   ],
   "source": [
    "df['int'].unique()"
   ]
  },
  {
   "cell_type": "code",
   "execution_count": 69,
   "id": "dcf57a00",
   "metadata": {},
   "outputs": [
    {
     "data": {
      "text/plain": [
       "1.0"
      ]
     },
     "execution_count": 69,
     "metadata": {},
     "output_type": "execute_result"
    }
   ],
   "source": [
    "df['int'].median()"
   ]
  },
  {
   "cell_type": "code",
   "execution_count": 70,
   "id": "201b2b1e",
   "metadata": {},
   "outputs": [
    {
     "data": {
      "text/plain": [
       "0    6398\n",
       "1    4089\n",
       "2    1870\n",
       "3     624\n",
       "4     166\n",
       "5      32\n",
       "6       5\n",
       "7       1\n",
       "Name: int, dtype: int64"
      ]
     },
     "execution_count": 70,
     "metadata": {},
     "output_type": "execute_result"
    }
   ],
   "source": [
    "df['int'].value_counts().head(20)"
   ]
  },
  {
   "cell_type": "code",
   "execution_count": 71,
   "id": "5e75366a",
   "metadata": {},
   "outputs": [
    {
     "data": {
      "text/plain": [
       "False"
      ]
     },
     "execution_count": 71,
     "metadata": {},
     "output_type": "execute_result"
    }
   ],
   "source": [
    "df['int'].isnull().values.any()"
   ]
  },
  {
   "cell_type": "markdown",
   "id": "236eb8ba",
   "metadata": {},
   "source": [
    "Typically there was .8 interceptions thrown in a game and median of 1. most were between 0-3 interceptions thrown in game. one QB threw 7, yikes!"
   ]
  },
  {
   "cell_type": "markdown",
   "id": "af1ff001",
   "metadata": {},
   "source": [
    "### 2.7.8 Rate Column<a id='2.7.8_Rate_Column'></a>"
   ]
  },
  {
   "cell_type": "code",
   "execution_count": 72,
   "id": "0fca55cf",
   "metadata": {},
   "outputs": [
    {
     "data": {
      "text/plain": [
       "count    13171.000000\n",
       "mean        80.242571\n",
       "std         32.068021\n",
       "min          0.000000\n",
       "25%         58.600000\n",
       "50%         80.900000\n",
       "75%        102.000000\n",
       "max        158.300000\n",
       "Name: rate, dtype: float64"
      ]
     },
     "execution_count": 72,
     "metadata": {},
     "output_type": "execute_result"
    }
   ],
   "source": [
    "df['rate'].describe()"
   ]
  },
  {
   "cell_type": "code",
   "execution_count": 73,
   "id": "39aa2fdd",
   "metadata": {},
   "outputs": [
    {
     "data": {
      "text/plain": [
       "array([ 82.9,  98.1,  81.8, ..., 149.8, 150.8, 126.2])"
      ]
     },
     "execution_count": 73,
     "metadata": {},
     "output_type": "execute_result"
    }
   ],
   "source": [
    "df['rate'].unique()"
   ]
  },
  {
   "cell_type": "code",
   "execution_count": 74,
   "id": "9a20037c",
   "metadata": {},
   "outputs": [
    {
     "data": {
      "text/plain": [
       "80.9"
      ]
     },
     "execution_count": 74,
     "metadata": {},
     "output_type": "execute_result"
    }
   ],
   "source": [
    "df['rate'].median()"
   ]
  },
  {
   "cell_type": "code",
   "execution_count": 75,
   "id": "ca35842a",
   "metadata": {},
   "outputs": [
    {
     "data": {
      "text/plain": [
       "39.6     579\n",
       "0.0      221\n",
       "118.8    198\n",
       "158.3    130\n",
       "56.2      83\n",
       "79.2      79\n",
       "95.8      51\n",
       "91.7      47\n",
       "87.5      41\n",
       "42.4      40\n",
       "104.2     37\n",
       "68.8      35\n",
       "97.9      34\n",
       "108.3     34\n",
       "83.3      33\n",
       "77.1      32\n",
       "100.0     32\n",
       "85.4      31\n",
       "72.9      30\n",
       "89.6      30\n",
       "Name: rate, dtype: int64"
      ]
     },
     "execution_count": 75,
     "metadata": {},
     "output_type": "execute_result"
    }
   ],
   "source": [
    "df['rate'].value_counts().head(20)"
   ]
  },
  {
   "cell_type": "code",
   "execution_count": 76,
   "id": "b91d3fc3",
   "metadata": {},
   "outputs": [
    {
     "data": {
      "text/plain": [
       "True"
      ]
     },
     "execution_count": 76,
     "metadata": {},
     "output_type": "execute_result"
    }
   ],
   "source": [
    "df['rate'].isnull().values.any()"
   ]
  },
  {
   "cell_type": "markdown",
   "id": "e764e400",
   "metadata": {},
   "source": [
    "Here we have an average of 80.15 and standard deviation of 32.15. The different value counts more spread out than the other columns so far, but most had a value of 39.6, 0.0, 118.8 and 158.3."
   ]
  },
  {
   "cell_type": "markdown",
   "id": "2985e403",
   "metadata": {},
   "source": [
    "### 2.7.9 Long Column<a id='2.7.9_long_Column'></a>"
   ]
  },
  {
   "cell_type": "code",
   "execution_count": 77,
   "id": "58602730",
   "metadata": {},
   "outputs": [
    {
     "data": {
      "text/plain": [
       "count     13171\n",
       "unique      107\n",
       "top           0\n",
       "freq        738\n",
       "Name: long, dtype: object"
      ]
     },
     "execution_count": 77,
     "metadata": {},
     "output_type": "execute_result"
    }
   ],
   "source": [
    "df['long'].describe()"
   ]
  },
  {
   "cell_type": "code",
   "execution_count": 78,
   "id": "4a4fe94c",
   "metadata": {},
   "outputs": [
    {
     "data": {
      "text/plain": [
       "array(['20', '35', '30', '55', '46', '32', '29', '-8', '31', '28', '25',\n",
       "       '34', '33', '48', '54', '21', '17', '10', '0', '38', '51', '24',\n",
       "       '16', '52', '15', '50', '39', '60', '27', '7', '37', '47', '63',\n",
       "       '53', '71', '45', '8', '23', '12', '22', '18', '43', '13', '62',\n",
       "       '5', '78', '74', '11', '40', '3', '42', '80', '14', '44', '19',\n",
       "       '58', '61', '41', '67', '49', '64', '59', '4', '69', '26', '36',\n",
       "       '70', '9', '56', '65', '84', '6', '73', '82', '57', '95', '83',\n",
       "       '66', '77', '86', '76', '72', '89', '79', '68', '2', '75', '1',\n",
       "       '92', '98', '81', '-1', '87', '90', '88', '85', '-4', '94', '91',\n",
       "       '-2', '-11', '-3', '99', '-7', '96', '93', nan, '-6'], dtype=object)"
      ]
     },
     "execution_count": 78,
     "metadata": {},
     "output_type": "execute_result"
    }
   ],
   "source": [
    "df['long'].unique()"
   ]
  },
  {
   "cell_type": "code",
   "execution_count": 79,
   "id": "cbfee208",
   "metadata": {},
   "outputs": [
    {
     "data": {
      "text/plain": [
       "31.0"
      ]
     },
     "execution_count": 79,
     "metadata": {},
     "output_type": "execute_result"
    }
   ],
   "source": [
    "df['long'].median()"
   ]
  },
  {
   "cell_type": "code",
   "execution_count": 80,
   "id": "6b84e338",
   "metadata": {},
   "outputs": [
    {
     "data": {
      "text/plain": [
       "0     738\n",
       "24    387\n",
       "27    368\n",
       "30    366\n",
       "25    358\n",
       "26    348\n",
       "23    336\n",
       "28    333\n",
       "22    332\n",
       "29    331\n",
       "31    315\n",
       "35    308\n",
       "20    300\n",
       "21    296\n",
       "36    287\n",
       "33    282\n",
       "34    273\n",
       "37    265\n",
       "32    262\n",
       "40    243\n",
       "Name: long, dtype: int64"
      ]
     },
     "execution_count": 80,
     "metadata": {},
     "output_type": "execute_result"
    }
   ],
   "source": [
    "df['long'].value_counts().head(20)"
   ]
  },
  {
   "cell_type": "code",
   "execution_count": 81,
   "id": "59421fe3",
   "metadata": {},
   "outputs": [
    {
     "data": {
      "text/plain": [
       "True"
      ]
     },
     "execution_count": 81,
     "metadata": {},
     "output_type": "execute_result"
    }
   ],
   "source": [
    "df['long'].isnull().values.any()"
   ]
  },
  {
   "cell_type": "markdown",
   "id": "7ff73ea3",
   "metadata": {},
   "source": [
    "The average long pass per game was 33.31 and a median of 31. The value counts are pretty evenly spread out besides the 0 value of 752."
   ]
  },
  {
   "cell_type": "markdown",
   "id": "86efac5e",
   "metadata": {},
   "source": [
    "### 2.7.10 Sack Column<a id='2.7.10_Sack_Column'></a>"
   ]
  },
  {
   "cell_type": "code",
   "execution_count": 82,
   "id": "fd24d1cd",
   "metadata": {},
   "outputs": [
    {
     "data": {
      "text/plain": [
       "count    13171.000000\n",
       "mean         1.863108\n",
       "std          1.701091\n",
       "min          0.000000\n",
       "25%          0.000000\n",
       "50%          2.000000\n",
       "75%          3.000000\n",
       "max         12.000000\n",
       "Name: sack, dtype: float64"
      ]
     },
     "execution_count": 82,
     "metadata": {},
     "output_type": "execute_result"
    }
   ],
   "source": [
    "df['sack'].describe()"
   ]
  },
  {
   "cell_type": "code",
   "execution_count": 83,
   "id": "db2189d7",
   "metadata": {},
   "outputs": [
    {
     "data": {
      "text/plain": [
       "array([ 2.,  0.,  1.,  7.,  4.,  3.,  8.,  5.,  6., 10.,  9., 12., nan,\n",
       "       11.])"
      ]
     },
     "execution_count": 83,
     "metadata": {},
     "output_type": "execute_result"
    }
   ],
   "source": [
    "df['sack'].unique()"
   ]
  },
  {
   "cell_type": "code",
   "execution_count": 84,
   "id": "315cc4b7",
   "metadata": {},
   "outputs": [],
   "source": [
    "#replace all sack NaN values with 0\n",
    "df['sack'] = df['sack'].fillna(0)"
   ]
  },
  {
   "cell_type": "code",
   "execution_count": 85,
   "id": "dc760b88",
   "metadata": {},
   "outputs": [
    {
     "data": {
      "text/plain": [
       "2.0"
      ]
     },
     "execution_count": 85,
     "metadata": {},
     "output_type": "execute_result"
    }
   ],
   "source": [
    "df['sack'].median()"
   ]
  },
  {
   "cell_type": "code",
   "execution_count": 86,
   "id": "532bab30",
   "metadata": {},
   "outputs": [
    {
     "data": {
      "text/plain": [
       "0.0     3317\n",
       "1.0     3156\n",
       "2.0     2714\n",
       "3.0     1846\n",
       "4.0     1111\n",
       "5.0      582\n",
       "6.0      263\n",
       "7.0      122\n",
       "8.0       47\n",
       "9.0       18\n",
       "10.0       7\n",
       "12.0       1\n",
       "11.0       1\n",
       "Name: sack, dtype: int64"
      ]
     },
     "execution_count": 86,
     "metadata": {},
     "output_type": "execute_result"
    }
   ],
   "source": [
    "df['sack'].value_counts().head(20)"
   ]
  },
  {
   "cell_type": "code",
   "execution_count": 87,
   "id": "d390af5d",
   "metadata": {},
   "outputs": [
    {
     "data": {
      "text/plain": [
       "False"
      ]
     },
     "execution_count": 87,
     "metadata": {},
     "output_type": "execute_result"
    }
   ],
   "source": [
    "df['sack'].isnull().values.any()"
   ]
  },
  {
   "cell_type": "markdown",
   "id": "460d32af",
   "metadata": {},
   "source": [
    "Here we have a mean of 1.83 sacks per game. We had a few NaN values so we changed it to 0 since there were no sacks that game. Most of the sacks per game was 0-4. There was a median of 2 per game."
   ]
  },
  {
   "cell_type": "markdown",
   "id": "3f25e55b",
   "metadata": {},
   "source": [
    "### 2.7.11 Game Points Column<a id='2.7.11_Game_Points_Column'></a>"
   ]
  },
  {
   "cell_type": "code",
   "execution_count": 88,
   "id": "b5643524",
   "metadata": {},
   "outputs": [
    {
     "data": {
      "text/plain": [
       "count    13185.000000\n",
       "mean        21.379446\n",
       "std         10.663774\n",
       "min          0.000000\n",
       "25%         13.000000\n",
       "50%         21.000000\n",
       "75%         28.000000\n",
       "max         62.000000\n",
       "Name: game_points, dtype: float64"
      ]
     },
     "execution_count": 88,
     "metadata": {},
     "output_type": "execute_result"
    }
   ],
   "source": [
    "df['game_points'].describe()"
   ]
  },
  {
   "cell_type": "code",
   "execution_count": 89,
   "id": "7c244c7d",
   "metadata": {},
   "outputs": [
    {
     "data": {
      "text/plain": [
       "array([13, 20,  6, 29, 16, 26, 17, 19, 14,  9, 24, 34,  3, 10, 11, 27, 31,\n",
       "        7, 23, 22, 21, 30,  0, 38, 39, 15, 36, 42, 25, 35, 28, 40, 33, 18,\n",
       "       12, 37, 46, 45, 32,  8, 59, 41, 55, 44, 51, 48, 50, 43,  5, 49, 47,\n",
       "       57, 54, 52, 56, 58, 62,  2, 53], dtype=int64)"
      ]
     },
     "execution_count": 89,
     "metadata": {},
     "output_type": "execute_result"
    }
   ],
   "source": [
    "df['game_points'].unique()"
   ]
  },
  {
   "cell_type": "code",
   "execution_count": 90,
   "id": "30ae96a6",
   "metadata": {},
   "outputs": [
    {
     "data": {
      "text/plain": [
       "21.0"
      ]
     },
     "execution_count": 90,
     "metadata": {},
     "output_type": "execute_result"
    }
   ],
   "source": [
    "df['game_points'].median()"
   ]
  },
  {
   "cell_type": "code",
   "execution_count": 91,
   "id": "ac7bd9fb",
   "metadata": {},
   "outputs": [
    {
     "data": {
      "text/plain": [
       "17    873\n",
       "20    869\n",
       "24    821\n",
       "10    767\n",
       "13    720\n",
       "27    661\n",
       "31    596\n",
       "14    549\n",
       "23    544\n",
       "7     519\n",
       "21    494\n",
       "16    426\n",
       "34    415\n",
       "28    379\n",
       "3     360\n",
       "30    329\n",
       "6     319\n",
       "38    303\n",
       "19    291\n",
       "26    268\n",
       "Name: game_points, dtype: int64"
      ]
     },
     "execution_count": 91,
     "metadata": {},
     "output_type": "execute_result"
    }
   ],
   "source": [
    "df['game_points'].value_counts().head(20)"
   ]
  },
  {
   "cell_type": "code",
   "execution_count": 92,
   "id": "cfca414b",
   "metadata": {},
   "outputs": [
    {
     "data": {
      "text/plain": [
       "False"
      ]
     },
     "execution_count": 92,
     "metadata": {},
     "output_type": "execute_result"
    }
   ],
   "source": [
    "df['game_points'].isnull().values.any()"
   ]
  },
  {
   "cell_type": "markdown",
   "id": "e2364cca",
   "metadata": {},
   "source": [
    "Very interesting category for every NFL game from 1996-2016 the median and mean game points scored for each team was close at 21.0 and 21.37. There was a wide range of scores with 17 being the most.There was 59 different score values in the 20 years. The most points scored was 62."
   ]
  },
  {
   "cell_type": "markdown",
   "id": "cd671da7",
   "metadata": {},
   "source": [
    "### 2.7.12 YPA Column<a id='2.7.12_YPA_Column'></a>"
   ]
  },
  {
   "cell_type": "code",
   "execution_count": 93,
   "id": "4c091aac",
   "metadata": {},
   "outputs": [
    {
     "data": {
      "text/plain": [
       "count    13185.000000\n",
       "mean         6.884475\n",
       "std          4.225494\n",
       "min        -11.000000\n",
       "25%          5.200000\n",
       "50%          6.700000\n",
       "75%          8.100000\n",
       "max         81.000000\n",
       "Name: ypa, dtype: float64"
      ]
     },
     "execution_count": 93,
     "metadata": {},
     "output_type": "execute_result"
    }
   ],
   "source": [
    "df['ypa'].describe()"
   ]
  },
  {
   "cell_type": "code",
   "execution_count": 94,
   "id": "bacaa158",
   "metadata": {},
   "outputs": [
    {
     "data": {
      "text/plain": [
       "array([  6.2,   7.8,   6.6,   6.1,   6.4,   5.7,   4.4,   6.3,  -8. ,\n",
       "         6.8,   4.1,   5.2,   7.4,   7.7,   7.9,   4.8,   4.9,   6. ,\n",
       "         0. ,   9.1,  24. ,   5.8,   8. ,   4.3,   6.9,   3.8,   5.5,\n",
       "         5.1,   7. ,   7.6,  33. ,  47. ,   8.1,  10.3,  12.1,  10.6,\n",
       "         6.5,   4.6,   4.5,   7.1,   3. ,   6.7,   7.5,   7.2,   2.9,\n",
       "         8.4,   2.2,  11. ,   3.2,   1.8,   5. ,   5.4,  18. ,   9.5,\n",
       "        11.2,   4.2,   3.5,   8.7,   5.9,   8.6,   5.3,   3.7,   7.3,\n",
       "         8.5,   3.9,   9.4,   5.6,   9.9,  11.1,   9. ,   8.9,  10.2,\n",
       "         9.3,  10.9,  11.7,   9.2,  16. ,   1.7,   8.8,  10.8,   4.7,\n",
       "         4. ,   2.4,   8.2,   8.3,   9.7,  12. ,   3.4,  12.5,  13.2,\n",
       "         9.6,  30. ,  -1.3,  13.8,   2. ,  12.6,  11.3,   3.3,  15.5,\n",
       "        10.5,   3.6,   2.8,  10. ,  11.8,   2.7,   2.6,   2.3,  19. ,\n",
       "        15. ,   3.1,   2.5,  14.7,   9.8,  12.2,  -1.5,  10.7,  13. ,\n",
       "        26. ,  21. ,  14. ,  22. ,  25. ,   1.1,   1.6,  10.4,  27. ,\n",
       "         1.9,   1. ,   1.3,  14.5,  11.5,   2.1,   0.2,  35. ,  29. ,\n",
       "        40. ,  20. ,  38. ,   0.3,   0.4,  14.8,  12.7,   0.7,  13.6,\n",
       "        12.9,  12.8,  17. ,  11.6,  -1. ,  10.1,   1.5,   0.5,  28. ,\n",
       "        23. ,  12.3,  39.3,  32. ,  16.5,  13.7,  11.4,  17.8,  13.1,\n",
       "        16.1,   1.2,  61. ,  14.4,  17.7,  18.3,  18.8,  44. ,  34. ,\n",
       "        13.4,  31. ,  36. ,  13.5,  -4. ,  26.5,  14.6,  24.3,  17.4,\n",
       "        24.5,   1.4,  14.2,   0.8,  60. ,  -2. ,  51. ,  20.7,  57. ,\n",
       "       -11. ,  13.3,  14.9,  42. ,  13.9,  39. ,  12.4,  45. ,  14.1,\n",
       "        72. ,  15.6,  37. ,  -7. ,  41. ,  81. ,  11.9,  48. ,  15.1,\n",
       "        19.8,  -0.3,  77. ,   0.9,  17.5,  15.2,  21.5,  22.6,  -0.7,\n",
       "        32.5,  43. ,  54. ,  22.7,  17.3,  -0.6,  16.3,  -0.5,  -6. ,\n",
       "        55. ,  49. ,  16.8,  15.3,  73. ,  19.5,  15.4,  14.3,  50. ,\n",
       "         0.6,  -3. ])"
      ]
     },
     "execution_count": 94,
     "metadata": {},
     "output_type": "execute_result"
    }
   ],
   "source": [
    "df['ypa'].unique()"
   ]
  },
  {
   "cell_type": "code",
   "execution_count": 95,
   "id": "3cb1663f",
   "metadata": {},
   "outputs": [
    {
     "data": {
      "text/plain": [
       "6.7"
      ]
     },
     "execution_count": 95,
     "metadata": {},
     "output_type": "execute_result"
    }
   ],
   "source": [
    "df['ypa'].median()"
   ]
  },
  {
   "cell_type": "code",
   "execution_count": 96,
   "id": "4d5930f4",
   "metadata": {},
   "outputs": [
    {
     "data": {
      "text/plain": [
       "0.0    736\n",
       "7.0    303\n",
       "6.2    282\n",
       "6.7    267\n",
       "6.8    259\n",
       "5.9    256\n",
       "6.4    253\n",
       "6.0    253\n",
       "6.6    250\n",
       "6.9    243\n",
       "7.4    239\n",
       "7.2    239\n",
       "6.1    239\n",
       "5.8    238\n",
       "7.1    234\n",
       "6.3    232\n",
       "6.5    228\n",
       "7.5    228\n",
       "5.7    224\n",
       "5.0    219\n",
       "Name: ypa, dtype: int64"
      ]
     },
     "execution_count": 96,
     "metadata": {},
     "output_type": "execute_result"
    }
   ],
   "source": [
    "df['ypa'].value_counts().head(20)"
   ]
  },
  {
   "cell_type": "code",
   "execution_count": 97,
   "id": "72c002c8",
   "metadata": {},
   "outputs": [
    {
     "data": {
      "text/plain": [
       "False"
      ]
     },
     "execution_count": 97,
     "metadata": {},
     "output_type": "execute_result"
    }
   ],
   "source": [
    "df['ypa'].isnull().values.any()"
   ]
  },
  {
   "cell_type": "markdown",
   "id": "ea3df70b",
   "metadata": {},
   "source": [
    "The median and mean were almost identical again at 6.8 and 6.7. The value counts were spread out almost evenly. The standard deviation was 4.22"
   ]
  },
  {
   "cell_type": "markdown",
   "id": "370376dc",
   "metadata": {},
   "source": [
    "### 2.7.13 TD per CMP Column<a id='2.7.13_TD_per_CMP_Column'></a>"
   ]
  },
  {
   "cell_type": "code",
   "execution_count": 98,
   "id": "52c9be74",
   "metadata": {},
   "outputs": [
    {
     "data": {
      "text/plain": [
       "count    12466.000000\n",
       "mean         0.074899\n",
       "std          0.116793\n",
       "min          0.000000\n",
       "25%          0.000000\n",
       "50%          0.056000\n",
       "75%          0.100000\n",
       "max          1.000000\n",
       "Name: td_per_cmp, dtype: float64"
      ]
     },
     "execution_count": 98,
     "metadata": {},
     "output_type": "execute_result"
    }
   ],
   "source": [
    "df['td_per_cmp'].describe()"
   ]
  },
  {
   "cell_type": "code",
   "execution_count": 99,
   "id": "74686b78",
   "metadata": {},
   "outputs": [
    {
     "data": {
      "text/plain": [
       "array([0.   , 0.125, 0.118, 0.043, 0.05 , 0.062, 0.095, 0.1  ,   nan,\n",
       "       0.2  , 0.053, 0.25 , 0.042, 0.091, 1.   , 0.077, 0.111, 0.214,\n",
       "       0.074, 0.067, 0.038, 0.133, 0.083, 0.048, 0.071, 0.333, 0.037,\n",
       "       0.158, 0.143, 0.176, 0.08 , 0.04 , 0.045, 0.056, 0.12 , 0.231,\n",
       "       0.136, 0.105, 0.059, 0.167, 0.087, 0.13 , 0.222, 0.115, 0.5  ,\n",
       "       0.182, 0.3  , 0.108, 0.15 , 0.16 , 0.103, 0.036, 0.065, 0.273,\n",
       "       0.097, 0.148, 0.188, 0.031, 0.086, 0.286, 0.19 , 0.154, 0.211,\n",
       "       0.278, 0.061, 0.069, 0.267, 0.034, 0.033, 0.032, 0.235, 0.107,\n",
       "       0.029, 0.179, 0.308, 0.185, 0.174, 0.667, 0.088, 0.129, 0.375,\n",
       "       0.217, 0.227, 0.057, 0.139, 0.051, 0.192, 0.03 , 0.094, 0.028,\n",
       "       0.023, 0.208, 0.138, 0.054, 0.294, 0.027, 0.261, 0.156, 0.238,\n",
       "       0.026, 0.4  , 0.161, 0.429, 0.385, 0.364, 0.207, 0.022, 0.073,\n",
       "       0.075, 0.079, 0.121, 0.025, 0.194, 0.116, 0.081, 0.259, 0.263,\n",
       "       0.318, 0.24 , 0.114, 0.047])"
      ]
     },
     "execution_count": 99,
     "metadata": {},
     "output_type": "execute_result"
    }
   ],
   "source": [
    "df['td_per_cmp'].unique()"
   ]
  },
  {
   "cell_type": "code",
   "execution_count": 100,
   "id": "f8fcd536",
   "metadata": {},
   "outputs": [
    {
     "data": {
      "text/plain": [
       "0.056"
      ]
     },
     "execution_count": 100,
     "metadata": {},
     "output_type": "execute_result"
    }
   ],
   "source": [
    "df['td_per_cmp'].median()"
   ]
  },
  {
   "cell_type": "code",
   "execution_count": 101,
   "id": "eea9bbc4",
   "metadata": {},
   "outputs": [
    {
     "data": {
      "text/plain": [
       "0.000    4074\n",
       "0.100     308\n",
       "0.083     304\n",
       "0.111     304\n",
       "0.125     291\n",
       "0.077     286\n",
       "0.067     285\n",
       "0.059     283\n",
       "0.091     283\n",
       "0.143     283\n",
       "0.071     281\n",
       "0.062     278\n",
       "0.056     265\n",
       "0.053     246\n",
       "0.045     240\n",
       "0.050     234\n",
       "0.048     232\n",
       "0.043     207\n",
       "0.167     205\n",
       "0.095     181\n",
       "Name: td_per_cmp, dtype: int64"
      ]
     },
     "execution_count": 101,
     "metadata": {},
     "output_type": "execute_result"
    }
   ],
   "source": [
    "df['td_per_cmp'].value_counts().head(20)"
   ]
  },
  {
   "cell_type": "code",
   "execution_count": 102,
   "id": "80312924",
   "metadata": {},
   "outputs": [
    {
     "data": {
      "text/plain": [
       "True"
      ]
     },
     "execution_count": 102,
     "metadata": {},
     "output_type": "execute_result"
    }
   ],
   "source": [
    "df['td_per_cmp'].isnull().values.any()"
   ]
  },
  {
   "cell_type": "markdown",
   "id": "3e660879",
   "metadata": {},
   "source": [
    "There are a few different unique values in this column which should help us to differentiate how well a QB preformed. Most of the value counts were 0.0 but many are spread out evenly as well."
   ]
  },
  {
   "cell_type": "markdown",
   "id": "89ba0a2d",
   "metadata": {},
   "source": [
    "### 2.7.14 TD per ATT Column<a id='2.7.14_TD_per_ATT_Column'></a>"
   ]
  },
  {
   "cell_type": "code",
   "execution_count": 103,
   "id": "6f068e31",
   "metadata": {},
   "outputs": [
    {
     "data": {
      "text/plain": [
       "count    13088.000000\n",
       "mean         0.047821\n",
       "std          0.104252\n",
       "min          0.000000\n",
       "25%          0.000000\n",
       "50%          0.031000\n",
       "75%          0.061000\n",
       "max          1.000000\n",
       "Name: td_per_att, dtype: float64"
      ]
     },
     "execution_count": 103,
     "metadata": {},
     "output_type": "execute_result"
    }
   ],
   "source": [
    "df['td_per_att'].describe()"
   ]
  },
  {
   "cell_type": "code",
   "execution_count": 104,
   "id": "aa258971",
   "metadata": {},
   "outputs": [
    {
     "data": {
      "text/plain": [
       "array([0.   , 0.08 , 0.065, 0.025, 0.024, 0.043, 0.054, 0.034, 0.077,\n",
       "       0.059, 0.148, 0.026, 0.083, 0.061, 0.037, 1.   , 0.042, 0.062,\n",
       "       0.136, 0.053, 0.05 , 0.022, 0.049, 0.03 , 0.333, 0.071, 0.111,\n",
       "         nan, 0.087, 0.097, 0.086, 0.074, 0.033, 0.023, 0.068, 0.13 ,\n",
       "       0.032, 0.091, 0.029, 0.04 , 0.027, 0.118, 0.16 , 0.167, 0.038,\n",
       "       0.143, 0.1  , 0.028, 0.019, 0.176, 0.069, 0.045, 0.081, 0.103,\n",
       "       0.067, 0.107, 0.094, 0.036, 0.057, 0.098, 0.047, 0.06 , 0.105,\n",
       "       0.051, 0.016, 0.089, 0.088, 0.056, 0.073, 0.031, 0.114, 0.125,\n",
       "       0.041, 0.048, 0.075, 0.02 , 0.214, 0.07 , 0.154, 0.138, 0.2  ,\n",
       "       0.25 , 0.079, 0.188, 0.133, 0.095, 0.021, 0.161, 0.115, 0.044,\n",
       "       0.182, 0.064, 0.12 , 0.085, 0.039, 0.052, 0.19 , 0.082, 0.129,\n",
       "       0.018, 0.667, 0.102, 0.121, 0.217, 0.158, 0.15 , 0.093, 0.152,\n",
       "       0.058, 0.222, 0.122, 0.035, 0.211, 0.174, 0.156, 0.286, 0.017,\n",
       "       0.147, 0.055, 0.231, 0.24 , 0.5  , 0.108, 0.135, 0.185, 0.128,\n",
       "       0.116, 0.172, 0.132, 0.109, 0.273, 0.312, 0.235, 0.208, 0.192,\n",
       "       0.139, 0.4  , 0.162, 0.066, 0.267, 0.015, 0.238, 0.078, 0.179,\n",
       "       0.146, 0.14 ])"
      ]
     },
     "execution_count": 104,
     "metadata": {},
     "output_type": "execute_result"
    }
   ],
   "source": [
    "df['td_per_att'].unique()"
   ]
  },
  {
   "cell_type": "code",
   "execution_count": 105,
   "id": "7b3ca670",
   "metadata": {},
   "outputs": [
    {
     "data": {
      "text/plain": [
       "0.031"
      ]
     },
     "execution_count": 105,
     "metadata": {},
     "output_type": "execute_result"
    }
   ],
   "source": [
    "df['td_per_att'].median()"
   ]
  },
  {
   "cell_type": "code",
   "execution_count": 106,
   "id": "76aa5f83",
   "metadata": {},
   "outputs": [
    {
     "data": {
      "text/plain": [
       "0.000    4696\n",
       "0.029     308\n",
       "0.026     226\n",
       "0.043     198\n",
       "0.030     195\n",
       "0.067     195\n",
       "0.056     190\n",
       "0.036     188\n",
       "0.032     186\n",
       "0.040     181\n",
       "0.033     176\n",
       "0.038     174\n",
       "0.024     173\n",
       "0.031     172\n",
       "0.048     170\n",
       "0.037     167\n",
       "0.059     167\n",
       "0.077     164\n",
       "0.083     160\n",
       "0.034     159\n",
       "Name: td_per_att, dtype: int64"
      ]
     },
     "execution_count": 106,
     "metadata": {},
     "output_type": "execute_result"
    }
   ],
   "source": [
    "df['td_per_att'].value_counts().head(20)"
   ]
  },
  {
   "cell_type": "code",
   "execution_count": 107,
   "id": "b2cfb35f",
   "metadata": {},
   "outputs": [
    {
     "data": {
      "text/plain": [
       "True"
      ]
     },
     "execution_count": 107,
     "metadata": {},
     "output_type": "execute_result"
    }
   ],
   "source": [
    "df['td_per_att'].isnull().values.any()"
   ]
  },
  {
   "cell_type": "markdown",
   "id": "25246c93",
   "metadata": {},
   "source": [
    "Similar to the td per cmp column we have a wide range of unique data points. The value counts are spread out as well."
   ]
  },
  {
   "cell_type": "markdown",
   "id": "4c4612cc",
   "metadata": {},
   "source": [
    "### 2.7.15 Loss YDS Column<a id='2.7.15_Loss_YDS_Column'></a>"
   ]
  },
  {
   "cell_type": "code",
   "execution_count": 108,
   "id": "32a8903a",
   "metadata": {},
   "outputs": [
    {
     "data": {
      "text/plain": [
       "count    13171.000000\n",
       "mean        11.971225\n",
       "std         11.970053\n",
       "min          0.000000\n",
       "25%          0.000000\n",
       "50%          9.000000\n",
       "75%         18.000000\n",
       "max         91.000000\n",
       "Name: loss_yds, dtype: float64"
      ]
     },
     "execution_count": 108,
     "metadata": {},
     "output_type": "execute_result"
    }
   ],
   "source": [
    "df['loss_yds'].describe()"
   ]
  },
  {
   "cell_type": "code",
   "execution_count": 109,
   "id": "cadab765",
   "metadata": {},
   "outputs": [
    {
     "data": {
      "text/plain": [
       "array([11.,  0., 53., 12., 21., 15.,  8.,  7., 24., 23., 25., 14., 35.,\n",
       "       26., 18.,  4.,  6., 16., 56., 31., 19.,  5., 29., 32.,  9., 17.,\n",
       "       10., 13.,  2., 27.,  3., 22., 41.,  1., 20., 46., 47., 40., 37.,\n",
       "       71., 42., 38., 45., 30., 34., 39., 33., 54., 28., 43., 50., 52.,\n",
       "       55., 36., 49., 58., 66., 63., 60., 48., 57., 51., 67., 44., 59.,\n",
       "       69., 62., 65., 68., 73., nan, 64., 70., 91., 72.])"
      ]
     },
     "execution_count": 109,
     "metadata": {},
     "output_type": "execute_result"
    }
   ],
   "source": [
    "df['loss_yds'].unique()"
   ]
  },
  {
   "cell_type": "code",
   "execution_count": 110,
   "id": "36915884",
   "metadata": {},
   "outputs": [
    {
     "data": {
      "text/plain": [
       "9.0"
      ]
     },
     "execution_count": 110,
     "metadata": {},
     "output_type": "execute_result"
    }
   ],
   "source": [
    "df['loss_yds'].median()"
   ]
  },
  {
   "cell_type": "code",
   "execution_count": 111,
   "id": "c866849a",
   "metadata": {},
   "outputs": [
    {
     "data": {
      "text/plain": [
       "0.0     3501\n",
       "8.0      575\n",
       "7.0      550\n",
       "9.0      485\n",
       "6.0      437\n",
       "10.0     437\n",
       "5.0      376\n",
       "14.0     370\n",
       "15.0     351\n",
       "16.0     349\n",
       "11.0     345\n",
       "12.0     344\n",
       "17.0     325\n",
       "13.0     323\n",
       "18.0     291\n",
       "19.0     247\n",
       "3.0      238\n",
       "21.0     230\n",
       "20.0     228\n",
       "22.0     228\n",
       "Name: loss_yds, dtype: int64"
      ]
     },
     "execution_count": 111,
     "metadata": {},
     "output_type": "execute_result"
    }
   ],
   "source": [
    "df['loss_yds'].value_counts().head(20)"
   ]
  },
  {
   "cell_type": "code",
   "execution_count": 112,
   "id": "a5c1bbf6",
   "metadata": {},
   "outputs": [
    {
     "data": {
      "text/plain": [
       "True"
      ]
     },
     "execution_count": 112,
     "metadata": {},
     "output_type": "execute_result"
    }
   ],
   "source": [
    "df['loss_yds'].isnull().values.any()"
   ]
  },
  {
   "cell_type": "markdown",
   "id": "331e661a",
   "metadata": {},
   "source": [
    "We have 13,171 values. The data is missing a few. The mean and standard deviation are very similar at 11.971 and 11.970. Loss yards are from when a QB gets sacked and are considered negitice yardage."
   ]
  },
  {
   "cell_type": "markdown",
   "id": "f226ca56",
   "metadata": {},
   "source": [
    "### 2.7.16 YPC Column<a id='2.7.16_YPC_Column'></a>"
   ]
  },
  {
   "cell_type": "code",
   "execution_count": 113,
   "id": "b4d9ba23",
   "metadata": {},
   "outputs": [
    {
     "data": {
      "text/plain": [
       "count    12466.000000\n",
       "mean        11.788023\n",
       "std          4.441734\n",
       "min        -11.000000\n",
       "25%          9.600000\n",
       "50%         11.300000\n",
       "75%         13.300000\n",
       "max         81.000000\n",
       "Name: ypc, dtype: float64"
      ]
     },
     "execution_count": 113,
     "metadata": {},
     "output_type": "execute_result"
    }
   ],
   "source": [
    "df['ypc'].describe()"
   ]
  },
  {
   "cell_type": "code",
   "execution_count": 114,
   "id": "822e4d32",
   "metadata": {},
   "outputs": [
    {
     "data": {
      "text/plain": [
       "array([  9.5,  12.2,  10.6,  13.4,  11.6,   9.8,  11.8,  13. ,  -8. ,\n",
       "        11.4,   9.1,  13.5,  11.3,   9.9,   9.2,   8. ,   nan,  12.4,\n",
       "        24. ,  11. ,  10.9,  11.1,   7.1,  20.8,  10.5,   7. ,  15.4,\n",
       "        33. ,  47. ,  13.2,   9.4,  16.1,  11.2,  12.3,  18.3,  10. ,\n",
       "        12.6,   8.3,   4.5,  10.2,  12.5,   7.6,   5.5,  12. ,  11.5,\n",
       "         6.5,  10.7,  14.3,  12.7,  14.2,  11.7,   5. ,   8.7,  10.1,\n",
       "        18. ,  14.1,  19.8,   8.1,  12.8,  10.8,  12.1,  10.3,  13.1,\n",
       "        16.7,   7.2,   7.7,   3. ,  15. ,   6.8,  10.4,   7.9,  14. ,\n",
       "        18.8,   8.8,  13.6,   6.3,  14.6,  21. ,   8.5,  25.5,   8.6,\n",
       "         9.3,   9. ,  16.9,  11.9,  15.6,  18.6,  17.1,  13.8,  13.7,\n",
       "        16. ,   4. ,  16.6,  15.2,   8.9,   0. ,   9.7,  16.2,  17.7,\n",
       "         7.5,  17.8,  17.2,  13.3,   8.4,  14.8,  14.4,  15.3,   9.6,\n",
       "        15.5,  14.9,  14.7,  17.9,  13.9,  12.9,  14.5,  16.5,  15.9,\n",
       "        15.1,   6. ,  22.7,  30. ,  20.3,  -4. ,  27.5,  17.6,  18.5,\n",
       "        24.2,  19.4,  16.3,  15.8,  17. ,   5.9,  23.7,   8.2,   7.3,\n",
       "         5.2,  27.6,   4.2,  15.7,   6.6,   7.8,  17.4,  -3. ,  23.8,\n",
       "        26. ,   5.7,  22. ,  25. ,   5.6,  21.1,  21.7,  19.6,  27. ,\n",
       "         2. ,  44. ,  18.9,   4.6,  22.1,   7.4,  20.2,   6.2,   1. ,\n",
       "        35. ,  16.4,  19.9,  16.8,  38. ,  20.7,  17.5,  19. ,  29. ,\n",
       "         5.8,   2.3,  40. ,  18.4,   6.7,  20. ,  18.1,  20.4,  29.7,\n",
       "        20.5,  18.2,  68. ,  17.3,  19.3,  19.2,  19.7,  -1. ,   6.4,\n",
       "        22.2,  28. ,  23. ,  20.1,  39.3,   5.3,  19.1,  32. ,   4.7,\n",
       "        24.3,   6.9,  21.4,   3.2,   1.3,  33.5,  61. ,  20.6,  34. ,\n",
       "        31. ,  36. ,   4.4,  19.5,  23.9,  22.5,   3.4,  53. ,  36.5,\n",
       "        27.2,   3.8,  24.5,  60. ,  -2. ,  51. ,  57. ,   3.5,  21.2,\n",
       "       -11. ,   6.1,  42. ,  39. ,   3.7,  28.3,   2.5,  45. ,  21.3,\n",
       "         4.8,  21.9,  72. ,  23.4,  37. ,  50. ,  18.7,  -7. ,  41. ,\n",
       "        22.6,  81. ,  48. ,  21.5,  24.7,  21.8,  -0.5,  77. ,  23.6,\n",
       "         2.8,   5.4,  24.4,  24.8,  43. ,  37.7,  32.5,  54. ,   3.6,\n",
       "         3.3,  21.6,   3.1,   5.1,  -3.5,   0.1,   0.5,   0.3,   4.3,\n",
       "         0.2,  28.5,  -6. ,  25.3,  25.2,  20.9,  34.5,  55. ,  49. ,\n",
       "        73. ,   2.7,  25.6,  27.4,  26.5,  27.1])"
      ]
     },
     "execution_count": 114,
     "metadata": {},
     "output_type": "execute_result"
    }
   ],
   "source": [
    "df['ypc'].unique()"
   ]
  },
  {
   "cell_type": "code",
   "execution_count": 115,
   "id": "5a2b45df",
   "metadata": {},
   "outputs": [
    {
     "data": {
      "text/plain": [
       "11.3"
      ]
     },
     "execution_count": 115,
     "metadata": {},
     "output_type": "execute_result"
    }
   ],
   "source": [
    "df['ypc'].median()"
   ]
  },
  {
   "cell_type": "code",
   "execution_count": 116,
   "id": "70203a14",
   "metadata": {},
   "outputs": [
    {
     "data": {
      "text/plain": [
       "11.0    227\n",
       "10.0    225\n",
       "11.1    221\n",
       "11.5    203\n",
       "10.8    198\n",
       "11.2    197\n",
       "10.6    195\n",
       "12.2    195\n",
       "10.4    195\n",
       "12.0    193\n",
       "11.6    186\n",
       "10.5    183\n",
       "11.4    183\n",
       "11.3    182\n",
       "11.8    179\n",
       "10.2    176\n",
       "10.9    176\n",
       "9.8     174\n",
       "10.7    171\n",
       "11.7    169\n",
       "Name: ypc, dtype: int64"
      ]
     },
     "execution_count": 116,
     "metadata": {},
     "output_type": "execute_result"
    }
   ],
   "source": [
    "df['ypc'].value_counts().head(20)"
   ]
  },
  {
   "cell_type": "code",
   "execution_count": 117,
   "id": "b98e793b",
   "metadata": {},
   "outputs": [
    {
     "data": {
      "text/plain": [
       "True"
      ]
     },
     "execution_count": 117,
     "metadata": {},
     "output_type": "execute_result"
    }
   ],
   "source": [
    "df['ypc'].isnull().values.any()"
   ]
  },
  {
   "cell_type": "markdown",
   "id": "ae059a29",
   "metadata": {},
   "source": [
    "There are many 0.0 values in this column. A wide range of unique values and a max of 81 yards per catch."
   ]
  },
  {
   "cell_type": "markdown",
   "id": "f8475a0a",
   "metadata": {},
   "source": [
    "### 2.7.17 Home & Away Column<a id='2.7.17_Home_Away_Column'></a>"
   ]
  },
  {
   "cell_type": "code",
   "execution_count": 118,
   "id": "b3119873",
   "metadata": {},
   "outputs": [
    {
     "data": {
      "text/plain": [
       "count     13185\n",
       "unique        2\n",
       "top        home\n",
       "freq       6628\n",
       "Name: home_away, dtype: object"
      ]
     },
     "execution_count": 118,
     "metadata": {},
     "output_type": "execute_result"
    }
   ],
   "source": [
    "df['home_away'].describe()"
   ]
  },
  {
   "cell_type": "code",
   "execution_count": 119,
   "id": "2a9a6b6f",
   "metadata": {},
   "outputs": [
    {
     "data": {
      "text/plain": [
       "array(['away', 'home'], dtype=object)"
      ]
     },
     "execution_count": 119,
     "metadata": {},
     "output_type": "execute_result"
    }
   ],
   "source": [
    "df['home_away'].unique()"
   ]
  },
  {
   "cell_type": "code",
   "execution_count": 120,
   "id": "8053c152",
   "metadata": {},
   "outputs": [
    {
     "data": {
      "text/plain": [
       "home    6628\n",
       "away    6557\n",
       "Name: home_away, dtype: int64"
      ]
     },
     "execution_count": 120,
     "metadata": {},
     "output_type": "execute_result"
    }
   ],
   "source": [
    "df['home_away'].value_counts().head(20)"
   ]
  },
  {
   "cell_type": "code",
   "execution_count": 121,
   "id": "c333e361",
   "metadata": {},
   "outputs": [
    {
     "data": {
      "text/plain": [
       "False"
      ]
     },
     "execution_count": 121,
     "metadata": {},
     "output_type": "execute_result"
    }
   ],
   "source": [
    "df['home_away'].isnull().values.any()"
   ]
  },
  {
   "cell_type": "markdown",
   "id": "4123b9b1",
   "metadata": {},
   "source": [
    "There are 13,185 total games, (6,628+6,557). We will need to investigate why there are more home games than away if we have all the data for each game."
   ]
  },
  {
   "cell_type": "markdown",
   "id": "11691192",
   "metadata": {},
   "source": [
    "### 2.7.18 Year Column<a id='2.7.18_Year_Column'></a>"
   ]
  },
  {
   "cell_type": "code",
   "execution_count": 122,
   "id": "8588d52f",
   "metadata": {},
   "outputs": [
    {
     "data": {
      "text/plain": [
       "count    13185.000000\n",
       "mean      2005.898218\n",
       "std          6.013394\n",
       "min       1996.000000\n",
       "25%       2001.000000\n",
       "50%       2006.000000\n",
       "75%       2011.000000\n",
       "max       2016.000000\n",
       "Name: year, dtype: float64"
      ]
     },
     "execution_count": 122,
     "metadata": {},
     "output_type": "execute_result"
    }
   ],
   "source": [
    "df['year'].describe()"
   ]
  },
  {
   "cell_type": "code",
   "execution_count": 123,
   "id": "ac5cb52c",
   "metadata": {},
   "outputs": [
    {
     "data": {
      "text/plain": [
       "array([1996, 1997, 1998, 1999, 2000, 2001, 2002, 2003, 2004, 2005, 2006,\n",
       "       2007, 2008, 2009, 2010, 2011, 2012, 2013, 2014, 2015, 2016],\n",
       "      dtype=int64)"
      ]
     },
     "execution_count": 123,
     "metadata": {},
     "output_type": "execute_result"
    }
   ],
   "source": [
    "df['year'].unique()"
   ]
  },
  {
   "cell_type": "code",
   "execution_count": 124,
   "id": "81015e97",
   "metadata": {},
   "outputs": [
    {
     "data": {
      "text/plain": [
       "2009    668\n",
       "2003    663\n",
       "1999    649\n",
       "2004    648\n",
       "2002    647\n",
       "1998    642\n",
       "2000    640\n",
       "2007    639\n",
       "2005    637\n",
       "2008    626\n",
       "2010    625\n",
       "1997    624\n",
       "1996    621\n",
       "2006    620\n",
       "2014    616\n",
       "2011    614\n",
       "2001    611\n",
       "2016    610\n",
       "2012    604\n",
       "2015    592\n",
       "Name: year, dtype: int64"
      ]
     },
     "execution_count": 124,
     "metadata": {},
     "output_type": "execute_result"
    }
   ],
   "source": [
    "df['year'].value_counts().head(20)"
   ]
  },
  {
   "cell_type": "code",
   "execution_count": 125,
   "id": "53a346d3",
   "metadata": {},
   "outputs": [
    {
     "data": {
      "text/plain": [
       "False"
      ]
     },
     "execution_count": 125,
     "metadata": {},
     "output_type": "execute_result"
    }
   ],
   "source": [
    "df['year'].isnull().values.any()"
   ]
  },
  {
   "cell_type": "markdown",
   "id": "6ec21d76",
   "metadata": {},
   "source": [
    "Here we have more data on the year 2009 than 2015 by 76 games. Also why other years have different values if all 32 teams play 16 games a year, (for a total of 512 games per year). We should investigate this at a later stage in the exploration. "
   ]
  },
  {
   "cell_type": "markdown",
   "id": "fb61107d",
   "metadata": {},
   "source": [
    "### 2.8 Taking a Look at the Data as a Whole<a id='2.8_Taking_a_Look_at_the_Data_as_a_Whole'></a>"
   ]
  },
  {
   "cell_type": "code",
   "execution_count": 126,
   "id": "a621a796",
   "metadata": {},
   "outputs": [
    {
     "data": {
      "text/html": [
       "<div>\n",
       "<style scoped>\n",
       "    .dataframe tbody tr th:only-of-type {\n",
       "        vertical-align: middle;\n",
       "    }\n",
       "\n",
       "    .dataframe tbody tr th {\n",
       "        vertical-align: top;\n",
       "    }\n",
       "\n",
       "    .dataframe thead th {\n",
       "        text-align: right;\n",
       "    }\n",
       "</style>\n",
       "<table border=\"1\" class=\"dataframe\">\n",
       "  <thead>\n",
       "    <tr style=\"text-align: right;\">\n",
       "      <th></th>\n",
       "      <th>cmp</th>\n",
       "      <th>att</th>\n",
       "      <th>comp %</th>\n",
       "      <th>yds</th>\n",
       "      <th>td</th>\n",
       "      <th>int</th>\n",
       "      <th>rate</th>\n",
       "      <th>sack</th>\n",
       "      <th>game_points</th>\n",
       "      <th>ypa</th>\n",
       "      <th>ypc</th>\n",
       "      <th>td_per_cmp</th>\n",
       "      <th>td_per_att</th>\n",
       "      <th>loss_yds</th>\n",
       "      <th>year</th>\n",
       "    </tr>\n",
       "  </thead>\n",
       "  <tbody>\n",
       "    <tr>\n",
       "      <th>count</th>\n",
       "      <td>13185.000000</td>\n",
       "      <td>13185.000000</td>\n",
       "      <td>13185.000000</td>\n",
       "      <td>13185.000000</td>\n",
       "      <td>13185.000000</td>\n",
       "      <td>13185.000000</td>\n",
       "      <td>13171.000000</td>\n",
       "      <td>13185.00000</td>\n",
       "      <td>13185.000000</td>\n",
       "      <td>13185.000000</td>\n",
       "      <td>12466.000000</td>\n",
       "      <td>12466.000000</td>\n",
       "      <td>13088.000000</td>\n",
       "      <td>13171.000000</td>\n",
       "      <td>13185.000000</td>\n",
       "    </tr>\n",
       "    <tr>\n",
       "      <th>mean</th>\n",
       "      <td>16.126052</td>\n",
       "      <td>26.876071</td>\n",
       "      <td>58.110944</td>\n",
       "      <td>186.177722</td>\n",
       "      <td>1.118392</td>\n",
       "      <td>0.801062</td>\n",
       "      <td>80.242571</td>\n",
       "      <td>1.86113</td>\n",
       "      <td>21.379446</td>\n",
       "      <td>6.884475</td>\n",
       "      <td>11.788023</td>\n",
       "      <td>0.074899</td>\n",
       "      <td>0.047821</td>\n",
       "      <td>11.971225</td>\n",
       "      <td>2005.898218</td>\n",
       "    </tr>\n",
       "    <tr>\n",
       "      <th>std</th>\n",
       "      <td>8.771335</td>\n",
       "      <td>13.580485</td>\n",
       "      <td>21.333737</td>\n",
       "      <td>105.604116</td>\n",
       "      <td>1.119667</td>\n",
       "      <td>0.970170</td>\n",
       "      <td>32.068021</td>\n",
       "      <td>1.70127</td>\n",
       "      <td>10.663774</td>\n",
       "      <td>4.225494</td>\n",
       "      <td>4.441734</td>\n",
       "      <td>0.116793</td>\n",
       "      <td>0.104252</td>\n",
       "      <td>11.970053</td>\n",
       "      <td>6.013394</td>\n",
       "    </tr>\n",
       "    <tr>\n",
       "      <th>min</th>\n",
       "      <td>0.000000</td>\n",
       "      <td>0.000000</td>\n",
       "      <td>0.000000</td>\n",
       "      <td>-11.000000</td>\n",
       "      <td>0.000000</td>\n",
       "      <td>0.000000</td>\n",
       "      <td>0.000000</td>\n",
       "      <td>0.00000</td>\n",
       "      <td>0.000000</td>\n",
       "      <td>-11.000000</td>\n",
       "      <td>-11.000000</td>\n",
       "      <td>0.000000</td>\n",
       "      <td>0.000000</td>\n",
       "      <td>0.000000</td>\n",
       "      <td>1996.000000</td>\n",
       "    </tr>\n",
       "    <tr>\n",
       "      <th>25%</th>\n",
       "      <td>11.000000</td>\n",
       "      <td>20.000000</td>\n",
       "      <td>51.200000</td>\n",
       "      <td>115.000000</td>\n",
       "      <td>0.000000</td>\n",
       "      <td>0.000000</td>\n",
       "      <td>58.600000</td>\n",
       "      <td>0.00000</td>\n",
       "      <td>13.000000</td>\n",
       "      <td>5.200000</td>\n",
       "      <td>9.600000</td>\n",
       "      <td>0.000000</td>\n",
       "      <td>0.000000</td>\n",
       "      <td>0.000000</td>\n",
       "      <td>2001.000000</td>\n",
       "    </tr>\n",
       "    <tr>\n",
       "      <th>50%</th>\n",
       "      <td>17.000000</td>\n",
       "      <td>29.000000</td>\n",
       "      <td>60.000000</td>\n",
       "      <td>197.000000</td>\n",
       "      <td>1.000000</td>\n",
       "      <td>1.000000</td>\n",
       "      <td>80.900000</td>\n",
       "      <td>2.00000</td>\n",
       "      <td>21.000000</td>\n",
       "      <td>6.700000</td>\n",
       "      <td>11.300000</td>\n",
       "      <td>0.056000</td>\n",
       "      <td>0.031000</td>\n",
       "      <td>9.000000</td>\n",
       "      <td>2006.000000</td>\n",
       "    </tr>\n",
       "    <tr>\n",
       "      <th>75%</th>\n",
       "      <td>22.000000</td>\n",
       "      <td>36.000000</td>\n",
       "      <td>67.600000</td>\n",
       "      <td>260.000000</td>\n",
       "      <td>2.000000</td>\n",
       "      <td>1.000000</td>\n",
       "      <td>102.000000</td>\n",
       "      <td>3.00000</td>\n",
       "      <td>28.000000</td>\n",
       "      <td>8.100000</td>\n",
       "      <td>13.300000</td>\n",
       "      <td>0.100000</td>\n",
       "      <td>0.061000</td>\n",
       "      <td>18.000000</td>\n",
       "      <td>2011.000000</td>\n",
       "    </tr>\n",
       "    <tr>\n",
       "      <th>max</th>\n",
       "      <td>58.000000</td>\n",
       "      <td>69.000000</td>\n",
       "      <td>500.000000</td>\n",
       "      <td>527.000000</td>\n",
       "      <td>7.000000</td>\n",
       "      <td>7.000000</td>\n",
       "      <td>158.300000</td>\n",
       "      <td>12.00000</td>\n",
       "      <td>62.000000</td>\n",
       "      <td>81.000000</td>\n",
       "      <td>81.000000</td>\n",
       "      <td>1.000000</td>\n",
       "      <td>1.000000</td>\n",
       "      <td>91.000000</td>\n",
       "      <td>2016.000000</td>\n",
       "    </tr>\n",
       "  </tbody>\n",
       "</table>\n",
       "</div>"
      ],
      "text/plain": [
       "                cmp           att        comp %           yds            td  \\\n",
       "count  13185.000000  13185.000000  13185.000000  13185.000000  13185.000000   \n",
       "mean      16.126052     26.876071     58.110944    186.177722      1.118392   \n",
       "std        8.771335     13.580485     21.333737    105.604116      1.119667   \n",
       "min        0.000000      0.000000      0.000000    -11.000000      0.000000   \n",
       "25%       11.000000     20.000000     51.200000    115.000000      0.000000   \n",
       "50%       17.000000     29.000000     60.000000    197.000000      1.000000   \n",
       "75%       22.000000     36.000000     67.600000    260.000000      2.000000   \n",
       "max       58.000000     69.000000    500.000000    527.000000      7.000000   \n",
       "\n",
       "                int          rate         sack   game_points           ypa  \\\n",
       "count  13185.000000  13171.000000  13185.00000  13185.000000  13185.000000   \n",
       "mean       0.801062     80.242571      1.86113     21.379446      6.884475   \n",
       "std        0.970170     32.068021      1.70127     10.663774      4.225494   \n",
       "min        0.000000      0.000000      0.00000      0.000000    -11.000000   \n",
       "25%        0.000000     58.600000      0.00000     13.000000      5.200000   \n",
       "50%        1.000000     80.900000      2.00000     21.000000      6.700000   \n",
       "75%        1.000000    102.000000      3.00000     28.000000      8.100000   \n",
       "max        7.000000    158.300000     12.00000     62.000000     81.000000   \n",
       "\n",
       "                ypc    td_per_cmp    td_per_att      loss_yds          year  \n",
       "count  12466.000000  12466.000000  13088.000000  13171.000000  13185.000000  \n",
       "mean      11.788023      0.074899      0.047821     11.971225   2005.898218  \n",
       "std        4.441734      0.116793      0.104252     11.970053      6.013394  \n",
       "min      -11.000000      0.000000      0.000000      0.000000   1996.000000  \n",
       "25%        9.600000      0.000000      0.000000      0.000000   2001.000000  \n",
       "50%       11.300000      0.056000      0.031000      9.000000   2006.000000  \n",
       "75%       13.300000      0.100000      0.061000     18.000000   2011.000000  \n",
       "max       81.000000      1.000000      1.000000     91.000000   2016.000000  "
      ]
     },
     "execution_count": 126,
     "metadata": {},
     "output_type": "execute_result"
    }
   ],
   "source": [
    "df.describe()"
   ]
  },
  {
   "cell_type": "code",
   "execution_count": 127,
   "id": "e73f8e55",
   "metadata": {},
   "outputs": [
    {
     "data": {
      "text/html": [
       "<div>\n",
       "<style scoped>\n",
       "    .dataframe tbody tr th:only-of-type {\n",
       "        vertical-align: middle;\n",
       "    }\n",
       "\n",
       "    .dataframe tbody tr th {\n",
       "        vertical-align: top;\n",
       "    }\n",
       "\n",
       "    .dataframe thead th {\n",
       "        text-align: right;\n",
       "    }\n",
       "</style>\n",
       "<table border=\"1\" class=\"dataframe\">\n",
       "  <thead>\n",
       "    <tr style=\"text-align: right;\">\n",
       "      <th></th>\n",
       "      <th>0</th>\n",
       "      <th>1</th>\n",
       "      <th>2</th>\n",
       "      <th>3</th>\n",
       "      <th>4</th>\n",
       "      <th>5</th>\n",
       "      <th>6</th>\n",
       "      <th>7</th>\n",
       "      <th>8</th>\n",
       "      <th>9</th>\n",
       "      <th>...</th>\n",
       "      <th>13178</th>\n",
       "      <th>13179</th>\n",
       "      <th>13180</th>\n",
       "      <th>13181</th>\n",
       "      <th>13182</th>\n",
       "      <th>13183</th>\n",
       "      <th>13184</th>\n",
       "      <th>13185</th>\n",
       "      <th>13186</th>\n",
       "      <th>13187</th>\n",
       "    </tr>\n",
       "  </thead>\n",
       "  <tbody>\n",
       "    <tr>\n",
       "      <th>count</th>\n",
       "      <td>18</td>\n",
       "      <td>18.0</td>\n",
       "      <td>18</td>\n",
       "      <td>18</td>\n",
       "      <td>18</td>\n",
       "      <td>18</td>\n",
       "      <td>18</td>\n",
       "      <td>18</td>\n",
       "      <td>18</td>\n",
       "      <td>18</td>\n",
       "      <td>...</td>\n",
       "      <td>18</td>\n",
       "      <td>16</td>\n",
       "      <td>18</td>\n",
       "      <td>18</td>\n",
       "      <td>18.0</td>\n",
       "      <td>18</td>\n",
       "      <td>18</td>\n",
       "      <td>18</td>\n",
       "      <td>18</td>\n",
       "      <td>18</td>\n",
       "    </tr>\n",
       "    <tr>\n",
       "      <th>unique</th>\n",
       "      <td>15</td>\n",
       "      <td>17.0</td>\n",
       "      <td>15</td>\n",
       "      <td>15</td>\n",
       "      <td>18</td>\n",
       "      <td>18</td>\n",
       "      <td>16</td>\n",
       "      <td>17</td>\n",
       "      <td>10</td>\n",
       "      <td>17</td>\n",
       "      <td>...</td>\n",
       "      <td>10</td>\n",
       "      <td>7</td>\n",
       "      <td>17</td>\n",
       "      <td>12</td>\n",
       "      <td>17.0</td>\n",
       "      <td>16</td>\n",
       "      <td>16</td>\n",
       "      <td>17</td>\n",
       "      <td>15</td>\n",
       "      <td>18</td>\n",
       "    </tr>\n",
       "    <tr>\n",
       "      <th>top</th>\n",
       "      <td>0</td>\n",
       "      <td>0.0</td>\n",
       "      <td>0</td>\n",
       "      <td>0</td>\n",
       "      <td>Kerry CollinsK. Collins</td>\n",
       "      <td>Jeff BlakeJ. Blake</td>\n",
       "      <td>0</td>\n",
       "      <td>13</td>\n",
       "      <td>0</td>\n",
       "      <td>1</td>\n",
       "      <td>...</td>\n",
       "      <td>0</td>\n",
       "      <td>0</td>\n",
       "      <td>1</td>\n",
       "      <td>0</td>\n",
       "      <td>0.0</td>\n",
       "      <td>2</td>\n",
       "      <td>2</td>\n",
       "      <td>1</td>\n",
       "      <td>0</td>\n",
       "      <td>Colin KaepernickC. Kaepernick</td>\n",
       "    </tr>\n",
       "    <tr>\n",
       "      <th>freq</th>\n",
       "      <td>4</td>\n",
       "      <td>2.0</td>\n",
       "      <td>4</td>\n",
       "      <td>4</td>\n",
       "      <td>1</td>\n",
       "      <td>1</td>\n",
       "      <td>3</td>\n",
       "      <td>2</td>\n",
       "      <td>6</td>\n",
       "      <td>2</td>\n",
       "      <td>...</td>\n",
       "      <td>6</td>\n",
       "      <td>9</td>\n",
       "      <td>2</td>\n",
       "      <td>6</td>\n",
       "      <td>2.0</td>\n",
       "      <td>2</td>\n",
       "      <td>2</td>\n",
       "      <td>2</td>\n",
       "      <td>4</td>\n",
       "      <td>1</td>\n",
       "    </tr>\n",
       "  </tbody>\n",
       "</table>\n",
       "<p>4 rows × 13185 columns</p>\n",
       "</div>"
      ],
      "text/plain": [
       "        0      1      2      3                        4      \\\n",
       "count      18   18.0     18     18                       18   \n",
       "unique     15   17.0     15     15                       18   \n",
       "top         0    0.0      0      0  Kerry CollinsK. Collins   \n",
       "freq        4    2.0      4      4                        1   \n",
       "\n",
       "                     5      6      7      8      9      ...  13178 13179  \\\n",
       "count                   18     18     18     18     18  ...     18    16   \n",
       "unique                  18     16     17     10     17  ...     10     7   \n",
       "top     Jeff BlakeJ. Blake      0     13      0      1  ...      0     0   \n",
       "freq                     1      3      2      6      2  ...      6     9   \n",
       "\n",
       "        13180  13181  13182  13183  13184  13185  13186  \\\n",
       "count      18     18   18.0     18     18     18     18   \n",
       "unique     17     12   17.0     16     16     17     15   \n",
       "top         1      0    0.0      2      2      1      0   \n",
       "freq        2      6    2.0      2      2      2      4   \n",
       "\n",
       "                                13187  \n",
       "count                              18  \n",
       "unique                             18  \n",
       "top     Colin KaepernickC. Kaepernick  \n",
       "freq                                1  \n",
       "\n",
       "[4 rows x 13185 columns]"
      ]
     },
     "execution_count": 127,
     "metadata": {},
     "output_type": "execute_result"
    }
   ],
   "source": [
    "df.T.describe()"
   ]
  },
  {
   "cell_type": "code",
   "execution_count": 128,
   "id": "e816f3df",
   "metadata": {},
   "outputs": [
    {
     "name": "stdout",
     "output_type": "stream",
     "text": [
      "<class 'pandas.core.frame.DataFrame'>\n",
      "Int64Index: 13185 entries, 0 to 13187\n",
      "Data columns (total 18 columns):\n",
      " #   Column       Non-Null Count  Dtype  \n",
      "---  ------       --------------  -----  \n",
      " 0   qb           13185 non-null  object \n",
      " 1   cmp          13185 non-null  int64  \n",
      " 2   att          13185 non-null  int64  \n",
      " 3   comp %       13185 non-null  float64\n",
      " 4   yds          13185 non-null  float64\n",
      " 5   td           13185 non-null  int64  \n",
      " 6   int          13185 non-null  int32  \n",
      " 7   rate         13171 non-null  float64\n",
      " 8   long         13171 non-null  object \n",
      " 9   sack         13185 non-null  float64\n",
      " 10  game_points  13185 non-null  int64  \n",
      " 11  ypa          13185 non-null  float64\n",
      " 12  ypc          12466 non-null  float64\n",
      " 13  td_per_cmp   12466 non-null  float64\n",
      " 14  td_per_att   13088 non-null  float64\n",
      " 15  loss_yds     13171 non-null  float64\n",
      " 16  home_away    13185 non-null  object \n",
      " 17  year         13185 non-null  int64  \n",
      "dtypes: float64(9), int32(1), int64(5), object(3)\n",
      "memory usage: 2.4+ MB\n"
     ]
    }
   ],
   "source": [
    "df.info()"
   ]
  },
  {
   "cell_type": "code",
   "execution_count": 129,
   "id": "dcabeae7",
   "metadata": {},
   "outputs": [
    {
     "data": {
      "text/plain": [
       "(13185, 18)"
      ]
     },
     "execution_count": 129,
     "metadata": {},
     "output_type": "execute_result"
    }
   ],
   "source": [
    "df.shape"
   ]
  },
  {
   "cell_type": "markdown",
   "id": "5f3f05c7",
   "metadata": {},
   "source": [
    "Here we can see that we have some work to do to clean the data. td_per_att and loss_yds are missing some values. We have floats and integers as values."
   ]
  },
  {
   "cell_type": "code",
   "execution_count": 130,
   "id": "c00d4d6a",
   "metadata": {},
   "outputs": [],
   "source": [
    "df.to_csv('QB_stats.csv')"
   ]
  },
  {
   "cell_type": "markdown",
   "id": "a8dd16e4",
   "metadata": {},
   "source": [
    "### 2.9 Summary<a id='2.9_Summary'></a>"
   ]
  },
  {
   "cell_type": "markdown",
   "id": "5baa3b15",
   "metadata": {},
   "source": [
    "The data is very informative but we still have some work to do for us to predicted how many TDs a QB will throw. In this part of the data exploration we added rows, switched around the columns, cleaned some of the data and found key features of each columns like the standard deviation. This is a good foundation for the next chapter in the data exploration."
   ]
  }
 ],
 "metadata": {
  "kernelspec": {
   "display_name": "Python 3 (ipykernel)",
   "language": "python",
   "name": "python3"
  },
  "language_info": {
   "codemirror_mode": {
    "name": "ipython",
    "version": 3
   },
   "file_extension": ".py",
   "mimetype": "text/x-python",
   "name": "python",
   "nbconvert_exporter": "python",
   "pygments_lexer": "ipython3",
   "version": "3.9.7"
  }
 },
 "nbformat": 4,
 "nbformat_minor": 5
}
